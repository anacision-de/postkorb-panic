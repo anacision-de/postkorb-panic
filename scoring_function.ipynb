{
 "cells": [
  {
   "cell_type": "code",
   "execution_count": null,
   "id": "f2011520-7684-4a4f-97ee-2034a1b9e16e",
   "metadata": {},
   "outputs": [],
   "source": [
    "import numpy as np\n",
    "\n",
    "max_points_per_question = 10.0 \n",
    "nb_questions = 10\n",
    "\n",
    "def aux_nonlin_score(time_taken, scale, curve1, curve2):\n",
    "    if time_taken > 0:\n",
    "        return (1 + (time_taken / scale)**curve1)**(-curve2)\n",
    "    else:\n",
    "        return 1\n",
    "\n",
    "def score(answer_bool_vec, time_vec, ai_mode, ai_suggestion_picked, scale = 5.0, curve1 = 5.0, curve2 = 1.0,\n",
    "          max_neg_prop = 1.0):\n",
    "    if ai_mode:\n",
    "        if not (len(ai_suggestion_picked) == len(answer_bool_vec) == nb_questions == len(time_vec)):\n",
    "            return f\"Fehler: Antwortvektor und Vektor der Zeiten pro Frage müssen Laenge {nb_questions} haben\"\n",
    "\n",
    "    points_vec = np.zeros(nb_questions)\n",
    "    for i in range(nb_questions):\n",
    "        answer_bool = answer_bool_vec[i]\n",
    "        time = time_vec[i]\n",
    "        aux_score_val = aux_nonlin_score(time, scale, curve1, curve2)\n",
    "        pos_points = answer_bool * max_points_per_question * aux_score_val\n",
    "        if ai_mode:\n",
    "            neg_points = ai_suggestion_picked[i] * (1 - answer_bool) * max_points_per_question * max_neg_prop * aux_score_val\n",
    "        else:\n",
    "            neg_points = 0\n",
    "        points_vec[i] = pos_points - neg_points\n",
    "\n",
    "    points_sum = sum(points_vec)\n",
    "    if points_sum >= 0:\n",
    "        return points_sum\n",
    "    else:\n",
    "        return 0"
   ]
  },
  {
   "cell_type": "code",
   "execution_count": null,
   "id": "bc414d3f",
   "metadata": {},
   "outputs": [],
   "source": [
    "max_points_per_question = 10.0 \n",
    "\n",
    "def aux_nonlin_score(time_taken, scale, curve1, curve2):\n",
    "    if time_taken > 0:\n",
    "        return (1 + (time_taken / scale)**curve1)**(-curve2)\n",
    "    else:\n",
    "        return 1\n",
    "\n",
    "def score(answer_bool, time, ai_mode, ai_suggestion_picked, scale = 5.0, curve1 = 5.0, curve2 = 1.0, max_neg_prop = 1.0):\n",
    "    \n",
    "    aux_score_val = aux_nonlin_score(time, scale, curve1, curve2)\n",
    "    pos_points = answer_bool * max_points_per_question * aux_score_val\n",
    "    if ai_mode:\n",
    "        neg_points = ai_suggestion_picked * (1 - answer_bool) * max_points_per_question * max_neg_prop * aux_score_val\n",
    "    else:\n",
    "        neg_points = 0\n",
    "    points = pos_points - neg_points\n",
    "\n",
    "    if points >= 0:\n",
    "        return points\n",
    "    else:\n",
    "        return 0"
   ]
  }
 ],
 "metadata": {
  "kernelspec": {
   "display_name": "Python 3 (ipykernel)",
   "language": "python",
   "name": "python3"
  },
  "language_info": {
   "codemirror_mode": {
    "name": "ipython",
    "version": 3
   },
   "file_extension": ".py",
   "mimetype": "text/x-python",
   "name": "python",
   "nbconvert_exporter": "python",
   "pygments_lexer": "ipython3",
   "version": "3.13.2"
  }
 },
 "nbformat": 4,
 "nbformat_minor": 5
}
