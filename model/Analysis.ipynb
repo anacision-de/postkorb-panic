{
 "cells": [
  {
   "cell_type": "code",
   "execution_count": 1,
   "id": "47627bbe",
   "metadata": {},
   "outputs": [],
   "source": [
    "import pandas as pd\n",
    "from IPython.display import HTML"
   ]
  },
  {
   "cell_type": "code",
   "execution_count": 2,
   "id": "2baa08fa",
   "metadata": {},
   "outputs": [],
   "source": [
    "df = pd.read_json(\"../data/data.json\", orient=\"records\")"
   ]
  },
  {
   "cell_type": "code",
   "execution_count": 3,
   "id": "34df84a5",
   "metadata": {},
   "outputs": [
    {
     "data": {
      "text/plain": [
       "0.964"
      ]
     },
     "execution_count": 3,
     "metadata": {},
     "output_type": "execute_result"
    }
   ],
   "source": [
    "(df[\"label\"] == df[\"prediction\"]).mean()"
   ]
  },
  {
   "cell_type": "code",
   "execution_count": 4,
   "id": "9bd5ffd9",
   "metadata": {},
   "outputs": [],
   "source": [
    "pre = \"\"\"\n",
    "    <style>\n",
    "        .container {\n",
    "            white-space: pre-line;\n",
    "        }\n",
    "\n",
    "        .mark {\n",
    "            color: green;\n",
    "            background: rgb(200,255,200);\n",
    "        }\n",
    "    </style>\n",
    "    <div class=\"container\">\n",
    "\"\"\"\n",
    "\n",
    "post = \"\"\"\n",
    "    </div>\n",
    "\"\"\""
   ]
  },
  {
   "cell_type": "code",
   "execution_count": 7,
   "id": "de491f25",
   "metadata": {},
   "outputs": [
    {
     "name": "stdout",
     "output_type": "stream",
     "text": [
      "Label: Kundenservice\n",
      "Prediction: Kundenservice\n"
     ]
    },
    {
     "data": {
      "text/html": [
       "\n",
       "    <style>\n",
       "        .container {\n",
       "            white-space: pre-line;\n",
       "        }\n",
       "\n",
       "        .mark {\n",
       "            color: green;\n",
       "            background: rgb(200,255,200);\n",
       "        }\n",
       "    </style>\n",
       "    <div class=\"container\">\n",
       "Sehr geehrte Damen und Herren,\n",
       "\n",
       "ich hoffe, diese Nachricht erreicht Sie wohl. Ich wende mich an Sie, da ich Unterstützung beim <span class='mark'>Ausfüllen</span> einiger <span class='mark'>Formulare</span> benötige, die für den <span class='mark'>Antrag</span> auf die neue <span class='mark'>Fördermaßnahme</span> „Regiofit“ der Stadtverwaltung Waldenhausen erforderlich sind. Insbesondere sind mir einige der detaillierten Anweisungen unklar, etwa wie bestimmte Angaben zu meinen bisherigen wirtschaftlichen Aktivitäten oder zu den notwendigen Begleitdokumenten gemacht werden sollten. \n",
       "\n",
       "Um Missverständnisse zu vermeiden, habe ich einige Beispiele vorbereitet, die ich gerne mit einer sachkundigen Person durchgehen würde. Meine bisherigen Versuche, die <span class='mark'>Formulare</span> eigenständig zu bearbeiten, hatten leider zur Folge, dass ich sie mehrfach erneut beginnen musste. Dieses Prozedere möchte ich zukünftig vermeiden.\n",
       "\n",
       "Da meine Anfrage möglicherweise spezifische Informationen betrifft, die über allgemeine Antworten hinausgehen, wäre ich Ihnen für eine zügige Rückmeldung und gegebenenfalls einen Hinweis auf eine Kontaktperson sehr verbunden. Ich bin sicher, dass Ihre Unterstützung wesentlich zur erfolgreichen Bearbeitung meiner Angelegenheiten beitragen wird.\n",
       "\n",
       "Für Ihr Verständnis und Ihre Unterstützung bedanke ich mich im Voraus und freue mich auf Ihre Rückmeldung.\n",
       "\n",
       "Mit freundlichen Grüßen,\n",
       "\n",
       "Sophie Blattmann\n",
       "    </div>\n"
      ],
      "text/plain": [
       "<IPython.core.display.HTML object>"
      ]
     },
     "metadata": {},
     "output_type": "display_data"
    }
   ],
   "source": [
    "idx = 200\n",
    "\n",
    "print(\"Label:\", df[\"label\"][idx])\n",
    "print(\"Prediction:\", df[\"prediction\"][idx])\n",
    "\n",
    "display(HTML(pre + df[\"highlights\"][idx] + post))"
   ]
  },
  {
   "cell_type": "markdown",
   "id": "f53e7368",
   "metadata": {},
   "source": [
    "# Welche Beispiele macht das Modell falsch?"
   ]
  },
  {
   "cell_type": "code",
   "execution_count": 6,
   "id": "246d1386",
   "metadata": {},
   "outputs": [
    {
     "data": {
      "application/vnd.microsoft.datawrangler.viewer.v0+json": {
       "columns": [
        {
         "name": "index",
         "rawType": "int64",
         "type": "integer"
        },
        {
         "name": "text",
         "rawType": "object",
         "type": "string"
        },
        {
         "name": "label",
         "rawType": "object",
         "type": "string"
        },
        {
         "name": "prediction",
         "rawType": "object",
         "type": "string"
        },
        {
         "name": "highlights",
         "rawType": "object",
         "type": "string"
        }
       ],
       "ref": "dd9343f9-3727-4569-afe9-de2739f19e76",
       "rows": [
        [
         "3",
         "Guten Tag,\n\nich hoffe, es geht Ihnen gut. Ich wende mich mit einem Anliegen an Ihre geschätzte Behörde, das die rekreativen Arbeitsprozesse in einem Bereich betrifft, der für den steten Fortschritt des öffentlichen Dienstes essenziell ist. Im Rahmen meiner Tätigkeit bei der Acme GmbH habe ich einige Aspekte reflektiert, die eventuell von Interesse für Ihre Abteilung sein könnten.\n\nEs geht um ein innovatives Programm zur Optimierung von personellen Ressourcen, das bei uns kürzlich erfolgreich implementiert wurde. Bei Acme GmbH haben wir festgestellt, dass diese Maßnahmen nicht nur die Effizienz deutlich gesteigert haben, sondern auch mit einer positiven Auswirkung auf die allgemeine Zufriedenheit einhergingen. Gerne würde ich genauer über bewährte Praktiken und deren potenzielle Implementierung sprechen. \n\nSollten Sie daran interessiert sein, über strategische Anpassungen und Best Practices zu diskutieren, die von national und international agierenden Organisationen angewandt werden, freue ich mich über die Möglichkeit eines Austauschs mit Ihnen. Möglicherweise ergeben sich dabei wertvolle Perspektiven, die auch in den öffentlichen Strukturen anwendbar sind.\n\nFür Rückfragen stehe ich Ihnen selbstverständlich jederzeit zur Verfügung. Vielen Dank für Ihre Aufmerksamkeit und Zusammenarbeit.\n\nFreundliche Grüße,\n\nLudwig Brummelheimer",
         "Personalabteilung",
         "Leitungsebene",
         "Guten Tag,\n\nich hoffe, es geht Ihnen <span class='mark'>gut</span>. Ich wende mich mit einem Anliegen an Ihre geschätzte Behörde, das die rekreativen Arbeitsprozesse in einem Bereich betrifft, der für den steten Fortschritt des öffentlichen Dienstes essenziell ist. Im Rahmen meiner Tätigkeit bei der Acme GmbH <span class='mark'>habe</span> ich einige Aspekte reflektiert, die eventuell von Interesse für Ihre Abteilung sein könnten.\n\nEs geht um ein innovatives Programm zur Optimierung von personellen Ressourcen, das bei uns kürzlich erfolgreich implementiert wurde. Bei Acme GmbH <span class='mark'>haben</span> <span class='mark'>wir</span> festgestellt, dass diese Maßnahmen nicht nur die Effizienz <span class='mark'>deutlich</span> gesteigert <span class='mark'>haben</span>, sondern auch mit einer positiven Auswirkung auf die allgemeine Zufriedenheit einhergingen. Gerne würde ich genauer über bewährte Praktiken und deren potenzielle Implementierung <span class='mark'>sprechen</span>. \n\nSollten Sie daran interessiert sein, über <span class='mark'>strategische</span> Anpassungen und Best Practices zu <span class='mark'>diskutieren</span>, die von national und international agierenden Organisationen angewandt werden, freue ich mich über die Möglichkeit eines Austauschs mit Ihnen. Möglicherweise ergeben <span class='mark'>sich</span> dabei wertvolle Perspektiven, die auch in den öffentlichen Strukturen anwendbar sind.\n\nFür Rückfragen stehe ich Ihnen selbstverständlich jederzeit zur Verfügung. Vielen Dank für Ihre Aufmerksamkeit und Zusammenarbeit.\n\nFreundliche Grüße,\n\nLudwig Brummelheimer"
        ],
        [
         "17",
         "Sehr geehrte Damen und Herren,\n\nhiermit möchte ich Ihnen mitteilen, dass sich in meinen persönlichen Daten eine Änderung ergeben hat. Diese Anpassung betrifft meine Kontaktdaten, die in Ihren Unterlagen aktualisiert werden sollten, um zukünftigen Schriftverkehr reibungslos und zeitnah zu gewährleisten.\n\nVor allem möchte ich betonen, dass meine aktuelle Adresse nun wie folgt lautet: Sonnengasse 12, 12345 Musterdorf. Diese Neuregelung resultiert aus einem kürzlichen Umzug und soll sicherstellen, dass alle relevanten Informationen mich weiterhin ohne Verzögerungen erreichen können.\n\nDarüber hinaus möchte ich Ihnen mitteilen, dass es ebenfalls eine Änderung meines Namens gibt. Aufgrund einer persönlichen Entscheidung trage ich jetzt den Namen Alex Mustermann. Diese Anpassung ist bereits beim Einwohnermeldeamt registriert, sodass alle notwendigen behördlichen Anforderungen erfüllt sind.\n\nIch bitte um zeitnahe Aktualisierung dieser Informationen in Ihrem System. Sollten Sie weitere Dokumente benötigen, stehe ich Ihnen natürlich gerne zur Verfügung, um den reibungslosen Ablauf der Anpassung zu unterstützen.\n\nVielen Dank im Voraus für Ihre Unterstützung und Kooperation. \n\nMit freundlichen Grüßen,\n\nAlex Mustermann",
         "Personalabteilung",
         "Kundenservice",
         "Sehr geehrte Damen und Herren,\n\nhiermit möchte ich Ihnen mitteilen, dass sich in meinen persönlichen Daten eine Änderung ergeben hat. Diese Anpassung betrifft meine Kontaktdaten, die in Ihren Unterlagen aktualisiert werden sollten, um zukünftigen Schriftverkehr reibungslos und zeitnah zu gewährleisten.\n\nVor allem möchte ich betonen, dass meine aktuelle Adresse nun wie folgt lautet: Sonnengasse 12, 12345 Musterdorf. Diese Neuregelung resultiert aus einem kürzlichen Umzug und soll sicherstellen, dass alle relevanten Informationen mich weiterhin ohne Verzögerungen erreichen können.\n\nDarüber hinaus möchte ich Ihnen mitteilen, dass es ebenfalls eine Änderung meines Namens gibt. Aufgrund einer persönlichen Entscheidung trage ich jetzt den Namen Alex Mustermann. Diese Anpassung ist bereits beim <span class='mark'>Einwohnermeldeamt</span> registriert, sodass alle notwendigen behördlichen Anforderungen erfüllt sind.\n\nIch bitte um zeitnahe Aktualisierung dieser Informationen in Ihrem System. Sollten Sie weitere Dokumente benötigen, stehe ich Ihnen natürlich gerne zur Verfügung, um den reibungslosen Ablauf der Anpassung zu unterstützen.\n\nVielen Dank im Voraus für Ihre Unterstützung und Kooperation. \n\nMit freundlichen Grüßen,\n\nAlex Mustermann"
        ],
        [
         "49",
         "Sehr geehrte Damen und Herren,\n\nich hoffe, diese Nachricht erreicht Sie zu einem günstigen Zeitpunkt. Ich wende mich an Sie in Bezug auf eine spezielle Frage, die sich auf den Verwaltungsprozess innerhalb Ihrer geschätzten Institution bezieht. Vor kurzem hatte ich eine berufliche Begegnung mit der Firma HRConnect GmbH, die in engem Zusammenhang mit den administrativen Abläufen Ihrer Behörde steht.\n\nEin Punkt, der uns besonders interessiert, ist die Koordination und Organisation, die hinter den Kulissen erfolgt, insbesondere im Hinblick auf bestimmte interne strategische Maßnahmen, die das Wohl der Beschäftigten betreffen. Im Rahmen eines kürzlich durchgeführten Treffens gelangten einige Punkte zur Sprache, die möglicherweise einer zusätzlichen Klarstellung bedürfen könnten. Insbesondere schätzen wir die Art und Weise, wie spezifische Programme und Initiativen für eine inspirierende und produktive Umgebung sorgen.\n\nDa unser Unternehmen bestrebt ist, exzellente Standards zu implementieren, die mit den bestmöglichen Innovationen im Bereich Ressourcennutzung und Potenzialentwicklung verbunden sind, wäre ich Ihnen sehr dankbar, wenn Sie uns einige Informationen zukommen lassen könnten, die uns helfen, den aktuellen Prozessen gerecht zu werden und eventuelle Missverständnisse zu klären. \n\nIch danke Ihnen im Voraus für Ihre Unterstützung und freue mich auf Ihre geschätzte Antwort.\n\nMit freundlichen Grüßen,\n\nJohannes Vosselman",
         "Personalabteilung",
         "Leitungsebene",
         "Sehr geehrte Damen und Herren,\n\nich hoffe, diese Nachricht erreicht Sie zu einem günstigen Zeitpunkt. Ich wende mich an Sie in Bezug auf eine spezielle Frage, die sich auf den Verwaltungsprozess innerhalb Ihrer geschätzten Institution bezieht. Vor kurzem hatte ich eine <span class='mark'>berufliche</span> Begegnung mit der Firma HRConnect GmbH, die in engem Zusammenhang mit den administrativen Abläufen Ihrer Behörde steht.\n\nEin Punkt, der uns besonders interessiert, ist die Koordination und Organisation, die hinter den Kulissen erfolgt, insbesondere im Hinblick auf bestimmte interne <span class='mark'>strategische</span> Maßnahmen, die das Wohl der Beschäftigten betreffen. Im Rahmen eines kürzlich durchgeführten Treffens gelangten einige Punkte zur Sprache, die möglicherweise einer zusätzlichen Klarstellung bedürfen könnten. Insbesondere schätzen wir die Art und Weise, wie spezifische Programme und Initiativen für eine inspirierende und produktive Umgebung sorgen.\n\nDa unser Unternehmen bestrebt ist, exzellente Standards zu implementieren, die mit den bestmöglichen Innovationen im Bereich Ressourcennutzung und Potenzialentwicklung verbunden sind, wäre ich Ihnen sehr dankbar, wenn Sie uns einige Informationen zukommen lassen könnten, die uns helfen, den aktuellen Prozessen gerecht zu werden und eventuelle Missverständnisse zu klären. \n\nIch danke Ihnen im Voraus für Ihre Unterstützung und freue mich auf Ihre geschätzte Antwort.\n\nMit freundlichen Grüßen,\n\nJohannes Vosselman"
        ],
        [
         "110",
         "Sehr geehrte Damen und Herren,\n\nich hoffe, Sie hatten eine angenehme Woche. Ich wende mich an Ihr geschätztes Amt, um einen Antrag auf Einsicht in die entsprechenden Akten zu stellen, welche den Bauantrag des Unternehmens Müller & Söhne GmbH betreffen, der im Frühjahr 2022 bei Ihnen eingereicht worden war. Ich interessiere mich insbesondere für die Unterlagen, die sich auf die geplanten Zu- und Abfahrtsmöglichkeiten für Lieferfahrzeuge beziehen.\n\nMein Interesse an diesen Dokumenten ergibt sich aus der Tatsache, dass ich als direkter Anwohner der betroffenen Örtlichkeiten in der August-Bebel-Straße 12 in stetem Kontakt mit den veränderten Verkehrsbedingungen stehe. Da ich nicht sicher bin, ob alle nach gültiger Verordnung vorgesehenen Maßnahmen Beachtung gefunden haben, wäre es äußerst hilfreich, die betreffenden Akten in Augenschein nehmen zu können.\n\nBitte teilen Sie mir mit, wann und wie ich Einblick in diese Akten erhalten kann, damit ich etwaige Nachfragen und Anliegen zielgerichtet platzieren kann. Über eine positive Rückmeldung Ihrerseits würde ich mich sehr freuen und verbleibe mit freundlichen Grüßen in Vorfreude auf Ihre Antwort.\n\nMit besten Grüßen,\n\nHans Pfiffig",
         "Rechtsabteilung",
         "Kundenservice",
         "Sehr geehrte Damen und Herren,\n\nich hoffe, Sie hatten eine angenehme Woche. Ich wende mich an Ihr geschätztes Amt, um einen Antrag auf <span class='mark'>Einsicht</span> in die entsprechenden <span class='mark'>Akten</span> zu stellen, welche den <span class='mark'>Bauantrag</span> des Unternehmens Müller & Söhne GmbH betreffen, der im Frühjahr 2022 bei Ihnen eingereicht worden war. Ich interessiere mich insbesondere für die Unterlagen, die sich auf die geplanten Zu- und <span class='mark'>Abfahrtsmöglichkeiten</span> für Lieferfahrzeuge beziehen.\n\nMein Interesse an diesen <span class='mark'>Dokumenten</span> ergibt sich aus der Tatsache, dass ich als direkter Anwohner der betroffenen Örtlichkeiten in der August-Bebel-Straße 12 in stetem Kontakt mit den veränderten Verkehrsbedingungen stehe. Da ich nicht sicher bin, ob alle nach gültiger Verordnung vorgesehenen Maßnahmen Beachtung gefunden haben, wäre es äußerst hilfreich, die betreffenden <span class='mark'>Akten</span> in Augenschein nehmen zu können.\n\nBitte teilen Sie mir mit, wann und wie ich Einblick in diese <span class='mark'>Akten</span> erhalten kann, damit ich etwaige Nachfragen und Anliegen zielgerichtet platzieren kann. Über eine positive Rückmeldung Ihrerseits würde ich mich sehr freuen und verbleibe mit freundlichen Grüßen in Vorfreude auf Ihre Antwort.\n\nMit besten Grüßen,\n\nHans Pfiffig"
        ],
        [
         "132",
         "Hey,\n\nich hoffe, es geht Ihnen gut. Ich schreibe Ihnen wegen einer Angelegenheit, die etwas Unterstützung auf einer speziellen Ebene benötigt. Kürzlich habe ich ein kleines Abenteuer mit der Firma Goldbach AG und ihrem Vertrag zum Thema Grundstücksrecht erlebt. Da dieser Fall einige Besonderheiten enthält, ist es manchmal schwierig, die Feinheiten zu durchdringen, und es wäre super, darauf ein bisschen Expertise zu bekommen.\n\nWir sprechen über den Fall vom 18. Oktober 2023, der in Celle begonnen hat und über einige Umwege einiges an Aufmerksamkeit gewonnen hat. Daher wäre es toll, wenn jemand ein Auge darauf haben könnte, um sicherzustellen, dass alles im Rahmen bleibt. Der Austausch mit Ihren Kolleginnen und Kollegen in diesem Bereich war bislang immer bereichernd, und ich bin mir sicher, dass ihre Unterstützung hier Wunder bewirken kann.\n\nLetzten Endes möchte ich auf Nummer sicher gehen und hoffe auf eine offene Tür, um neue Perspektiven und Lösungen zu erkunden. Falls noch Informationen benötigt werden, um diesen Schritt bestmöglich zu unterstützen, lassen Sie es mich einfach wissen.\n\nVielen Dank im Voraus für Ihre Mühe und den Support.\n\nViele Grüße,\n\nFlorian Tüftler",
         "Rechtsabteilung",
         "Kundenservice",
         "Hey,\n\nich hoffe, es geht Ihnen gut. Ich schreibe Ihnen wegen einer <span class='mark'>Angelegenheit</span>, <span class='mark'>die</span> etwas Unterstützung auf einer speziellen Ebene benötigt. Kürzlich habe ich ein kleines Abenteuer mit der Firma <span class='mark'>Goldbach</span> AG und <span class='mark'>ihrem</span> Vertrag <span class='mark'>zum</span> Thema <span class='mark'>Grundstücksrecht</span> erlebt. Da dieser <span class='mark'>Fall</span> einige Besonderheiten enthält, ist es manchmal schwierig, die Feinheiten zu durchdringen, und es wäre super, darauf ein bisschen Expertise zu bekommen.\n\nWir sprechen über den <span class='mark'>Fall</span> vom 18. Oktober 2023, der in Celle begonnen hat und über einige Umwege einiges an Aufmerksamkeit gewonnen hat. Daher wäre es toll, wenn jemand ein Auge darauf haben könnte, um sicherzustellen, dass alles im <span class='mark'>Rahmen</span> bleibt. Der Austausch mit Ihren Kolleginnen und Kollegen in diesem Bereich war bislang immer bereichernd, und ich bin mir sicher, dass ihre Unterstützung hier Wunder bewirken kann.\n\nLetzten Endes möchte ich auf Nummer sicher gehen und hoffe auf eine <span class='mark'>offene</span> Tür, um neue Perspektiven und Lösungen zu erkunden. Falls noch Informationen benötigt werden, um diesen Schritt bestmöglich zu unterstützen, lassen Sie es mich einfach wissen.\n\nVielen Dank im Voraus für Ihre Mühe und den Support.\n\nViele Grüße,\n\nFlorian Tüftler"
        ],
        [
         "176",
         "Sehr geehrte Damen und Herren,\n\nich hoffe, es geht Ihnen gut. Ich wende mich heute an Sie in der Hoffnung, einige spezifische Informationen zu erhalten, die unser aktuelles Projekt betreffen. Wie Ihnen sicherlich bekannt ist, sind fundierte Entscheidungen und strategische Planung für den Erfolg einer Institution von entscheidender Bedeutung.\n\nWir sind derzeit dabei, eine umfassende Analyse des Wohnraumförderungsprogramms durchzuführen, das von Ihrer Stadtverwaltung im letzten Jahrzehnt implementiert wurde. Wir wären Ihnen dankbar, wenn Sie uns genaue Daten über die jährlichen Budgetzuweisungen, finanzielle Förderungsrichtlinien und die Anzahl begünstigter Haushalte seit 2012 zur Verfügung stellen könnten. Ein solcher Einblick ist für unsere Auswertung unerlässlich und könnte erhebliche Auswirkungen auf zukünftige Projekte und Planungen im Bereich der städtischen Entwicklung haben. \n\nIhre Unterstützung in dieser Angelegenheit wäre von unschätzbarem Wert. Bitte lassen Sie uns wissen, ob Sie weitere Informationen benötigen oder ob ein persönliches Treffen nützlich wäre, um die Details weiter zu besprechen.\n\nWir freuen uns darauf, von Ihnen zu hören und sind dankbar für Ihre Mithilfe. Für eine zeitnahe Rückmeldung wären wir Ihnen besonders verbunden.\n\nMit besten Grüßen,\n\nFriedrich Hempelburger",
         "Leitungsebene",
         "Finanzabteilung",
         "Sehr geehrte <span class='mark'>Damen</span> und Herren,\n\nich hoffe, es geht Ihnen <span class='mark'>gut</span>. Ich wende <span class='mark'>mich</span> heute an Sie in der Hoffnung, einige spezifische <span class='mark'>Informationen</span> zu erhalten, die unser aktuelles Projekt betreffen. Wie Ihnen sicherlich bekannt ist, sind fundierte Entscheidungen <span class='mark'>und</span> strategische <span class='mark'>Planung</span> für den Erfolg einer Institution von entscheidender <span class='mark'>Bedeutung</span>.\n\nWir sind derzeit dabei, eine umfassende Analyse des Wohnraumförderungsprogramms durchzuführen, das von Ihrer Stadtverwaltung im letzten Jahrzehnt implementiert wurde. Wir wären Ihnen dankbar, wenn Sie uns genaue Daten über die jährlichen <span class='mark'>Budgetzuweisungen</span>, finanzielle <span class='mark'>Förderungsrichtlinien</span> und die Anzahl begünstigter Haushalte seit 2012 zur Verfügung stellen könnten. Ein solcher Einblick ist für unsere Auswertung unerlässlich und könnte erhebliche Auswirkungen auf zukünftige Projekte und <span class='mark'>Planungen</span> im Bereich der städtischen Entwicklung haben. \n\nIhre Unterstützung in dieser Angelegenheit wäre von unschätzbarem Wert. Bitte lassen Sie uns wissen, ob Sie weitere Informationen benötigen oder ob ein persönliches Treffen nützlich wäre, um die Details weiter zu besprechen.\n\nWir freuen uns darauf, von Ihnen zu hören und sind dankbar für Ihre Mithilfe. Für eine zeitnahe Rückmeldung wären wir Ihnen besonders verbunden.\n\nMit besten Grüßen,\n\nFriedrich Hempelburger"
        ],
        [
         "206",
         "Guten Tag,\n\nich hoffe, es geht Ihnen gut. Ich wende mich heute an Sie mit einer Bitte um Erläuterung zu einem spezifischen Punkt in Ihren Unterlagen. Kürzlich stieß ich auf den Verwaltungsbegriff \"Praktikantenzuschussregelung 2022\" in einem Dokument Ihres Amtes. Da ich als Teil der Firma Sonnenschein GmbH in Bonn in einer unterstützenden Rolle tätig bin, betrifft mich diese Regelung im täglichen Umgang mit unseren Praktikanten.\n\nWir suchen stets nach optimierten Wegen, um unsere internen Prozesse zu verwalten und dabei sowohl den gesetzlichen Anforderungen als auch den Erwartungen an unseren Service gerecht zu werden. Unser Ziel ist es, die internen Abläufe so effizient wie möglich zu gestalten. Ein umfassendes Verständnis dieser Regelung wäre hierfür von besonderem Vorteil, damit wir unseren hochgeschätzten Praktikanten und Praktikantinnen den bestmöglichen Einstieg in die Berufswelt bieten können.\n\nEs wäre sehr hilfreich, zusätzliche Informationen darüber zu erhalten, wie diese Regelung umgesetzt wird und welche spezifischen Kriterien erfüllt sein müssen. Ergänzende Details oder Hinweise auf weiterführende Ressourcen wären ebenfalls von großem Nutzen.\n\nVielen Dank im Voraus für Ihre Unterstützung und die Zeit, die Sie sich für mein Anliegen nehmen.\n\nMit freundlichen Grüßen,\n\nMaximilian Faber",
         "Kundenservice",
         "Personalabteilung",
         "Guten Tag,\n\nich hoffe, es geht Ihnen gut. Ich wende mich heute an Sie mit einer Bitte um Erläuterung zu einem spezifischen Punkt in Ihren Unterlagen. Kürzlich stieß ich auf den Verwaltungsbegriff \"Praktikantenzuschussregelung 2022\" in einem Dokument Ihres Amtes. Da ich als Teil der Firma Sonnenschein GmbH in Bonn in einer unterstützenden Rolle tätig bin, betrifft mich diese Regelung im täglichen Umgang mit unseren <span class='mark'>Praktikanten</span>.\n\nWir suchen stets nach optimierten Wegen, um unsere internen Prozesse zu verwalten und dabei sowohl den gesetzlichen Anforderungen als auch den Erwartungen an unseren Service gerecht zu werden. Unser Ziel ist es, die internen Abläufe so effizient wie möglich zu gestalten. Ein umfassendes Verständnis dieser Regelung wäre hierfür von besonderem Vorteil, damit wir unseren hochgeschätzten <span class='mark'>Praktikanten</span> und <span class='mark'>Praktikantinnen</span> den bestmöglichen Einstieg in die <span class='mark'>Berufswelt</span> bieten können.\n\nEs wäre sehr hilfreich, zusätzliche Informationen darüber zu erhalten, wie diese Regelung umgesetzt wird und welche spezifischen Kriterien erfüllt sein müssen. Ergänzende Details oder Hinweise auf weiterführende Ressourcen wären ebenfalls von großem Nutzen.\n\nVielen Dank im Voraus für Ihre Unterstützung und die Zeit, die Sie sich für mein Anliegen nehmen.\n\nMit freundlichen Grüßen,\n\nMaximilian Faber"
        ],
        [
         "207",
         "Sehr geehrte Damen und Herren,\n\nich hoffe, diese Nachricht findet Sie wohl. In meiner Rolle als Sachbearbeiter in der Verwaltung bei der Firma Technosol GmbH, stoße ich regelmäßig auf den Begriff \"Verwaltungsprozess\", dessen genaue Definitionsnuancen in Bezug auf Ihren Aufgabenbereich mir nicht vollständig klar sind. Da unsere Abteilung darauf abzielt, den Informationsfluss zu optimieren und Missverständnisse zu vermeiden, wäre ich Ihnen sehr dankbar, wenn Sie hierzu etwas Klarheit schaffen könnten. \n\nInsbesondere interessieren mich die Vorgaben und Richtlinien, die Ihre Verwaltung in diesem Bereich festgelegt hat, und wie diese mit den allgemeinen Verwaltungsstandards harmonieren. Zuvor haben sich ähnliche Terminklärungen als durchaus wertvoll für unser Team erwiesen, was die Entscheidungsfindung und Effizienz signifikant verbessert hat.\n\nÜber eine zeitnahe Rückmeldung Ihrerseits würde ich mich freuen. Bei Unklarheiten oder zusätzlichen Fragen stehe ich jederzeit zur Verfügung. Vielen Dank im Voraus für Ihre Unterstützung und dass Sie sich die Zeit nehmen, uns bei unserem Anliegen zu helfen.\n\nMit freundlichen Grüßen,\n\nSebastian Kleinkopf",
         "Kundenservice",
         "Personalabteilung",
         "Sehr geehrte Damen und Herren,\n\nich hoffe, diese Nachricht findet Sie wohl. In meiner Rolle als Sachbearbeiter in der Verwaltung bei der Firma Technosol GmbH, stoße ich regelmäßig auf den Begriff \"Verwaltungsprozess\", dessen genaue Definitionsnuancen in Bezug auf <span class='mark'>Ihren</span> <span class='mark'>Aufgabenbereich</span> mir nicht vollständig klar sind. Da unsere Abteilung darauf abzielt, den Informationsfluss zu optimieren und Missverständnisse zu vermeiden, wäre ich Ihnen sehr dankbar, wenn Sie hierzu etwas Klarheit schaffen könnten. \n\nInsbesondere interessieren mich die Vorgaben und Richtlinien, die Ihre Verwaltung in diesem Bereich festgelegt hat, und wie diese mit den allgemeinen Verwaltungsstandards harmonieren. Zuvor haben sich ähnliche Terminklärungen als durchaus wertvoll für unser Team erwiesen, was die Entscheidungsfindung und Effizienz signifikant verbessert hat.\n\nÜber eine zeitnahe Rückmeldung Ihrerseits würde ich mich freuen. Bei Unklarheiten oder zusätzlichen Fragen stehe ich jederzeit zur Verfügung. Vielen Dank im Voraus für Ihre Unterstützung und dass Sie sich die Zeit nehmen, uns bei unserem Anliegen zu helfen.\n\nMit freundlichen Grüßen,\n\nSebastian Kleinkopf"
        ],
        [
         "242",
         "Sehr geehrte Damen und Herren,\n\nich hoffe, diese Nachricht trifft Sie wohl. Ich wende mich an Sie, um eine kürzlich erfolgte Änderung meiner persönlichen Daten mitzuteilen. Meine neue Anschrift lautet: Lindenstraße 42, 12345 Musterdorf. Diese Änderung betrifft alle meine laufenden Angelegenheiten und Kommunikationswege mit Ihrer Behörde. Des Weiteren möchte ich Sie darüber informieren, dass sich auch mein Nachname geändert hat. Ab sofort führe ich den Namen Anna Müller, und nicht mehr Anna Schmidt. \n\nIch gebe hiermit an, dass die vorgenannten Aktualisierungen in all Ihren Systemen baldmöglichst berücksichtigt werden. Es ist wichtig für mich, dass zukünftige Mitteilungen, die mich betreffen, von Ihnen mit den aktualisierten Daten bearbeitet werden. Sollten noch Fragen, Unsicherheiten oder etwaiger Klärungsbedarf zu den Veränderungen meiner Daten bestehen, zögern Sie bitte nicht, mich zu kontaktieren.\n\nVielen Dank im Voraus für Ihre Unterstützung und Bearbeitung dieser Angelegenheit. Ich schätze Ihre Bemühungen sehr und freue mich, auf weiterhin reibungslose und transparente Kommunikation mit Ihrer Behörde.\n\nMit freundlichen Grüßen,\n\nAnna Müller",
         "Kundenservice",
         "Personalabteilung",
         "Sehr geehrte Damen und Herren,\n\nich hoffe, diese Nachricht trifft Sie wohl. Ich wende mich an Sie, um eine kürzlich erfolgte Änderung meiner persönlichen Daten mitzuteilen. Meine neue <span class='mark'>Anschrift</span> lautet: Lindenstraße 42, 12345 Musterdorf. Diese Änderung betrifft alle meine laufenden Angelegenheiten und Kommunikationswege mit Ihrer Behörde. Des Weiteren möchte ich Sie darüber informieren, dass sich auch mein Nachname geändert hat. Ab sofort führe ich den Namen Anna Müller, und nicht mehr Anna Schmidt. \n\nIch gebe hiermit an, dass die vorgenannten Aktualisierungen in all Ihren <span class='mark'>Systemen</span> baldmöglichst berücksichtigt werden. Es ist wichtig für mich, dass zukünftige Mitteilungen, die mich betreffen, von Ihnen mit den aktualisierten Daten bearbeitet werden. Sollten noch Fragen, Unsicherheiten oder etwaiger Klärungsbedarf zu den Veränderungen meiner Daten bestehen, zögern Sie bitte nicht, mich zu kontaktieren.\n\nVielen Dank im Voraus für Ihre Unterstützung und Bearbeitung dieser Angelegenheit. Ich schätze Ihre Bemühungen sehr und freue mich, auf weiterhin reibungslose und transparente Kommunikation mit Ihrer Behörde.\n\nMit freundlichen Grüßen,\n\nAnna Müller"
        ]
       ],
       "shape": {
        "columns": 4,
        "rows": 9
       }
      },
      "text/html": [
       "<div>\n",
       "<style scoped>\n",
       "    .dataframe tbody tr th:only-of-type {\n",
       "        vertical-align: middle;\n",
       "    }\n",
       "\n",
       "    .dataframe tbody tr th {\n",
       "        vertical-align: top;\n",
       "    }\n",
       "\n",
       "    .dataframe thead th {\n",
       "        text-align: right;\n",
       "    }\n",
       "</style>\n",
       "<table border=\"1\" class=\"dataframe\">\n",
       "  <thead>\n",
       "    <tr style=\"text-align: right;\">\n",
       "      <th></th>\n",
       "      <th>text</th>\n",
       "      <th>label</th>\n",
       "      <th>prediction</th>\n",
       "      <th>highlights</th>\n",
       "    </tr>\n",
       "  </thead>\n",
       "  <tbody>\n",
       "    <tr>\n",
       "      <th>3</th>\n",
       "      <td>Guten Tag,\\n\\nich hoffe, es geht Ihnen gut. Ic...</td>\n",
       "      <td>Personalabteilung</td>\n",
       "      <td>Leitungsebene</td>\n",
       "      <td>Guten Tag,\\n\\nich hoffe, es geht Ihnen &lt;span c...</td>\n",
       "    </tr>\n",
       "    <tr>\n",
       "      <th>17</th>\n",
       "      <td>Sehr geehrte Damen und Herren,\\n\\nhiermit möch...</td>\n",
       "      <td>Personalabteilung</td>\n",
       "      <td>Kundenservice</td>\n",
       "      <td>Sehr geehrte Damen und Herren,\\n\\nhiermit möch...</td>\n",
       "    </tr>\n",
       "    <tr>\n",
       "      <th>49</th>\n",
       "      <td>Sehr geehrte Damen und Herren,\\n\\nich hoffe, d...</td>\n",
       "      <td>Personalabteilung</td>\n",
       "      <td>Leitungsebene</td>\n",
       "      <td>Sehr geehrte Damen und Herren,\\n\\nich hoffe, d...</td>\n",
       "    </tr>\n",
       "    <tr>\n",
       "      <th>110</th>\n",
       "      <td>Sehr geehrte Damen und Herren,\\n\\nich hoffe, S...</td>\n",
       "      <td>Rechtsabteilung</td>\n",
       "      <td>Kundenservice</td>\n",
       "      <td>Sehr geehrte Damen und Herren,\\n\\nich hoffe, S...</td>\n",
       "    </tr>\n",
       "    <tr>\n",
       "      <th>132</th>\n",
       "      <td>Hey,\\n\\nich hoffe, es geht Ihnen gut. Ich schr...</td>\n",
       "      <td>Rechtsabteilung</td>\n",
       "      <td>Kundenservice</td>\n",
       "      <td>Hey,\\n\\nich hoffe, es geht Ihnen gut. Ich schr...</td>\n",
       "    </tr>\n",
       "    <tr>\n",
       "      <th>176</th>\n",
       "      <td>Sehr geehrte Damen und Herren,\\n\\nich hoffe, e...</td>\n",
       "      <td>Leitungsebene</td>\n",
       "      <td>Finanzabteilung</td>\n",
       "      <td>Sehr geehrte &lt;span class='mark'&gt;Damen&lt;/span&gt; u...</td>\n",
       "    </tr>\n",
       "    <tr>\n",
       "      <th>206</th>\n",
       "      <td>Guten Tag,\\n\\nich hoffe, es geht Ihnen gut. Ic...</td>\n",
       "      <td>Kundenservice</td>\n",
       "      <td>Personalabteilung</td>\n",
       "      <td>Guten Tag,\\n\\nich hoffe, es geht Ihnen gut. Ic...</td>\n",
       "    </tr>\n",
       "    <tr>\n",
       "      <th>207</th>\n",
       "      <td>Sehr geehrte Damen und Herren,\\n\\nich hoffe, d...</td>\n",
       "      <td>Kundenservice</td>\n",
       "      <td>Personalabteilung</td>\n",
       "      <td>Sehr geehrte Damen und Herren,\\n\\nich hoffe, d...</td>\n",
       "    </tr>\n",
       "    <tr>\n",
       "      <th>242</th>\n",
       "      <td>Sehr geehrte Damen und Herren,\\n\\nich hoffe, d...</td>\n",
       "      <td>Kundenservice</td>\n",
       "      <td>Personalabteilung</td>\n",
       "      <td>Sehr geehrte Damen und Herren,\\n\\nich hoffe, d...</td>\n",
       "    </tr>\n",
       "  </tbody>\n",
       "</table>\n",
       "</div>"
      ],
      "text/plain": [
       "                                                  text              label  \\\n",
       "3    Guten Tag,\\n\\nich hoffe, es geht Ihnen gut. Ic...  Personalabteilung   \n",
       "17   Sehr geehrte Damen und Herren,\\n\\nhiermit möch...  Personalabteilung   \n",
       "49   Sehr geehrte Damen und Herren,\\n\\nich hoffe, d...  Personalabteilung   \n",
       "110  Sehr geehrte Damen und Herren,\\n\\nich hoffe, S...    Rechtsabteilung   \n",
       "132  Hey,\\n\\nich hoffe, es geht Ihnen gut. Ich schr...    Rechtsabteilung   \n",
       "176  Sehr geehrte Damen und Herren,\\n\\nich hoffe, e...      Leitungsebene   \n",
       "206  Guten Tag,\\n\\nich hoffe, es geht Ihnen gut. Ic...      Kundenservice   \n",
       "207  Sehr geehrte Damen und Herren,\\n\\nich hoffe, d...      Kundenservice   \n",
       "242  Sehr geehrte Damen und Herren,\\n\\nich hoffe, d...      Kundenservice   \n",
       "\n",
       "            prediction                                         highlights  \n",
       "3        Leitungsebene  Guten Tag,\\n\\nich hoffe, es geht Ihnen <span c...  \n",
       "17       Kundenservice  Sehr geehrte Damen und Herren,\\n\\nhiermit möch...  \n",
       "49       Leitungsebene  Sehr geehrte Damen und Herren,\\n\\nich hoffe, d...  \n",
       "110      Kundenservice  Sehr geehrte Damen und Herren,\\n\\nich hoffe, S...  \n",
       "132      Kundenservice  Hey,\\n\\nich hoffe, es geht Ihnen gut. Ich schr...  \n",
       "176    Finanzabteilung  Sehr geehrte <span class='mark'>Damen</span> u...  \n",
       "206  Personalabteilung  Guten Tag,\\n\\nich hoffe, es geht Ihnen gut. Ic...  \n",
       "207  Personalabteilung  Sehr geehrte Damen und Herren,\\n\\nich hoffe, d...  \n",
       "242  Personalabteilung  Sehr geehrte Damen und Herren,\\n\\nich hoffe, d...  "
      ]
     },
     "execution_count": 6,
     "metadata": {},
     "output_type": "execute_result"
    }
   ],
   "source": [
    "df[df[\"label\"] != df[\"prediction\"]]"
   ]
  },
  {
   "cell_type": "code",
   "execution_count": null,
   "id": "fc83a13d",
   "metadata": {},
   "outputs": [],
   "source": []
  }
 ],
 "metadata": {
  "kernelspec": {
   "display_name": ".venv",
   "language": "python",
   "name": "python3"
  },
  "language_info": {
   "codemirror_mode": {
    "name": "ipython",
    "version": 3
   },
   "file_extension": ".py",
   "mimetype": "text/x-python",
   "name": "python",
   "nbconvert_exporter": "python",
   "pygments_lexer": "ipython3",
   "version": "3.12.5"
  }
 },
 "nbformat": 4,
 "nbformat_minor": 5
}
