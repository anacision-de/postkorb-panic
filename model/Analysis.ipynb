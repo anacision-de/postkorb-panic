{
 "cells": [
  {
   "cell_type": "code",
   "execution_count": 34,
   "id": "47627bbe",
   "metadata": {},
   "outputs": [],
   "source": [
    "import pandas as pd\n",
    "from IPython.display import HTML"
   ]
  },
  {
   "cell_type": "code",
   "execution_count": 35,
   "id": "2baa08fa",
   "metadata": {},
   "outputs": [],
   "source": [
    "df = pd.read_json(\"../data/data.json\", orient=\"records\")"
   ]
  },
  {
   "cell_type": "code",
   "execution_count": 36,
   "id": "9bd5ffd9",
   "metadata": {},
   "outputs": [],
   "source": [
    "pre = \"\"\"\n",
    "    <style>\n",
    "        .container {\n",
    "            white-space: pre-line;\n",
    "        }\n",
    "\n",
    "        .mark {\n",
    "            color: green;\n",
    "            background: rgb(200,255,200);\n",
    "        }\n",
    "    </style>\n",
    "    <div class=\"container\">\n",
    "\"\"\"\n",
    "\n",
    "post = \"\"\"\n",
    "    </div>\n",
    "\"\"\""
   ]
  },
  {
   "cell_type": "code",
   "execution_count": 37,
   "id": "315ee0e0",
   "metadata": {},
   "outputs": [
    {
     "data": {
      "application/vnd.microsoft.datawrangler.viewer.v0+json": {
       "columns": [
        {
         "name": "highlights",
         "rawType": "object",
         "type": "string"
        },
        {
         "name": "count",
         "rawType": "int64",
         "type": "integer"
        }
       ],
       "ref": "f53a71ca-4f98-4e81-96b7-14d082f3801b",
       "rows": [
        [
         "Informationen",
         "33"
        ],
        [
         "rechtlichen",
         "25"
        ],
        [
         "beruflichen",
         "23"
        ],
        [
         "nicht",
         "22"
        ],
        [
         "geht",
         "19"
        ],
        [
         "Dokumente",
         "17"
        ],
        [
         "berufliche",
         "17"
        ],
        [
         "Antrag",
         "15"
        ],
        [
         "strategischen",
         "14"
        ],
        [
         "Position",
         "13"
        ],
        [
         "gut",
         "13"
        ],
        [
         "welche",
         "13"
        ],
        [
         "Anfrage",
         "13"
        ],
        [
         "würden",
         "12"
        ],
        [
         "15",
         "12"
        ],
        [
         "Euro",
         "12"
        ],
        [
         "strategische",
         "12"
        ],
        [
         "gibt",
         "11"
        ],
        [
         "Rückfragen",
         "11"
        ],
        [
         "Formulare",
         "11"
        ],
        [
         "Unterstützung",
         "11"
        ],
        [
         "Herausforderungen",
         "10"
        ],
        [
         "Damen",
         "10"
        ],
        [
         "möchte",
         "10"
        ],
        [
         "gerne",
         "10"
        ],
        [
         "Angelegenheit",
         "9"
        ],
        [
         "erhalten",
         "9"
        ],
        [
         "Rückmeldung",
         "9"
        ],
        [
         "rechtliche",
         "9"
        ],
        [
         "Antwort",
         "9"
        ],
        [
         "noch",
         "9"
        ],
        [
         "geehrte",
         "9"
        ],
        [
         "Unterlagen",
         "8"
        ],
        [
         "wenn",
         "8"
        ],
        [
         "klären",
         "8"
        ],
        [
         "Praktikum",
         "8"
        ],
        [
         "Vertrag",
         "8"
        ],
        [
         "Bewerbung",
         "8"
        ],
        [
         "Ausgaben",
         "8"
        ],
        [
         "Auswirkungen",
         "8"
        ],
        [
         "Fähigkeiten",
         "7"
        ],
        [
         "Frage",
         "7"
        ],
        [
         "auch",
         "7"
        ],
        [
         "Fragen",
         "7"
        ],
        [
         "Stellenausschreibung",
         "7"
        ],
        [
         "gesetzlichen",
         "7"
        ],
        [
         "hier",
         "7"
        ],
        [
         "GmbH",
         "7"
        ],
        [
         "Rechnungen",
         "7"
        ],
        [
         "finanziellen",
         "7"
        ]
       ],
       "shape": {
        "columns": 1,
        "rows": 1183
       }
      },
      "text/plain": [
       "highlights\n",
       "Informationen      33\n",
       "rechtlichen        25\n",
       "beruflichen        23\n",
       "nicht              22\n",
       "geht               19\n",
       "                   ..\n",
       "vertragliche        1\n",
       "Herausforderung     1\n",
       "stehen              1\n",
       "beschäftige         1\n",
       "Rechtslage          1\n",
       "Name: count, Length: 1183, dtype: int64"
      ]
     },
     "execution_count": 37,
     "metadata": {},
     "output_type": "execute_result"
    }
   ],
   "source": [
    "# Häufigste gehighlightete Wörter\n",
    "df[\"highlights\"].str.findall(\"<span class='mark'>(.*?)</span>\").explode().value_counts()"
   ]
  },
  {
   "cell_type": "code",
   "execution_count": 38,
   "id": "de491f25",
   "metadata": {},
   "outputs": [
    {
     "name": "stdout",
     "output_type": "stream",
     "text": [
      "Label: Personalabteilung\n",
      "Prediction: Personalabteilung\n"
     ]
    },
    {
     "data": {
      "text/html": [
       "\n",
       "    <style>\n",
       "        .container {\n",
       "            white-space: pre-line;\n",
       "        }\n",
       "\n",
       "        .mark {\n",
       "            color: green;\n",
       "            background: rgb(200,255,200);\n",
       "        }\n",
       "    </style>\n",
       "    <div class=\"container\">\n",
       "Sehr geehrte Damen und Herren,\n",
       "\n",
       "ich hoffe, Ihnen geht es gut und Sie sind bereit, sich meiner kleinen Anfrage anzunehmen. Kürzlich habe ich ein Dokument <span class='mark'>erhalten</span>, das essentiell für meine zukünftige <span class='mark'>Karriere</span> ist, nämlich das <span class='mark'>Arbeitszeugnis</span> von meiner Zeit beim Tiefbauamt Unterhausen. Leider sind mir beim genauen Durchlesen einige kleine Ungereimtheiten aufgefallen, die ich gerne korrigieren lassen würde. Selbstverständlich achte ich die harte Arbeit, die in das Erstellen solcher Dokumente fließt, und schätze Ihre Unterstützung ungemein.\n",
       "\n",
       "Das Zeugnis bescheinigt mir Tätigkeiten, die ich nicht ausgeführt habe, und lässt andererseits wichtige Aspekte, die meine damalige Position betreffen, unerwähnt. Ich wäre Ihnen äußerst dankbar, wenn Sie eine Anpassung des Dokuments veranlassen könnten, sodass es meinen tatsächlichen <span class='mark'>Aufgaben</span> und Errungenschaften entspricht. Zusätzlich zu meiner korrigierten Positionsbezeichnung könnte eine Rücksprache mit meiner damaligen <span class='mark'>Vorgesetzten</span>, Frau Karin Lehmann, hilfreich sein.\n",
       "\n",
       "Da es sich um eine wesentliche Grundlage für meine <span class='mark'>berufliche</span> Zukunft handelt, hoffe ich auf eine zeitnahe Bearbeitung und danke herzlich im Voraus für Ihre Unterstützung. Falls Sie Fragen haben oder weitere Informationen benötigen, stehe ich Ihnen jederzeit <span class='mark'>gerne</span> zur Verfügung.\n",
       "\n",
       "Mit freundlichen Grüßen,\n",
       "\n",
       "Alfred Federbast\n",
       "    </div>\n"
      ],
      "text/plain": [
       "<IPython.core.display.HTML object>"
      ]
     },
     "metadata": {},
     "output_type": "display_data"
    }
   ],
   "source": [
    "idx = 1\n",
    "\n",
    "print(\"Label:\", df[\"label\"][idx])\n",
    "print(\"Prediction:\", df[\"prediction\"][idx])\n",
    "\n",
    "display(HTML(pre + df[\"highlights\"][idx] + post))"
   ]
  },
  {
   "cell_type": "markdown",
   "id": "f53e7368",
   "metadata": {},
   "source": [
    "# Welche Beispiele macht das Modell falsch?"
   ]
  },
  {
   "cell_type": "code",
   "execution_count": 39,
   "id": "246d1386",
   "metadata": {},
   "outputs": [
    {
     "data": {
      "application/vnd.microsoft.datawrangler.viewer.v0+json": {
       "columns": [
        {
         "name": "index",
         "rawType": "int64",
         "type": "integer"
        },
        {
         "name": "text",
         "rawType": "object",
         "type": "string"
        },
        {
         "name": "label",
         "rawType": "object",
         "type": "string"
        },
        {
         "name": "prediction",
         "rawType": "object",
         "type": "string"
        },
        {
         "name": "highlights",
         "rawType": "object",
         "type": "string"
        }
       ],
       "ref": "0bc88b68-1952-43bf-a0ac-451c165f76c6",
       "rows": [
        [
         "17",
         "Sehr geehrte Damen und Herren,\n\nhiermit möchte ich Ihnen mitteilen, dass sich in meinen persönlichen Daten eine Änderung ergeben hat. Diese Anpassung betrifft meine Kontaktdaten, die in Ihren Unterlagen aktualisiert werden sollten, um zukünftigen Schriftverkehr reibungslos und zeitnah zu gewährleisten.\n\nVor allem möchte ich betonen, dass meine aktuelle Adresse nun wie folgt lautet: Sonnengasse 12, 12345 Musterdorf. Diese Neuregelung resultiert aus einem kürzlichen Umzug und soll sicherstellen, dass alle relevanten Informationen mich weiterhin ohne Verzögerungen erreichen können.\n\nDarüber hinaus möchte ich Ihnen mitteilen, dass es ebenfalls eine Änderung meines Namens gibt. Aufgrund einer persönlichen Entscheidung trage ich jetzt den Namen Alex Mustermann. Diese Anpassung ist bereits beim Einwohnermeldeamt registriert, sodass alle notwendigen behördlichen Anforderungen erfüllt sind.\n\nIch bitte um zeitnahe Aktualisierung dieser Informationen in meiner Mitarbeiterakte. Sollten Sie weitere Dokumente benötigen, stehe ich Ihnen natürlich gerne zur Verfügung, um den reibungslosen Ablauf der Anpassung zu unterstützen.\n\nVielen Dank im Voraus für Ihre Unterstützung und Kooperation. \n\nMit freundlichen Grüßen,\n\nAlex Mustermann",
         "Personalabteilung",
         "Kundenservice",
         "Sehr geehrte Damen und Herren,\n\nhiermit möchte ich Ihnen mitteilen, dass sich in meinen persönlichen Daten eine Änderung ergeben hat. Diese Anpassung betrifft meine Kontaktdaten, die in Ihren Unterlagen aktualisiert werden sollten, um zukünftigen Schriftverkehr reibungslos und zeitnah zu gewährleisten.\n\nVor allem möchte ich betonen, dass meine aktuelle Adresse nun wie folgt lautet: Sonnengasse 12, 12345 Musterdorf. Diese Neuregelung resultiert aus einem kürzlichen Umzug und soll sicherstellen, dass alle relevanten Informationen mich weiterhin ohne Verzögerungen erreichen können.\n\nDarüber hinaus möchte ich Ihnen mitteilen, dass es ebenfalls eine Änderung meines Namens gibt. Aufgrund einer persönlichen Entscheidung trage ich jetzt den Namen Alex Mustermann. Diese Anpassung ist bereits beim Einwohnermeldeamt registriert, sodass alle notwendigen behördlichen Anforderungen erfüllt sind.\n\nIch bitte um zeitnahe Aktualisierung dieser Informationen in meiner <span class='mark'>Mitarbeiterakte</span>. Sollten Sie weitere Dokumente benötigen, stehe ich Ihnen natürlich gerne zur Verfügung, um den reibungslosen Ablauf der Anpassung zu unterstützen.\n\nVielen Dank im Voraus für Ihre Unterstützung und Kooperation. \n\nMit freundlichen Grüßen,\n\nAlex Mustermann"
        ],
        [
         "243",
         "Hallo,\n\nich hoffe Sie haben genau so schönes Wetter wie ich hier zuhause in Kleinstadt. Also, ich schreibe wegen eine Idee die mir eingefallen ist, wegen die Richtlinie, die haben Sie doch auch bestimmt gesehen, oder? Das mit den neuen Verkehrsschildern, die ja fast keiner versteht und schon gar keiner den Sinn davon weiß, vor allem nicht in der Adalbertstraße 7 bei Max und Egon GmbH. Das müsste einfach mal jemand mit Überblick anschauen, kam mir so in den Kopf, weil das da doch besonders große Laster betrifft. Ich meine, es muss doch jemand geben, der sehen kann, dass was gar nicht klar ist und dann kann man das doch irgendwie ändern, bevor noch mehr Chaos wird.\n\nWeiß nicht, ob das so gut ist, aber rede doch vielleicht einfach mal mit den Höhergestellten, die mehr Plan haben. Da gibt’s doch bestimmt jemanden, der mal Überblick hinkriegt, bevor das völlig verwerkelt. Den anderen habe ich ja schon geschrieben, aber vielleicht ist es nur Sie, die wirklich klären kann, was so richtig los ist.\n\nFall’s mehr braucht, melden Sie ruhig! Und danke für das irgendwie kucken. Will ja auch nichts falsch machen dabei, jedenfalls.\n\nBis dann,\n\nHugo Winterschmidt",
         "Leitungsebene",
         "Kundenservice",
         "Hallo,\n\nich hoffe Sie haben genau so <span class='mark'>schönes</span> <span class='mark'>Wetter</span> wie ich hier zuhause in Kleinstadt. Also, ich schreibe wegen eine Idee die mir eingefallen ist, wegen die Richtlinie, die haben Sie doch auch bestimmt gesehen, oder? Das mit den neuen <span class='mark'>Verkehrsschildern</span>, die ja fast keiner versteht und schon gar keiner den Sinn davon weiß, vor allem nicht in der Adalbertstraße 7 bei Max und Egon GmbH. Das müsste einfach mal jemand mit <span class='mark'>Überblick</span> anschauen, kam mir so in den Kopf, weil das da doch besonders große Laster betrifft. Ich meine, es muss doch jemand geben, der sehen kann, dass was gar <span class='mark'>nicht</span> klar ist und dann kann man das doch irgendwie ändern, bevor noch mehr Chaos wird.\n\nWeiß nicht, ob das so gut ist, aber rede doch vielleicht einfach mal mit den Höhergestellten, die mehr Plan haben. Da gibt’s doch bestimmt jemanden, der mal <span class='mark'>Überblick</span> hinkriegt, bevor das <span class='mark'>völlig</span> <span class='mark'>verwerkelt</span>. Den anderen habe ich ja schon geschrieben, aber vielleicht ist es nur Sie, die wirklich klären kann, was so <span class='mark'>richtig</span> los ist.\n\nFall’s mehr braucht, melden Sie ruhig! Und danke für das irgendwie kucken. Will ja auch nichts falsch machen dabei, jedenfalls.\n\n<span class='mark'>Bis</span> dann,\n\nHugo Winterschmidt"
        ],
        [
         "250",
         "Hallo!\n\nich hoffe diese Nachricht findet Sie gut. Also, ich wollte mal nachfragen wegen dieser Sache. Sie wissen schon, bezüglich der Dokumente, die mit meinen ganzen Informationen und meinem Arbeitszeug legt ist. Da ich in der letzten Zeit manchmal den Überblick verliere, wollte ich darauf gerne mal ein Auge werfen. In der Firma von Herrn Meier, die ja neulich fusioniert hat mit der Gruppe um Frau Schmitt, hab ich das schon mal gemacht. Hat alles geklappt!\n\nWäre es möglich mir eine Einsicht in die Papiere zu gewähren? Steht da nicht irgendwo was, wie man sowas Beantragen kann? Müsste ich mich für so einen Zugang einen Termin versehen oder wie läuft das ab? Die Daten müssten noch aktuell sein, oder?\n\nIch warte auf Ihre Rückmeldung und hoffe, dass alles glatt laufen kann. Am besten wäre, wenn wir das kommende Woche angehen könnten. Sie können mir gerne per E-Mail oder telefonisch Bescheid geben.\n\nVielen Dank und schönen Tag noch!\n\nGruß,  \nFrieda Walnussbaum  \n",
         "Personalabteilung",
         "Kundenservice",
         "Hallo!\n\nich hoffe diese Nachricht findet Sie gut. Also, ich wollte mal nachfragen wegen dieser Sache. Sie wissen schon, bezüglich der <span class='mark'>Dokumente</span>, die mit meinen ganzen Informationen und meinem Arbeitszeug legt ist. Da ich in der letzten Zeit manchmal den Überblick verliere, wollte ich darauf gerne mal ein Auge werfen. In der <span class='mark'>Firma</span> von Herrn Meier, die ja neulich <span class='mark'>fusioniert</span> hat mit der Gruppe um Frau Schmitt, hab ich das schon mal gemacht. Hat alles geklappt!\n\nWäre es möglich mir eine <span class='mark'>Einsicht</span> in die Papiere zu gewähren? Steht da nicht irgendwo was, wie man sowas <span class='mark'>Beantragen</span> kann? Müsste ich mich für so einen Zugang einen Termin versehen oder wie läuft das ab? Die Daten müssten noch aktuell sein, oder?\n\nIch warte auf Ihre Rückmeldung und hoffe, dass alles glatt laufen kann. Am besten wäre, wenn wir das kommende Woche angehen könnten. Sie können mir gerne per E-Mail oder telefonisch Bescheid geben.\n\nVielen Dank und schönen Tag noch!\n\nGruß,  \nFrieda Walnussbaum  \n"
        ],
        [
         "254",
         "Hallo zusammen,\n\nich wollte mal was wichtiges loswerden. Also, letztes Wochen hab ich was echt krasses erlebt. Ich hab mit mein Kumpel Jens bei der Verwaltung Norderstedt so ein Formular abgeben wollen. War schon etwas genervt, weil das dauert ja immer so lang und die Leute sind oft irgendwie so gestresst. Aber dann kam Herr Müller und der war echt mega freundlich. Hat alles erklärt, obwohl voll viel los war. Bin voll beeindruckt gewesen, weil sonst läufts ja nicht so glatt.\n\nAber jetzt mal Butter bei die Fische. Hab auch letztes Jahr so ne Sache gehabt mit die Müllentsorgung wo's echt nicht so smooth lief, sag ich mal. Das lag ja bestimmt an wen anders, aber wollt's nur kurz erwähnen. Manchmal muss ja jemand bisschen aufpassen, dass alles fair bleibt.\n\nNa ja, fand's wichtig, dass ma sagt, wenn mal was gut läuft und nicht nur immer beschweren. Herr Müller hat nen richtig guten Job gemacht und das soll halt auch mal an die richtigen Leute weitergereicht werden, find ich, den Schef oder sonstjemand der was zu sagen hat. Man merkt, wenn wer wirklich Ahnung hat in sowas wie Ordnung und so.\n\nMit besten Grüßen,  \nRüdiger Pfannkuchen  ",
         "Leitungsebene",
         "Kundenservice",
         "Hallo zusammen,\n\nich wollte mal was wichtiges loswerden. Also, letztes Wochen hab ich was echt krasses erlebt. Ich <span class='mark'>hab</span> mit mein <span class='mark'>Kumpel</span> Jens bei der Verwaltung Norderstedt <span class='mark'>so</span> ein <span class='mark'>Formular</span> abgeben wollen. War schon etwas genervt, weil das dauert ja immer so lang und die Leute sind oft irgendwie so gestresst. Aber dann kam Herr Müller und der war echt mega <span class='mark'>freundlich</span>. Hat alles erklärt, obwohl voll viel los war. Bin voll beeindruckt gewesen, weil sonst läufts ja nicht so glatt.\n\nAber jetzt mal Butter bei die Fische. Hab auch letztes Jahr so ne Sache gehabt mit die Müllentsorgung wo's echt nicht so smooth lief, sag ich mal. Das lag ja bestimmt an wen anders, aber wollt's nur kurz erwähnen. Manchmal muss ja jemand bisschen aufpassen, dass alles <span class='mark'>fair</span> bleibt.\n\nNa ja, fand's wichtig, dass ma sagt, wenn mal was <span class='mark'>gut</span> läuft und nicht nur immer beschweren. Herr Müller hat nen richtig guten <span class='mark'>Job</span> gemacht und das soll halt auch mal an die richtigen Leute <span class='mark'>weitergereicht</span> werden, find ich, den Schef oder sonstjemand der was zu sagen hat. Man merkt, wenn wer wirklich Ahnung hat in sowas wie Ordnung und so.\n\nMit besten Grüßen,  \n<span class='mark'>Rüdiger</span> Pfannkuchen  "
        ],
        [
         "257",
         "Hallo,\n\nich hab da mal eine Frage, die ich echt gern mit jemandem von euch klären würde, der sich so richtig gut auskennt und Entscheidungsgewalt hat, wenn möglich. Mir ist nämlich zu Ohren gekommen, dass es Änderungen in der Zuweisung der Fördermittel für kulturelle Projekte geben soll, konkret für die Projekte in der Region um Wildberg. Unsere kleine Initiative “Kultur am Fluss” ist besonders interessiert an den Förderungen für das kommende Jahr, da wir planen, das lokale Kunstfestival zu erweitern, und ich würde gerne wissen, ob wir da in die aktuellen Planungen irgendwie eingebunden werden können oder zumindest ehrlich Bescheid kriegen, wie der Hase läuft.\n\nOh, übrigens, unser Verein hat das letzte Jahr dieses Nachwuchs-Kunstprojekt „Junge Talente am Fluss“ veranstaltet, was ja im Bericht von eurer Verwaltung super positives Feedback bekommen hat, wenn ich mich recht erinnere. Wäre klasse, wenn jemand die Zeit für ein kurzes Gespräch fände, um zu schauen, wie unsere Interessen da reinpassen könnten. Am besten wäre nächste oder übernächste Woche, ich bin da recht flexibel. Ich würde echt ungern weiter mit anderen Instanzen plaudern ohne dass die Möglichkeit besteht, direkt mit euch was auszuknobeln. \n\nWär super, wenn wir da was arrangieren könnten.\n\nViele Grüße,\n\nUlli Unverhofft",
         "Leitungsebene",
         "Finanzabteilung",
         "Hallo,\n\nich hab da mal eine Frage, die ich echt gern mit jemandem von euch klären würde, der sich so richtig gut auskennt und <span class='mark'>Entscheidungsgewalt</span> hat, wenn möglich. Mir ist nämlich zu Ohren gekommen, dass es <span class='mark'>Änderungen</span> in der <span class='mark'>Zuweisung</span> der Fördermittel für kulturelle Projekte geben soll, konkret für die Projekte in der Region um Wildberg. Unsere kleine Initiative “Kultur am Fluss” ist besonders interessiert an den Förderungen für das kommende Jahr, da wir planen, das lokale Kunstfestival zu erweitern, und ich würde gerne wissen, ob wir da in die aktuellen Planungen irgendwie eingebunden werden können oder zumindest ehrlich Bescheid kriegen, wie der Hase läuft.\n\nOh, übrigens, unser Verein hat das letzte Jahr dieses Nachwuchs-Kunstprojekt „Junge Talente am Fluss“ veranstaltet, was ja im Bericht von eurer Verwaltung super positives Feedback bekommen hat, wenn ich mich recht erinnere. Wäre klasse, wenn jemand die Zeit für ein kurzes Gespräch fände, um zu schauen, wie unsere Interessen da reinpassen könnten. Am besten wäre nächste oder übernächste Woche, ich bin da recht flexibel. Ich würde echt ungern weiter mit anderen Instanzen plaudern ohne dass die Möglichkeit besteht, direkt mit euch was auszuknobeln. \n\nWär super, wenn wir da was arrangieren könnten.\n\nViele Grüße,\n\nUlli Unverhofft"
        ],
        [
         "271",
         "Ey Verwaltungsmenschen,\n\nalso ich habe da mal 'ne Frage wegen der Verwurstelung mit der Überstundenliste von diesem Jahr. Könnt ihr mir mal sagen, wie das jetzt alsoneu geregelt is? Hab da bisschen den Überblick verloren, scheint ja ständig was neues zu geben. Wir bei Mamas Knopfparadies sind ja eh immer so ne lustige Truppe, gell. Ich weiß, dass Ilsa Schulze da auch mal was wissen wollte. Vielleicht kann einer von euch da mal reinspitzeln und mir ne erhellende Antwort geben? Wäre wirklich cool.\n\nAch ja, danke schon mal und sonnige Grüße aus dem hoffentlich bald Corona-freien Eck hier! \n\nHorst von Steinfurt \n  \n",
         "Personalabteilung",
         "Kundenservice",
         "Ey <span class='mark'>Verwaltungsmenschen</span>,\n\nalso ich habe da mal 'ne Frage wegen der Verwurstelung mit der <span class='mark'>Überstundenliste</span> von diesem Jahr. Könnt ihr mir mal sagen, wie das jetzt alsoneu geregelt is? Hab da bisschen den Überblick verloren, scheint ja ständig was neues zu geben. Wir bei Mamas Knopfparadies sind ja eh immer so ne lustige Truppe, gell. Ich weiß, dass Ilsa Schulze da auch mal was wissen wollte. Vielleicht kann einer von euch da mal reinspitzeln und mir ne erhellende Antwort geben? Wäre wirklich cool.\n\nAch ja, danke schon mal und sonnige Grüße aus dem hoffentlich bald Corona-freien Eck hier! \n\nHorst von Steinfurt \n  \n"
        ],
        [
         "274",
         "hey leute,\n\nkönnt ihr mir mal das formular zuhaun, das ich für die abwicklung von diesen geförderten projekten brauch? glaub irgendwas mit m3-xyz echt umständlicher name, oder so. muss dringend prüfen ob ich meine Genehmigungen beim bauamt noch verschärfen kann. ist wichtig, sonst gibts problem mit unserer kostenplanung bei bühlmeister & co. ihr müsst das doch eh griffbereit haben, incl. info´s und sowas, oder? am besten emailen oder fax, ja das gibts noch verrückt ik weiß... bevor ihr wieder alles jahre dauert bis was läuft.\n\ngruß  \nbodo schmidt",
         "Kundenservice",
         "Finanzabteilung",
         "hey leute,\n\n<span class='mark'>könnt</span> ihr mir mal das <span class='mark'>formular</span> zuhaun, das ich für die <span class='mark'>abwicklung</span> von diesen geförderten projekten brauch? glaub <span class='mark'>irgendwas</span> mit m3-xyz echt umständlicher name, oder so. <span class='mark'>muss</span> dringend prüfen ob ich meine Genehmigungen beim bauamt noch verschärfen kann. ist <span class='mark'>wichtig</span>, sonst <span class='mark'>gibts</span> problem mit unserer kostenplanung bei bühlmeister & co. ihr <span class='mark'>müsst</span> das doch eh griffbereit haben, incl. info´s und sowas, oder? am besten emailen oder fax, ja das <span class='mark'>gibts</span> noch verrückt ik weiß... bevor ihr wieder alles jahre dauert <span class='mark'>bis</span> was läuft.\n\ngruß  \nbodo schmidt"
        ],
        [
         "277",
         "Hallo zusammen,\n\nAlso, ich hab da mal ne Rückmeldung, die wahrscheinlich nich ganz unter die normalen Dinge fällt, was ihr sonst so bei euch bekommt. Aber es ist echt wichtig und hat echt was mit Oberhäuptlingen und sowas bei euch zu tun. Vor kurzem hat's bei uns drunter weg mit Hernn Schmitt eine Zusammenarbeit gegeben mit dem Lagerhausprojekt, Wilhelm Hannover. Der Chef von eurer Seite war schwer in Ordnung. Mal was ganz anderes als was man von euch immer meint!!! Aber ja, einiges lief schief. Eigentlich hoff ich nur, dass das bei euch dann ankommt dort oben bei den Krawwatenheuptlingen. Hoffe das kam jetzt irgendwie trotzdem klar rüber.\n\nViele Grüße,\nKalle von Fistruck GmbH",
         "Leitungsebene",
         "Rechtsabteilung",
         "Hallo zusammen,\n\nAlso, ich hab da mal ne Rückmeldung, die wahrscheinlich nich ganz unter die normalen <span class='mark'>Dinge</span> fällt, was ihr sonst so bei euch bekommt. Aber es ist echt wichtig und hat echt was mit <span class='mark'>Oberhäuptlingen</span> und sowas bei euch zu tun. Vor kurzem hat's bei uns drunter weg mit Hernn Schmitt eine Zusammenarbeit gegeben mit dem Lagerhausprojekt, Wilhelm Hannover. Der Chef von eurer Seite war schwer in Ordnung. Mal was ganz <span class='mark'>anderes</span> als was man von euch immer meint!!! Aber ja, einiges lief schief. Eigentlich <span class='mark'>hoff</span> ich nur, dass das bei euch dann ankommt dort oben bei den <span class='mark'>Krawwatenheuptlingen</span>. Hoffe das kam jetzt irgendwie <span class='mark'>trotzdem</span> klar rüber.\n\nViele Grüße,\n<span class='mark'>Kalle</span> von Fistruck GmbH"
        ],
        [
         "280",
         "Hey,\n\nich hab mal ne schnelle Frage und hoffe, das ist hier richtig. Ich würde mich gern mal mit jemandem ganz oben von euch austauschen - braucht ihr ja wohl manchmal auch bei uns, demnach wärs doch kein Staatsgeheimnis, oder? Hauptsächlich geht's um die Sache mit AstroTech Innovations, ihr wisst schon, die Geschichte vom letzten Jahr. Hab voll die guten Infos und glaub, könnte euch wirklich ausm Schlamassel helfen. Vielleicht könnt ihr was am Kalender schieben für nen kurzen Plausch kommende Woche? So unter uns, ne?\n\nWürd mich freuen, wenn wir da schnell was gebacken kriegen.\n\nGrüße,\n\nTobi von Beckl Co. 🛰️",
         "Leitungsebene",
         "Kundenservice",
         "Hey,\n\nich hab mal ne schnelle <span class='mark'>Frage</span> und hoffe, das ist hier richtig. Ich würde mich gern mal mit <span class='mark'>jemandem</span> ganz oben von euch austauschen - braucht ihr ja wohl manchmal auch bei uns, demnach wärs doch kein <span class='mark'>Staatsgeheimnis</span>, oder? Hauptsächlich geht's um die Sache mit <span class='mark'>AstroTech</span> Innovations, ihr wisst schon, die <span class='mark'>Geschichte</span> vom <span class='mark'>letzten</span> Jahr. Hab voll die guten <span class='mark'>Infos</span> und glaub, könnte euch wirklich ausm <span class='mark'>Schlamassel</span> helfen. Vielleicht könnt ihr was am Kalender schieben für nen kurzen Plausch kommende Woche? So unter uns, ne?\n\nWürd mich freuen, wenn wir da schnell was gebacken kriegen.\n\nGrüße,\n\nTobi von Beckl Co. 🛰️"
        ],
        [
         "281",
         "Hey, Verwaltung Bundesmulde,\n\nIch hab was mit meine Rechnung von Wasserwerk, die sag voll nicht klare Zeug über Zähler von letztem August. Muss doch stimmen, ja? Die Zählers von Nachbarn war auch irgendwie komisch. Da läuft was nicht glatt hier gibt mir komisch diese Rechnung! Könnt ihr bitte gucken, warum das so ist? Meine Kumpel sagte gleiches damals, dann haben sie gefunden Fehler. Kann jemand das klären? Versteh das nicht genau, sorry... wird mega hilfreich!\n\nKönnt mir da schnell helfen. Wär super cool!\n\nGrüße  \nAlex",
         "Kundenservice",
         "Finanzabteilung",
         "<span class='mark'>Hey</span>, Verwaltung Bundesmulde,\n\nIch hab was mit meine Rechnung von Wasserwerk, die sag voll nicht klare Zeug über Zähler von letztem August. Muss doch stimmen, ja? Die <span class='mark'>Zählers</span> von Nachbarn war auch <span class='mark'>irgendwie</span> <span class='mark'>komisch</span>. Da <span class='mark'>läuft</span> was nicht <span class='mark'>glatt</span> hier gibt mir komisch diese Rechnung! Könnt ihr bitte gucken, warum das so ist? Meine Kumpel <span class='mark'>sagte</span> gleiches <span class='mark'>damals</span>, dann haben sie gefunden Fehler. Kann <span class='mark'>jemand</span> das klären? Versteh das nicht genau, sorry... wird mega hilfreich!\n\nKönnt mir da schnell helfen. <span class='mark'>Wär</span> super cool!\n\nGrüße  \nAlex"
        ],
        [
         "287",
         "Hey Leute,\n\nmuss das hier wohl jetzt doch mal in die Worte fassen, die man sonst ja lieber in Gardaubenschränken versteckt. Was soll das denn eigentlich?! Ihr schickt mir immer noch diese komischen Briefe ohne klaren Inhalt und eure Fristen sind ja wohl aus dem letzten Jahrtausend. Echt jetzt? Sperling GmbH, wir, haben noch nichts von euch über unserer Anfrage vom 04.06.2023 gehört und die Uhr tickt, Freunde! Ihr klopft da an die falsche Tür, wenn ich schreib ich unseren Kumpels von Richter&Klotz Bescheid und wir den ganzen Haufen hier durch die Mangel drehen! Hau rein und bekommt das geregelt!\n\nCheers,\nJustin von Sperling",
         "Rechtsabteilung",
         "Kundenservice",
         "Hey Leute,\n\nmuss das hier wohl jetzt doch mal in die Worte fassen, die man sonst ja lieber in Gardaubenschränken versteckt. Was soll das denn eigentlich?! Ihr schickt mir immer noch diese komischen <span class='mark'>Briefe</span> ohne <span class='mark'>klaren</span> Inhalt und eure <span class='mark'>Fristen</span> sind ja wohl aus dem letzten Jahrtausend. Echt jetzt? Sperling GmbH, wir, haben noch nichts von euch über unserer <span class='mark'>Anfrage</span> vom 04.06.2023 gehört und die Uhr tickt, Freunde! Ihr klopft da an die falsche Tür, wenn ich schreib ich unseren Kumpels von <span class='mark'>Richter</span>&Klotz Bescheid und wir den ganzen Haufen hier durch die Mangel drehen! Hau rein und bekommt das geregelt!\n\nCheers,\nJustin von Sperling"
        ],
        [
         "288",
         "Hallo an wer es funktoniert!\n\nIch hoffe das hier bei ihnen richtig landn tut? Ich bin ben Koen von der WorkerHelden GmbH und hab da mal etwas nachzuhaken. Gina wurde gesagt es wuder schon lange keine Antwort zu verleihen geben und auch der Schrön keine Anwort bekam er hat neue Worker. Ging um diese Bewerbung Bearbeitung, wo meine Kollege Isa noch warte auf Rürckmeldung. Genauergesagt war das Stichtieb 10. März 2023 wohl abgelaufen. Kann wegen kurze Rückastiire stattfinden oder meine keine Weitere Maßnahmen anroden bitte?\n\nMit freundlichste Gruß,\nKoen WorkerHelden GmbH",
         "Personalabteilung",
         "Kundenservice",
         "Hallo an wer es funktoniert!\n\nIch hoffe das hier bei ihnen richtig landn tut? Ich bin ben Koen von der WorkerHelden GmbH und hab da mal etwas nachzuhaken. Gina wurde gesagt es wuder schon lange keine Antwort zu verleihen geben und auch der Schrön keine Anwort bekam er hat neue <span class='mark'>Worker</span>. Ging um diese <span class='mark'>Bewerbung</span> Bearbeitung, wo meine Kollege Isa noch warte auf <span class='mark'>Rürckmeldung</span>. Genauergesagt war das <span class='mark'>Stichtieb</span> 10. März 2023 wohl abgelaufen. Kann wegen kurze Rückastiire stattfinden oder meine keine Weitere Maßnahmen anroden bitte?\n\nMit freundlichste Gruß,\nKoen WorkerHelden GmbH"
        ]
       ],
       "shape": {
        "columns": 4,
        "rows": 12
       }
      },
      "text/html": [
       "<div>\n",
       "<style scoped>\n",
       "    .dataframe tbody tr th:only-of-type {\n",
       "        vertical-align: middle;\n",
       "    }\n",
       "\n",
       "    .dataframe tbody tr th {\n",
       "        vertical-align: top;\n",
       "    }\n",
       "\n",
       "    .dataframe thead th {\n",
       "        text-align: right;\n",
       "    }\n",
       "</style>\n",
       "<table border=\"1\" class=\"dataframe\">\n",
       "  <thead>\n",
       "    <tr style=\"text-align: right;\">\n",
       "      <th></th>\n",
       "      <th>text</th>\n",
       "      <th>label</th>\n",
       "      <th>prediction</th>\n",
       "      <th>highlights</th>\n",
       "    </tr>\n",
       "  </thead>\n",
       "  <tbody>\n",
       "    <tr>\n",
       "      <th>17</th>\n",
       "      <td>Sehr geehrte Damen und Herren,\\n\\nhiermit möch...</td>\n",
       "      <td>Personalabteilung</td>\n",
       "      <td>Kundenservice</td>\n",
       "      <td>Sehr geehrte Damen und Herren,\\n\\nhiermit möch...</td>\n",
       "    </tr>\n",
       "    <tr>\n",
       "      <th>243</th>\n",
       "      <td>Hallo,\\n\\nich hoffe Sie haben genau so schönes...</td>\n",
       "      <td>Leitungsebene</td>\n",
       "      <td>Kundenservice</td>\n",
       "      <td>Hallo,\\n\\nich hoffe Sie haben genau so &lt;span c...</td>\n",
       "    </tr>\n",
       "    <tr>\n",
       "      <th>250</th>\n",
       "      <td>Hallo!\\n\\nich hoffe diese Nachricht findet Sie...</td>\n",
       "      <td>Personalabteilung</td>\n",
       "      <td>Kundenservice</td>\n",
       "      <td>Hallo!\\n\\nich hoffe diese Nachricht findet Sie...</td>\n",
       "    </tr>\n",
       "    <tr>\n",
       "      <th>254</th>\n",
       "      <td>Hallo zusammen,\\n\\nich wollte mal was wichtige...</td>\n",
       "      <td>Leitungsebene</td>\n",
       "      <td>Kundenservice</td>\n",
       "      <td>Hallo zusammen,\\n\\nich wollte mal was wichtige...</td>\n",
       "    </tr>\n",
       "    <tr>\n",
       "      <th>257</th>\n",
       "      <td>Hallo,\\n\\nich hab da mal eine Frage, die ich e...</td>\n",
       "      <td>Leitungsebene</td>\n",
       "      <td>Finanzabteilung</td>\n",
       "      <td>Hallo,\\n\\nich hab da mal eine Frage, die ich e...</td>\n",
       "    </tr>\n",
       "    <tr>\n",
       "      <th>271</th>\n",
       "      <td>Ey Verwaltungsmenschen,\\n\\nalso ich habe da ma...</td>\n",
       "      <td>Personalabteilung</td>\n",
       "      <td>Kundenservice</td>\n",
       "      <td>Ey &lt;span class='mark'&gt;Verwaltungsmenschen&lt;/spa...</td>\n",
       "    </tr>\n",
       "    <tr>\n",
       "      <th>274</th>\n",
       "      <td>hey leute,\\n\\nkönnt ihr mir mal das formular z...</td>\n",
       "      <td>Kundenservice</td>\n",
       "      <td>Finanzabteilung</td>\n",
       "      <td>hey leute,\\n\\n&lt;span class='mark'&gt;könnt&lt;/span&gt; ...</td>\n",
       "    </tr>\n",
       "    <tr>\n",
       "      <th>277</th>\n",
       "      <td>Hallo zusammen,\\n\\nAlso, ich hab da mal ne Rüc...</td>\n",
       "      <td>Leitungsebene</td>\n",
       "      <td>Rechtsabteilung</td>\n",
       "      <td>Hallo zusammen,\\n\\nAlso, ich hab da mal ne Rüc...</td>\n",
       "    </tr>\n",
       "    <tr>\n",
       "      <th>280</th>\n",
       "      <td>Hey,\\n\\nich hab mal ne schnelle Frage und hoff...</td>\n",
       "      <td>Leitungsebene</td>\n",
       "      <td>Kundenservice</td>\n",
       "      <td>Hey,\\n\\nich hab mal ne schnelle &lt;span class='m...</td>\n",
       "    </tr>\n",
       "    <tr>\n",
       "      <th>281</th>\n",
       "      <td>Hey, Verwaltung Bundesmulde,\\n\\nIch hab was mi...</td>\n",
       "      <td>Kundenservice</td>\n",
       "      <td>Finanzabteilung</td>\n",
       "      <td>&lt;span class='mark'&gt;Hey&lt;/span&gt;, Verwaltung Bund...</td>\n",
       "    </tr>\n",
       "    <tr>\n",
       "      <th>287</th>\n",
       "      <td>Hey Leute,\\n\\nmuss das hier wohl jetzt doch ma...</td>\n",
       "      <td>Rechtsabteilung</td>\n",
       "      <td>Kundenservice</td>\n",
       "      <td>Hey Leute,\\n\\nmuss das hier wohl jetzt doch ma...</td>\n",
       "    </tr>\n",
       "    <tr>\n",
       "      <th>288</th>\n",
       "      <td>Hallo an wer es funktoniert!\\n\\nIch hoffe das ...</td>\n",
       "      <td>Personalabteilung</td>\n",
       "      <td>Kundenservice</td>\n",
       "      <td>Hallo an wer es funktoniert!\\n\\nIch hoffe das ...</td>\n",
       "    </tr>\n",
       "  </tbody>\n",
       "</table>\n",
       "</div>"
      ],
      "text/plain": [
       "                                                  text              label  \\\n",
       "17   Sehr geehrte Damen und Herren,\\n\\nhiermit möch...  Personalabteilung   \n",
       "243  Hallo,\\n\\nich hoffe Sie haben genau so schönes...      Leitungsebene   \n",
       "250  Hallo!\\n\\nich hoffe diese Nachricht findet Sie...  Personalabteilung   \n",
       "254  Hallo zusammen,\\n\\nich wollte mal was wichtige...      Leitungsebene   \n",
       "257  Hallo,\\n\\nich hab da mal eine Frage, die ich e...      Leitungsebene   \n",
       "271  Ey Verwaltungsmenschen,\\n\\nalso ich habe da ma...  Personalabteilung   \n",
       "274  hey leute,\\n\\nkönnt ihr mir mal das formular z...      Kundenservice   \n",
       "277  Hallo zusammen,\\n\\nAlso, ich hab da mal ne Rüc...      Leitungsebene   \n",
       "280  Hey,\\n\\nich hab mal ne schnelle Frage und hoff...      Leitungsebene   \n",
       "281  Hey, Verwaltung Bundesmulde,\\n\\nIch hab was mi...      Kundenservice   \n",
       "287  Hey Leute,\\n\\nmuss das hier wohl jetzt doch ma...    Rechtsabteilung   \n",
       "288  Hallo an wer es funktoniert!\\n\\nIch hoffe das ...  Personalabteilung   \n",
       "\n",
       "          prediction                                         highlights  \n",
       "17     Kundenservice  Sehr geehrte Damen und Herren,\\n\\nhiermit möch...  \n",
       "243    Kundenservice  Hallo,\\n\\nich hoffe Sie haben genau so <span c...  \n",
       "250    Kundenservice  Hallo!\\n\\nich hoffe diese Nachricht findet Sie...  \n",
       "254    Kundenservice  Hallo zusammen,\\n\\nich wollte mal was wichtige...  \n",
       "257  Finanzabteilung  Hallo,\\n\\nich hab da mal eine Frage, die ich e...  \n",
       "271    Kundenservice  Ey <span class='mark'>Verwaltungsmenschen</spa...  \n",
       "274  Finanzabteilung  hey leute,\\n\\n<span class='mark'>könnt</span> ...  \n",
       "277  Rechtsabteilung  Hallo zusammen,\\n\\nAlso, ich hab da mal ne Rüc...  \n",
       "280    Kundenservice  Hey,\\n\\nich hab mal ne schnelle <span class='m...  \n",
       "281  Finanzabteilung  <span class='mark'>Hey</span>, Verwaltung Bund...  \n",
       "287    Kundenservice  Hey Leute,\\n\\nmuss das hier wohl jetzt doch ma...  \n",
       "288    Kundenservice  Hallo an wer es funktoniert!\\n\\nIch hoffe das ...  "
      ]
     },
     "execution_count": 39,
     "metadata": {},
     "output_type": "execute_result"
    }
   ],
   "source": [
    "df[df[\"label\"] != df[\"prediction\"]]"
   ]
  },
  {
   "cell_type": "code",
   "execution_count": 40,
   "id": "fc83a13d",
   "metadata": {},
   "outputs": [
    {
     "name": "stdout",
     "output_type": "stream",
     "text": [
      "Accuracy:  0.9591836734693877\n"
     ]
    }
   ],
   "source": [
    "print(\"Accuracy: \", (df[\"label\"] == df[\"prediction\"]).mean())"
   ]
  }
 ],
 "metadata": {
  "kernelspec": {
   "display_name": ".venv",
   "language": "python",
   "name": "python3"
  },
  "language_info": {
   "codemirror_mode": {
    "name": "ipython",
    "version": 3
   },
   "file_extension": ".py",
   "mimetype": "text/x-python",
   "name": "python",
   "nbconvert_exporter": "python",
   "pygments_lexer": "ipython3",
   "version": "3.12.5"
  }
 },
 "nbformat": 4,
 "nbformat_minor": 5
}
