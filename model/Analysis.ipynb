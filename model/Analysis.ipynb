{
 "cells": [
  {
   "cell_type": "code",
   "execution_count": 1,
   "id": "47627bbe",
   "metadata": {},
   "outputs": [],
   "source": [
    "import pandas as pd\n",
    "from IPython.display import HTML"
   ]
  },
  {
   "cell_type": "code",
   "execution_count": 2,
   "id": "2baa08fa",
   "metadata": {},
   "outputs": [],
   "source": [
    "df = pd.read_json(\"../data/data.json\", orient=\"records\")"
   ]
  },
  {
   "cell_type": "code",
   "execution_count": 3,
   "id": "34df84a5",
   "metadata": {},
   "outputs": [
    {
     "data": {
      "text/plain": [
       "0.992"
      ]
     },
     "execution_count": 3,
     "metadata": {},
     "output_type": "execute_result"
    }
   ],
   "source": [
    "(df[\"label\"] == df[\"prediction\"]).mean()"
   ]
  },
  {
   "cell_type": "code",
   "execution_count": 4,
   "id": "9bd5ffd9",
   "metadata": {},
   "outputs": [],
   "source": [
    "pre = \"\"\"\n",
    "    <style>\n",
    "        .container {\n",
    "            white-space: pre-line;\n",
    "        }\n",
    "\n",
    "        .mark {\n",
    "            color: green;\n",
    "            background: rgb(200,255,200);\n",
    "        }\n",
    "    </style>\n",
    "    <div class=\"container\">\n",
    "\"\"\"\n",
    "\n",
    "post = \"\"\"\n",
    "    </div>\n",
    "\"\"\""
   ]
  },
  {
   "cell_type": "code",
   "execution_count": null,
   "id": "de491f25",
   "metadata": {},
   "outputs": [],
   "source": [
    "idx = 132\n",
    "\n",
    "print(\"Label:\", df[\"label\"][idx])\n",
    "print(\"Prediction:\", df[\"prediction\"][idx])\n",
    "\n",
    "display(HTML(pre + df[\"highlights\"][idx] + post))"
   ]
  },
  {
   "cell_type": "markdown",
   "id": "f53e7368",
   "metadata": {},
   "source": [
    "# Welche Beispiele macht das Modell falsch?"
   ]
  },
  {
   "cell_type": "code",
   "execution_count": 5,
   "id": "246d1386",
   "metadata": {},
   "outputs": [
    {
     "data": {
      "application/vnd.microsoft.datawrangler.viewer.v0+json": {
       "columns": [
        {
         "name": "index",
         "rawType": "int64",
         "type": "integer"
        },
        {
         "name": "text",
         "rawType": "object",
         "type": "string"
        },
        {
         "name": "label",
         "rawType": "object",
         "type": "string"
        },
        {
         "name": "prediction",
         "rawType": "object",
         "type": "string"
        },
        {
         "name": "highlights",
         "rawType": "object",
         "type": "string"
        }
       ],
       "ref": "81fcdf2f-1a7a-446c-b68d-b26552b3968e",
       "rows": [
        [
         "17",
         "Sehr geehrte Damen und Herren,\n\nhiermit möchte ich Ihnen mitteilen, dass sich in meinen persönlichen Daten eine Änderung ergeben hat. Diese Anpassung betrifft meine Kontaktdaten, die in Ihren Unterlagen aktualisiert werden sollten, um zukünftigen Schriftverkehr reibungslos und zeitnah zu gewährleisten.\n\nVor allem möchte ich betonen, dass meine aktuelle Adresse nun wie folgt lautet: Sonnengasse 12, 12345 Musterdorf. Diese Neuregelung resultiert aus einem kürzlichen Umzug und soll sicherstellen, dass alle relevanten Informationen mich weiterhin ohne Verzögerungen erreichen können.\n\nDarüber hinaus möchte ich Ihnen mitteilen, dass es ebenfalls eine Änderung meines Namens gibt. Aufgrund einer persönlichen Entscheidung trage ich jetzt den Namen Alex Mustermann. Diese Anpassung ist bereits beim Einwohnermeldeamt registriert, sodass alle notwendigen behördlichen Anforderungen erfüllt sind.\n\nIch bitte um zeitnahe Aktualisierung dieser Informationen in meiner Mitarbeiterakte. Sollten Sie weitere Dokumente benötigen, stehe ich Ihnen natürlich gerne zur Verfügung, um den reibungslosen Ablauf der Anpassung zu unterstützen.\n\nVielen Dank im Voraus für Ihre Unterstützung und Kooperation. \n\nMit freundlichen Grüßen,\n\nAlex Mustermann",
         "Personalabteilung",
         "Kundenservice",
         "Sehr geehrte Damen und Herren,\n\nhiermit möchte ich Ihnen mitteilen, dass sich in meinen persönlichen Daten eine Änderung ergeben hat. Diese Anpassung betrifft meine Kontaktdaten, die in Ihren Unterlagen aktualisiert werden sollten, um zukünftigen Schriftverkehr reibungslos und zeitnah zu gewährleisten.\n\nVor allem möchte ich betonen, dass meine aktuelle Adresse nun wie folgt lautet: Sonnengasse 12, 12345 Musterdorf. Diese Neuregelung resultiert aus einem kürzlichen Umzug und soll sicherstellen, dass alle relevanten Informationen mich weiterhin ohne Verzögerungen erreichen können.\n\nDarüber hinaus möchte ich Ihnen mitteilen, dass es ebenfalls eine Änderung meines Namens gibt. Aufgrund einer persönlichen Entscheidung trage ich jetzt den Namen Alex Mustermann. Diese Anpassung ist bereits beim Einwohnermeldeamt registriert, sodass alle notwendigen behördlichen Anforderungen erfüllt sind.\n\nIch bitte um zeitnahe Aktualisierung dieser Informationen in meiner <span class='mark'>Mitarbeiterakte</span>. Sollten Sie weitere Dokumente benötigen, stehe ich Ihnen natürlich gerne zur Verfügung, um den reibungslosen Ablauf der Anpassung zu unterstützen.\n\nVielen Dank im Voraus für Ihre Unterstützung und Kooperation. \n\nMit freundlichen Grüßen,\n\nAlex Mustermann"
        ],
        [
         "132",
         "Hey,\n\nich hoffe, es geht Ihnen gut. Ich schreibe Ihnen wegen einer Angelegenheit, die etwas Unterstützung auf einer speziellen Ebene benötigt. Kürzlich habe ich ein kleines Abenteuer mit der Firma Goldbach AG und ihrem Vertrag zum Thema Grundstücksrecht erlebt. Da dieser Fall einige Besonderheiten enthält, ist es manchmal schwierig, die Feinheiten zu durchdringen, und es wäre super, darauf ein bisschen Expertise zu bekommen.\n\nWir sprechen über den Fall vom 18. Oktober 2023, der in Celle begonnen hat und über einige Umwege einiges an Aufmerksamkeit gewonnen hat. Daher wäre es toll, wenn jemand ein Auge darauf haben könnte, um sicherzustellen, dass alles im Rahmen bleibt. Der Austausch mit Ihren Kolleginnen und Kollegen in diesem Bereich war bislang immer bereichernd, und ich bin mir sicher, dass ihre Unterstützung hier Wunder bewirken kann.\n\nLetzten Endes möchte ich auf Nummer sicher gehen und hoffe auf eine offene Tür, um neue Perspektiven und Lösungen zu erkunden. Falls noch Informationen benötigt werden, um diesen Schritt bestmöglich zu unterstützen, lassen Sie es mich einfach wissen.\n\nVielen Dank im Voraus für Ihre Mühe und den Support.\n\nViele Grüße,\n\nFlorian Tüftler",
         "Rechtsabteilung",
         "Kundenservice",
         "Hey,\n\nich hoffe, es geht Ihnen gut. Ich schreibe Ihnen wegen einer <span class='mark'>Angelegenheit</span>, <span class='mark'>die</span> etwas Unterstützung auf einer speziellen Ebene benötigt. Kürzlich habe ich ein kleines Abenteuer mit der Firma <span class='mark'>Goldbach</span> AG und <span class='mark'>ihrem</span> Vertrag <span class='mark'>zum</span> Thema <span class='mark'>Grundstücksrecht</span> erlebt. Da dieser <span class='mark'>Fall</span> einige Besonderheiten enthält, ist es manchmal schwierig, die Feinheiten zu durchdringen, und es wäre super, darauf ein bisschen Expertise zu bekommen.\n\nWir sprechen über den <span class='mark'>Fall</span> vom 18. Oktober 2023, der in Celle begonnen hat und über einige Umwege einiges an Aufmerksamkeit gewonnen hat. Daher wäre es toll, wenn jemand ein Auge darauf haben könnte, um sicherzustellen, dass alles im <span class='mark'>Rahmen</span> bleibt. Der Austausch mit Ihren Kolleginnen und Kollegen in diesem Bereich war bislang immer bereichernd, und ich bin mir sicher, dass ihre Unterstützung hier Wunder bewirken kann.\n\nLetzten Endes möchte ich auf Nummer sicher gehen und hoffe auf eine <span class='mark'>offene</span> Tür, um neue Perspektiven und Lösungen zu erkunden. Falls noch Informationen benötigt werden, um diesen Schritt bestmöglich zu unterstützen, lassen Sie es mich einfach wissen.\n\nVielen Dank im Voraus für Ihre Mühe und den Support.\n\nViele Grüße,\n\nFlorian Tüftler"
        ]
       ],
       "shape": {
        "columns": 4,
        "rows": 2
       }
      },
      "text/html": [
       "<div>\n",
       "<style scoped>\n",
       "    .dataframe tbody tr th:only-of-type {\n",
       "        vertical-align: middle;\n",
       "    }\n",
       "\n",
       "    .dataframe tbody tr th {\n",
       "        vertical-align: top;\n",
       "    }\n",
       "\n",
       "    .dataframe thead th {\n",
       "        text-align: right;\n",
       "    }\n",
       "</style>\n",
       "<table border=\"1\" class=\"dataframe\">\n",
       "  <thead>\n",
       "    <tr style=\"text-align: right;\">\n",
       "      <th></th>\n",
       "      <th>text</th>\n",
       "      <th>label</th>\n",
       "      <th>prediction</th>\n",
       "      <th>highlights</th>\n",
       "    </tr>\n",
       "  </thead>\n",
       "  <tbody>\n",
       "    <tr>\n",
       "      <th>17</th>\n",
       "      <td>Sehr geehrte Damen und Herren,\\n\\nhiermit möch...</td>\n",
       "      <td>Personalabteilung</td>\n",
       "      <td>Kundenservice</td>\n",
       "      <td>Sehr geehrte Damen und Herren,\\n\\nhiermit möch...</td>\n",
       "    </tr>\n",
       "    <tr>\n",
       "      <th>132</th>\n",
       "      <td>Hey,\\n\\nich hoffe, es geht Ihnen gut. Ich schr...</td>\n",
       "      <td>Rechtsabteilung</td>\n",
       "      <td>Kundenservice</td>\n",
       "      <td>Hey,\\n\\nich hoffe, es geht Ihnen gut. Ich schr...</td>\n",
       "    </tr>\n",
       "  </tbody>\n",
       "</table>\n",
       "</div>"
      ],
      "text/plain": [
       "                                                  text              label  \\\n",
       "17   Sehr geehrte Damen und Herren,\\n\\nhiermit möch...  Personalabteilung   \n",
       "132  Hey,\\n\\nich hoffe, es geht Ihnen gut. Ich schr...    Rechtsabteilung   \n",
       "\n",
       "        prediction                                         highlights  \n",
       "17   Kundenservice  Sehr geehrte Damen und Herren,\\n\\nhiermit möch...  \n",
       "132  Kundenservice  Hey,\\n\\nich hoffe, es geht Ihnen gut. Ich schr...  "
      ]
     },
     "execution_count": 5,
     "metadata": {},
     "output_type": "execute_result"
    }
   ],
   "source": [
    "df[df[\"label\"] != df[\"prediction\"]]"
   ]
  },
  {
   "cell_type": "code",
   "execution_count": 7,
   "id": "fc83a13d",
   "metadata": {},
   "outputs": [
    {
     "name": "stdout",
     "output_type": "stream",
     "text": [
      "Accuracy:  0.992\n"
     ]
    }
   ],
   "source": [
    "print(\"Accuracy: \", (df[\"label\"] == df[\"prediction\"]).mean())"
   ]
  }
 ],
 "metadata": {
  "kernelspec": {
   "display_name": ".venv",
   "language": "python",
   "name": "python3"
  },
  "language_info": {
   "codemirror_mode": {
    "name": "ipython",
    "version": 3
   },
   "file_extension": ".py",
   "mimetype": "text/x-python",
   "name": "python",
   "nbconvert_exporter": "python",
   "pygments_lexer": "ipython3",
   "version": "3.12.5"
  }
 },
 "nbformat": 4,
 "nbformat_minor": 5
}
