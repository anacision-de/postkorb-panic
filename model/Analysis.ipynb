{
 "cells": [
  {
   "cell_type": "code",
   "execution_count": 1,
   "id": "47627bbe",
   "metadata": {},
   "outputs": [],
   "source": [
    "import pandas as pd\n",
    "from IPython.display import HTML"
   ]
  },
  {
   "cell_type": "code",
   "execution_count": 2,
   "id": "2baa08fa",
   "metadata": {},
   "outputs": [],
   "source": [
    "df = pd.read_json(\"../data/data.json\", orient=\"records\")"
   ]
  },
  {
   "cell_type": "code",
   "execution_count": 3,
   "id": "34df84a5",
   "metadata": {},
   "outputs": [
    {
     "data": {
      "text/plain": [
       "0.964"
      ]
     },
     "execution_count": 3,
     "metadata": {},
     "output_type": "execute_result"
    }
   ],
   "source": [
    "(df[\"label\"] == df[\"prediction\"]).mean()"
   ]
  },
  {
   "cell_type": "code",
   "execution_count": 4,
   "id": "9bd5ffd9",
   "metadata": {},
   "outputs": [],
   "source": [
    "pre = \"\"\"\n",
    "    <style>\n",
    "        .container {\n",
    "            white-space: pre-line;\n",
    "        }\n",
    "\n",
    "        .mark {\n",
    "            color: green;\n",
    "            background: rgb(200,255,200);\n",
    "        }\n",
    "    </style>\n",
    "    <div class=\"container\">\n",
    "\"\"\"\n",
    "\n",
    "post = \"\"\"\n",
    "    </div>\n",
    "\"\"\""
   ]
  },
  {
   "cell_type": "code",
   "execution_count": 9,
   "id": "de491f25",
   "metadata": {},
   "outputs": [
    {
     "name": "stdout",
     "output_type": "stream",
     "text": [
      "Label: Rechtsabteilung\n",
      "Prediction: Rechtsabteilung\n"
     ]
    },
    {
     "data": {
      "text/html": [
       "\n",
       "    <style>\n",
       "        .container {\n",
       "            white-space: pre-line;\n",
       "        }\n",
       "\n",
       "        .mark {\n",
       "            color: green;\n",
       "            background: rgb(200,255,200);\n",
       "        }\n",
       "    </style>\n",
       "    <div class=\"container\">\n",
       "Sehr geehrte Damen und Herren,\n",
       "\n",
       "ich hoffe, es geht Ihnen gut und Sie haben einen angenehmen Tag. Mit diesem Schreiben möchte ich gemäß des <span class='mark'>Informationsfreiheitsgesetzes</span> (IFG) eine Anfrage an Ihre Behörde richten. Es geht um <span class='mark'>Unterlagen</span> <span class='mark'>bezüglich</span> der <span class='mark'>Genehmigungsverfahren</span> der Fa. TechFuture <span class='mark'>GmbH</span> <span class='mark'>mit</span> Sitz in der Innovastraße 15, 20457 Hamburg, die im Zeitraum von Januar bis September dieses Jahres stattfanden. Die Einsichtnahme betrifft dokumentierte Entscheidungen und die Begründungen, die zur Erteilung oder Ablehnung von Genehmigungen führten.\n",
       "\n",
       "Für meine Zwecke wäre ein spezifischer Fokus auf die internen Abstimmungsprozesse ideal. Besonders interessieren mich in diesem Zusammenhang die Evaluierungskriterien und die Einerforderungen, denen die oben genannte Gesellschaft unterliegt. Sollten Dokumente Teile enthalten, die unter besonderen Schutz <span class='mark'>fallen</span>, bin ich mit der Einsicht stark von den relevanten Absätzen abhängig.\n",
       "\n",
       "Ich gehe davon aus, dass Ihre geschätzte Expertise mir eine zeitnahe und detaillierte Antwort ermöglicht. Für Rückfragen stehe ich telefonisch unter 040-12345678 zur Verfügung oder Sie können mich per E-Mail unter fragender@examplemail.de kontaktieren. Ich freue mich auf Ihre Rückmeldung und bedanke mich im Voraus für die Bearbeitung meiner Anfrage.\n",
       "\n",
       "Mit freundlichen Grüßen,\n",
       "\n",
       "Leonard Mysterium\n",
       "    </div>\n"
      ],
      "text/plain": [
       "<IPython.core.display.HTML object>"
      ]
     },
     "metadata": {},
     "output_type": "display_data"
    }
   ],
   "source": [
    "idx = 101\n",
    "\n",
    "print(\"Label:\", df[\"label\"][idx])\n",
    "print(\"Prediction:\", df[\"prediction\"][idx])\n",
    "\n",
    "display(HTML(pre + df[\"highlights\"][idx] + post))"
   ]
  },
  {
   "cell_type": "code",
   "execution_count": null,
   "id": "f53e7368",
   "metadata": {},
   "outputs": [],
   "source": []
  }
 ],
 "metadata": {
  "kernelspec": {
   "display_name": ".venv",
   "language": "python",
   "name": "python3"
  },
  "language_info": {
   "codemirror_mode": {
    "name": "ipython",
    "version": 3
   },
   "file_extension": ".py",
   "mimetype": "text/x-python",
   "name": "python",
   "nbconvert_exporter": "python",
   "pygments_lexer": "ipython3",
   "version": "3.12.5"
  }
 },
 "nbformat": 4,
 "nbformat_minor": 5
}
