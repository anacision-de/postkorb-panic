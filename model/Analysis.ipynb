{
 "cells": [
  {
   "cell_type": "code",
   "execution_count": 29,
   "id": "47627bbe",
   "metadata": {},
   "outputs": [],
   "source": [
    "import pandas as pd\n",
    "from IPython.display import HTML"
   ]
  },
  {
   "cell_type": "code",
   "execution_count": 30,
   "id": "2baa08fa",
   "metadata": {},
   "outputs": [],
   "source": [
    "df = pd.read_json(\"../data/data.json\", orient=\"records\")"
   ]
  },
  {
   "cell_type": "code",
   "execution_count": 31,
   "id": "9bd5ffd9",
   "metadata": {},
   "outputs": [],
   "source": [
    "pre = \"\"\"\n",
    "    <style>\n",
    "        .container {\n",
    "            white-space: pre-line;\n",
    "        }\n",
    "\n",
    "        .mark {\n",
    "            color: green;\n",
    "            background: rgb(200,255,200);\n",
    "        }\n",
    "    </style>\n",
    "    <div class=\"container\">\n",
    "\"\"\"\n",
    "\n",
    "post = \"\"\"\n",
    "    </div>\n",
    "\"\"\""
   ]
  },
  {
   "cell_type": "code",
   "execution_count": 32,
   "id": "315ee0e0",
   "metadata": {},
   "outputs": [
    {
     "data": {
      "application/vnd.microsoft.datawrangler.viewer.v0+json": {
       "columns": [
        {
         "name": "highlights",
         "rawType": "object",
         "type": "string"
        },
        {
         "name": "count",
         "rawType": "int64",
         "type": "integer"
        }
       ],
       "ref": "50f5b393-d501-4a01-a8ed-93153bae4d6d",
       "rows": [
        [
         "Informationen",
         "29"
        ],
        [
         "rechtlichen",
         "25"
        ],
        [
         "beruflichen",
         "23"
        ],
        [
         "nicht",
         "18"
        ],
        [
         "berufliche",
         "18"
        ],
        [
         "Dokumente",
         "15"
        ],
        [
         "geht",
         "15"
        ],
        [
         "Ihre",
         "14"
        ],
        [
         "strategischen",
         "14"
        ],
        [
         "Position",
         "13"
        ],
        [
         "Anfrage",
         "13"
        ],
        [
         "Euro",
         "13"
        ],
        [
         "welche",
         "13"
        ],
        [
         "strategische",
         "12"
        ],
        [
         "Rückfragen",
         "12"
        ],
        [
         "Antrag",
         "12"
        ],
        [
         "Unterstützung",
         "11"
        ],
        [
         "würden",
         "11"
        ],
        [
         "gibt",
         "10"
        ],
        [
         "Herausforderungen",
         "10"
        ],
        [
         "Angelegenheit",
         "10"
        ],
        [
         "15",
         "10"
        ],
        [
         "erhalten",
         "10"
        ],
        [
         "Damen",
         "9"
        ],
        [
         "gut",
         "9"
        ],
        [
         "Formulare",
         "9"
        ],
        [
         "Rückmeldung",
         "9"
        ],
        [
         "baldige",
         "8"
        ],
        [
         "noch",
         "8"
        ],
        [
         "Auswirkungen",
         "8"
        ],
        [
         "gerne",
         "8"
        ],
        [
         "Antwort",
         "8"
        ],
        [
         "finanziellen",
         "8"
        ],
        [
         "Ausgaben",
         "8"
        ],
        [
         "möchte",
         "8"
        ],
        [
         "bereits",
         "8"
        ],
        [
         "Praktikum",
         "8"
        ],
        [
         "geehrte",
         "8"
        ],
        [
         "gesetzlichen",
         "7"
        ],
        [
         "auch",
         "7"
        ],
        [
         "Fragen",
         "7"
        ],
        [
         "rechtliche",
         "7"
        ],
        [
         "finanzielle",
         "7"
        ],
        [
         "Stellenausschreibung",
         "7"
        ],
        [
         "Tätigkeit",
         "7"
        ],
        [
         "Bewerbung",
         "6"
        ],
        [
         "Fähigkeiten",
         "6"
        ],
        [
         "Entwicklung",
         "6"
        ],
        [
         "Interesse",
         "6"
        ],
        [
         "Unterlagen",
         "6"
        ]
       ],
       "shape": {
        "columns": 1,
        "rows": 1046
       }
      },
      "text/plain": [
       "highlights\n",
       "Informationen           29\n",
       "rechtlichen             25\n",
       "beruflichen             23\n",
       "nicht                   18\n",
       "berufliche              18\n",
       "                        ..\n",
       "Geschäftspraktiken       1\n",
       "urheberrechtlich         1\n",
       "geschütztem              1\n",
       "Rechteinterpretation     1\n",
       "Infos                    1\n",
       "Name: count, Length: 1046, dtype: int64"
      ]
     },
     "execution_count": 32,
     "metadata": {},
     "output_type": "execute_result"
    }
   ],
   "source": [
    "# Häufigste gehighlightete Wörter\n",
    "df[\"highlights\"].str.findall(\"<span class='mark'>(.*?)</span>\").explode().value_counts()"
   ]
  },
  {
   "cell_type": "code",
   "execution_count": 15,
   "id": "de491f25",
   "metadata": {},
   "outputs": [
    {
     "name": "stdout",
     "output_type": "stream",
     "text": [
      "Label: Personalabteilung\n",
      "Prediction: Personalabteilung\n"
     ]
    },
    {
     "data": {
      "text/html": [
       "\n",
       "    <style>\n",
       "        .container {\n",
       "            white-space: pre-line;\n",
       "        }\n",
       "\n",
       "        .mark {\n",
       "            color: green;\n",
       "            background: rgb(200,255,200);\n",
       "        }\n",
       "    </style>\n",
       "    <div class=\"container\">\n",
       "Sehr geehrte Damen und Herren,\n",
       "\n",
       "ich hoffe, Ihnen geht es gut und <span class='mark'>Sie</span> sind bereit, sich meiner kleinen Anfrage anzunehmen. Kürzlich habe ich ein Dokument erhalten, das essentiell für <span class='mark'>meine</span> zukünftige <span class='mark'>Karriere</span> ist, nämlich das <span class='mark'>Arbeitszeugnis</span> von <span class='mark'>meiner</span> Zeit beim Tiefbauamt Unterhausen. Leider sind mir beim genauen Durchlesen einige kleine Ungereimtheiten aufgefallen, die <span class='mark'>ich</span> gerne korrigieren lassen würde. Selbstverständlich achte ich die harte Arbeit, die in das Erstellen solcher Dokumente fließt, und schätze Ihre Unterstützung ungemein.\n",
       "\n",
       "Das Zeugnis bescheinigt mir Tätigkeiten, die ich nicht ausgeführt habe, und lässt andererseits wichtige Aspekte, die meine damalige Position betreffen, unerwähnt. Ich wäre Ihnen äußerst dankbar, wenn Sie eine Anpassung des Dokuments veranlassen könnten, sodass es meinen tatsächlichen <span class='mark'>Aufgaben</span> und Errungenschaften entspricht. Zusätzlich zu meiner korrigierten Positionsbezeichnung könnte eine Rücksprache mit meiner damaligen <span class='mark'>Vorgesetzten</span>, Frau Karin Lehmann, hilfreich sein.\n",
       "\n",
       "Da es sich um eine wesentliche Grundlage für meine <span class='mark'>berufliche</span> Zukunft handelt, hoffe ich auf eine zeitnahe Bearbeitung und danke herzlich im Voraus für Ihre Unterstützung. Falls <span class='mark'>Sie</span> Fragen haben oder weitere Informationen benötigen, stehe ich Ihnen jederzeit gerne zur Verfügung.\n",
       "\n",
       "Mit freundlichen Grüßen,\n",
       "\n",
       "Alfred Federbast\n",
       "    </div>\n"
      ],
      "text/plain": [
       "<IPython.core.display.HTML object>"
      ]
     },
     "metadata": {},
     "output_type": "display_data"
    }
   ],
   "source": [
    "idx = 1\n",
    "\n",
    "print(\"Label:\", df[\"label\"][idx])\n",
    "print(\"Prediction:\", df[\"prediction\"][idx])\n",
    "\n",
    "display(HTML(pre + df[\"highlights\"][idx] + post))"
   ]
  },
  {
   "cell_type": "markdown",
   "id": "f53e7368",
   "metadata": {},
   "source": [
    "# Welche Beispiele macht das Modell falsch?"
   ]
  },
  {
   "cell_type": "code",
   "execution_count": 28,
   "id": "246d1386",
   "metadata": {},
   "outputs": [
    {
     "data": {
      "application/vnd.microsoft.datawrangler.viewer.v0+json": {
       "columns": [
        {
         "name": "index",
         "rawType": "int64",
         "type": "integer"
        },
        {
         "name": "text",
         "rawType": "object",
         "type": "string"
        },
        {
         "name": "label",
         "rawType": "object",
         "type": "string"
        },
        {
         "name": "prediction",
         "rawType": "object",
         "type": "string"
        },
        {
         "name": "highlights",
         "rawType": "object",
         "type": "string"
        }
       ],
       "ref": "6353d015-7303-4447-8294-4d4c2dbda79a",
       "rows": [
        [
         "17",
         "Sehr geehrte Damen und Herren,\n\nhiermit möchte ich Ihnen mitteilen, dass sich in meinen persönlichen Daten eine Änderung ergeben hat. Diese Anpassung betrifft meine Kontaktdaten, die in Ihren Unterlagen aktualisiert werden sollten, um zukünftigen Schriftverkehr reibungslos und zeitnah zu gewährleisten.\n\nVor allem möchte ich betonen, dass meine aktuelle Adresse nun wie folgt lautet: Sonnengasse 12, 12345 Musterdorf. Diese Neuregelung resultiert aus einem kürzlichen Umzug und soll sicherstellen, dass alle relevanten Informationen mich weiterhin ohne Verzögerungen erreichen können.\n\nDarüber hinaus möchte ich Ihnen mitteilen, dass es ebenfalls eine Änderung meines Namens gibt. Aufgrund einer persönlichen Entscheidung trage ich jetzt den Namen Alex Mustermann. Diese Anpassung ist bereits beim Einwohnermeldeamt registriert, sodass alle notwendigen behördlichen Anforderungen erfüllt sind.\n\nIch bitte um zeitnahe Aktualisierung dieser Informationen in meiner Mitarbeiterakte. Sollten Sie weitere Dokumente benötigen, stehe ich Ihnen natürlich gerne zur Verfügung, um den reibungslosen Ablauf der Anpassung zu unterstützen.\n\nVielen Dank im Voraus für Ihre Unterstützung und Kooperation. \n\nMit freundlichen Grüßen,\n\nAlex Mustermann",
         "Personalabteilung",
         "Kundenservice",
         "Sehr geehrte Damen und Herren,\n\nhiermit möchte ich Ihnen mitteilen, dass sich in meinen persönlichen Daten eine Änderung ergeben hat. Diese Anpassung betrifft meine Kontaktdaten, die in Ihren Unterlagen aktualisiert werden sollten, um zukünftigen Schriftverkehr reibungslos und zeitnah zu gewährleisten.\n\nVor allem möchte ich betonen, dass meine aktuelle Adresse nun wie folgt lautet: Sonnengasse 12, 12345 Musterdorf. Diese Neuregelung resultiert aus einem kürzlichen Umzug und soll sicherstellen, dass alle relevanten Informationen mich weiterhin ohne Verzögerungen erreichen können.\n\nDarüber hinaus möchte ich Ihnen mitteilen, dass es ebenfalls eine Änderung meines Namens gibt. Aufgrund einer persönlichen Entscheidung trage ich jetzt den Namen Alex Mustermann. Diese Anpassung ist bereits beim Einwohnermeldeamt registriert, sodass alle notwendigen behördlichen Anforderungen erfüllt sind.\n\nIch bitte um zeitnahe Aktualisierung dieser Informationen in meiner <span class='mark'>Mitarbeiterakte</span>. Sollten Sie weitere Dokumente benötigen, stehe ich Ihnen natürlich gerne zur Verfügung, um den reibungslosen Ablauf der Anpassung zu unterstützen.\n\nVielen Dank im Voraus für Ihre Unterstützung und Kooperation. \n\nMit freundlichen Grüßen,\n\nAlex Mustermann"
        ],
        [
         "132",
         "Hey,\n\nich hoffe, es geht Ihnen gut. Ich schreibe Ihnen wegen einer Angelegenheit, die etwas Unterstützung auf einer speziellen Ebene benötigt. Kürzlich habe ich ein kleines Abenteuer mit der Firma Goldbach AG und ihrem Vertrag zum Thema Grundstücksrecht erlebt. Da dieser Fall einige Besonderheiten enthält, ist es manchmal schwierig, die Feinheiten zu durchdringen, und es wäre super, darauf ein bisschen Expertise zu bekommen.\n\nWir sprechen über den Fall vom 18. Oktober 2023, der in Celle begonnen hat und über einige Umwege einiges an Aufmerksamkeit gewonnen hat. Daher wäre es toll, wenn jemand ein Auge darauf haben könnte, um sicherzustellen, dass alles im Rahmen bleibt. Der Austausch mit Ihren Kolleginnen und Kollegen in diesem Bereich war bislang immer bereichernd, und ich bin mir sicher, dass ihre Unterstützung hier Wunder bewirken kann.\n\nLetzten Endes möchte ich auf Nummer sicher gehen und hoffe auf eine offene Tür, um neue Perspektiven und Lösungen zu erkunden. Falls noch Informationen benötigt werden, um diesen Schritt bestmöglich zu unterstützen, lassen Sie es mich einfach wissen.\n\nVielen Dank im Voraus für Ihre Mühe und den Support.\n\nViele Grüße,\n\nFlorian Tüftler",
         "Rechtsabteilung",
         "Kundenservice",
         "Hey,\n\nich hoffe, es geht Ihnen gut. Ich schreibe Ihnen wegen einer <span class='mark'>Angelegenheit</span>, die etwas Unterstützung auf einer speziellen Ebene benötigt. Kürzlich habe ich ein kleines Abenteuer mit der Firma <span class='mark'>Goldbach</span> AG und <span class='mark'>ihrem</span> Vertrag zum Thema <span class='mark'>Grundstücksrecht</span> erlebt. Da dieser <span class='mark'>Fall</span> einige <span class='mark'>Besonderheiten</span> enthält, ist es manchmal schwierig, die Feinheiten zu durchdringen, und es wäre super, darauf ein bisschen Expertise zu bekommen.\n\nWir sprechen über den <span class='mark'>Fall</span> vom 18. Oktober 2023, der in Celle begonnen hat und über einige Umwege einiges an Aufmerksamkeit gewonnen hat. Daher wäre es toll, wenn jemand ein Auge darauf haben könnte, um sicherzustellen, dass alles im <span class='mark'>Rahmen</span> bleibt. Der Austausch mit Ihren Kolleginnen und Kollegen in diesem Bereich war bislang immer bereichernd, und ich bin mir sicher, dass ihre Unterstützung hier Wunder bewirken kann.\n\nLetzten Endes möchte ich auf Nummer sicher gehen und hoffe auf eine <span class='mark'>offene</span> Tür, um neue <span class='mark'>Perspektiven</span> und Lösungen zu erkunden. Falls noch Informationen benötigt werden, um diesen Schritt bestmöglich zu unterstützen, lassen Sie es mich einfach wissen.\n\nVielen Dank im Voraus für Ihre Mühe und den Support.\n\nViele Grüße,\n\nFlorian Tüftler"
        ]
       ],
       "shape": {
        "columns": 4,
        "rows": 2
       }
      },
      "text/html": [
       "<div>\n",
       "<style scoped>\n",
       "    .dataframe tbody tr th:only-of-type {\n",
       "        vertical-align: middle;\n",
       "    }\n",
       "\n",
       "    .dataframe tbody tr th {\n",
       "        vertical-align: top;\n",
       "    }\n",
       "\n",
       "    .dataframe thead th {\n",
       "        text-align: right;\n",
       "    }\n",
       "</style>\n",
       "<table border=\"1\" class=\"dataframe\">\n",
       "  <thead>\n",
       "    <tr style=\"text-align: right;\">\n",
       "      <th></th>\n",
       "      <th>text</th>\n",
       "      <th>label</th>\n",
       "      <th>prediction</th>\n",
       "      <th>highlights</th>\n",
       "    </tr>\n",
       "  </thead>\n",
       "  <tbody>\n",
       "    <tr>\n",
       "      <th>17</th>\n",
       "      <td>Sehr geehrte Damen und Herren,\\n\\nhiermit möch...</td>\n",
       "      <td>Personalabteilung</td>\n",
       "      <td>Kundenservice</td>\n",
       "      <td>Sehr geehrte Damen und Herren,\\n\\nhiermit möch...</td>\n",
       "    </tr>\n",
       "    <tr>\n",
       "      <th>132</th>\n",
       "      <td>Hey,\\n\\nich hoffe, es geht Ihnen gut. Ich schr...</td>\n",
       "      <td>Rechtsabteilung</td>\n",
       "      <td>Kundenservice</td>\n",
       "      <td>Hey,\\n\\nich hoffe, es geht Ihnen gut. Ich schr...</td>\n",
       "    </tr>\n",
       "  </tbody>\n",
       "</table>\n",
       "</div>"
      ],
      "text/plain": [
       "                                                  text              label  \\\n",
       "17   Sehr geehrte Damen und Herren,\\n\\nhiermit möch...  Personalabteilung   \n",
       "132  Hey,\\n\\nich hoffe, es geht Ihnen gut. Ich schr...    Rechtsabteilung   \n",
       "\n",
       "        prediction                                         highlights  \n",
       "17   Kundenservice  Sehr geehrte Damen und Herren,\\n\\nhiermit möch...  \n",
       "132  Kundenservice  Hey,\\n\\nich hoffe, es geht Ihnen gut. Ich schr...  "
      ]
     },
     "execution_count": 28,
     "metadata": {},
     "output_type": "execute_result"
    }
   ],
   "source": [
    "df[df[\"label\"] != df[\"prediction\"]]"
   ]
  },
  {
   "cell_type": "code",
   "execution_count": 7,
   "id": "fc83a13d",
   "metadata": {},
   "outputs": [
    {
     "name": "stdout",
     "output_type": "stream",
     "text": [
      "Accuracy:  0.992\n"
     ]
    }
   ],
   "source": [
    "print(\"Accuracy: \", (df[\"label\"] == df[\"prediction\"]).mean())"
   ]
  }
 ],
 "metadata": {
  "kernelspec": {
   "display_name": ".venv",
   "language": "python",
   "name": "python3"
  },
  "language_info": {
   "codemirror_mode": {
    "name": "ipython",
    "version": 3
   },
   "file_extension": ".py",
   "mimetype": "text/x-python",
   "name": "python",
   "nbconvert_exporter": "python",
   "pygments_lexer": "ipython3",
   "version": "3.12.5"
  }
 },
 "nbformat": 4,
 "nbformat_minor": 5
}
