{
 "cells": [
  {
   "cell_type": "code",
   "execution_count": 1,
   "id": "2aa1c702-f6e1-4883-9c2e-4fd5b289fb5e",
   "metadata": {},
   "outputs": [
    {
     "name": "stdout",
     "output_type": "stream",
     "text": [
      "API-Key erfolgreich geladen ✅\n"
     ]
    }
   ],
   "source": [
    "import os\n",
    "from dotenv import load_dotenv\n",
    "\n",
    "# lädt automatisch .env, was den API-Key enthält, aus dem aktuellen Arbeitsverzeichnis\n",
    "# (das kommt nicht auf das Repo, API-Key ist nur lokal gespeichert)\n",
    "load_dotenv(override=True)\n",
    "\n",
    "# zum Testen:\n",
    "api_key = os.getenv(\"OPENAI_API_KEY\")\n",
    "if api_key:\n",
    "    print(\"API-Key erfolgreich geladen ✅\")\n",
    "else:\n",
    "    print(\"API-Key NICHT gefunden ❌\")"
   ]
  },
  {
   "cell_type": "code",
   "execution_count": 2,
   "id": "8ef92650-3137-42a8-b355-b656fd581aec",
   "metadata": {},
   "outputs": [],
   "source": [
    "from langchain_openai import ChatOpenAI\n",
    "from langchain.prompts import ChatPromptTemplate\n",
    "\n",
    "# Modell mit explizitem API-Key\n",
    "model = ChatOpenAI(openai_api_key=api_key, model=\"gpt-4o\")\n",
    "\n",
    "#from pydantic import BaseModel, Field\n",
    "#class ResponseFormatter(BaseModel):\n",
    "#    \"\"\"Always use this tool to structure your response to the user.\"\"\"\n",
    "#    answer: str = Field(description=\"The answer to the user's question\")\n",
    "#    followup_question: str = Field(description=\"A followup question the user could ask\")\n",
    "#\n",
    "#model_with_tools = model.bind_tools([ResponseFormatter])\n",
    "\n",
    "# Testaufruf\n",
    "#antwort = model_with_tools.invoke(\"Was ist das Kraftwerk der Zelle?\")\n",
    "#print(antwort.tool_calls[0][\"args\"]['answer'])"
   ]
  },
  {
   "cell_type": "code",
   "execution_count": 3,
   "id": "9da340c6-c3b2-4e1c-b8f5-0e3b0cc8a90e",
   "metadata": {},
   "outputs": [
    {
     "name": "stdout",
     "output_type": "stream",
     "text": [
      "Gib mir bitte eine Anfrage in Briefform an eine öffentliche Verwaltung, aus der hervorgeht, dass sie intern an den Kundenservice (im Gegensatz zu Personalabteilung, Finanzabteilung, Rechtsabteilung oder Leitungsebene) weitergeleitet werden sollte. Dabei sollte die Zuordnung zur/zum Kundenservice zwar eindeutig sein, aber nicht explizit im Text erwähnt werden, sondern durch subtilere Hinweise klar werden. Das Anliegen in der Anfrage sollte konkret sein, insbesondere auch im Bezug auf relevante Daten, Firmen, Personen und auch bezüglich der öffentlichen Verwaltung, an die die Anfrage adressiert ist. Auf eine Skala von 0 (überhaupt nicht offensichtlich) bis 100 (so offensichtlich wie es nur sein kann), sollte die Offensichtlichkeit der Zuordnung bei 10 liegen. Auf einer Skala von 0 (sehr salopp und umgangssprachlich) bis 100 (sehr korrekt und förmlich) sollte die Förmlichkeit der Anfrage bei 21 liegen. Die Anfrage sollte insgesamt aus ca. 200 Wörtern bestehen, auf jeden Fall jedoch nicht weniger als 120 Wörter und nicht mehr als 300 Wörter. Gib dabei nur den Haupttext des Briefs aus, also keinen Absender, keinen Empfänger und keinen Betreff. Am Anfang des Briefs sollte eine Grußformel stehen. Am Ende des Briefs soll der fiktive Name des Absenders stehen, bei dem du gerne kreativ sein darfst, aber nicht seine Adresse. Falls in dem Brief konkrete Daten vorkommen (Namen, Adressen, ...), bitte verwende hier keine Placeholder, sondern fiktive Namen, Adressen, ... . Gib bitte ausschließlich den angeforderten Text aus und sprich mich in deiner Ausgabe nicht direkt an.\n"
     ]
    }
   ],
   "source": [
    "import pandas as pd\n",
    "\n",
    "# Initialisiere den Vektor mit den Kategorien als Einträgen\n",
    "categories = [\"Personalabteilung\", \"Finanzabteilung\", \"Rechtsabteilung\", \"Leitungsebene\", \"Kundenservice\"]\n",
    "\n",
    "kinds = pd.read_excel(\"Arten_von_Schreiben.xlsx\")\n",
    "\n",
    "# Gruppierung nach Werten in der ersten Spalte (hier: 'Abteilung')\n",
    "gruppen = kinds.groupby('Abteilung')\n",
    "\n",
    "# Erzeuge ein Dictionary mit einer Matrix (Liste von Listen) pro Abteilung, jeweils ohne die redundante erste Spalte\n",
    "matrizen = {\n",
    "    abteilung: gruppe.drop(columns='Abteilung').values.tolist()\n",
    "    for abteilung, gruppe in gruppen\n",
    "}\n",
    "\n",
    "# Definiere Funktion, die den Prompt ausgibt\n",
    "def std_prompt(obvious, formal, category, zusatz=\"\"):\n",
    "    # Eingabeparameter für Offensichtlichkeit und Förmlichkeit runden\n",
    "    obvious_whole = round(obvious)\n",
    "    formal_whole = round(formal)\n",
    "\n",
    "    # Wertebereiche prüfen\n",
    "    if not (0 <= obvious_whole <= 100):\n",
    "        return \"Fehler: 'von' muss zwischen 0 und 100 liegen.\"\n",
    "    if not (0 <= formal_whole <= 100):\n",
    "        return \"Fehler: 'bis' muss zwischen 0 und 100 liegen.\"\n",
    "\n",
    "    # Bestimme die gewählte Abteilung basierend auf Index oder direkter Eingabe\n",
    "    if isinstance(category, int):\n",
    "        if not (0 <= category < len(categories)):\n",
    "            return \"Fehler: Index muss zwischen 0 und 4 liegen.\"\n",
    "        chosen = categories[category]\n",
    "    elif isinstance(category, str) and category in categories:\n",
    "        chosen = category\n",
    "    else:\n",
    "        return \"Fehler: category muss ein Index von 0 bis 4 oder eine der Abteilungen sein.\"\n",
    "\n",
    "    # Vektor für die nicht gewählten Abteilungen definieren\n",
    "    others = [c for c in categories if c != chosen]\n",
    "\n",
    "    # Richtigen Artikel für die Abteilung im Text wählen\n",
    "    article = \"den\" if chosen == \"Kundenservice\" else \"die\"\n",
    "\n",
    "    # Prompt in zwei separaten Strings generieren, um Zusatz-Satz für konkrete Anfrage-Art noch dazwischen einbauen zu können\n",
    "    satz1 = (\n",
    "        f\"Gib mir bitte eine Anfrage in Briefform an eine öffentliche Verwaltung, \"\n",
    "        f\"aus der hervorgeht, dass sie intern an {article} {chosen} (im Gegensatz zu \" + \", \".join(others[:-1]) + f\" oder {others[-1]}) weitergeleitet werden sollte. \"\n",
    "        f\"Dabei sollte die Zuordnung zur/zum {chosen} zwar eindeutig sein, aber nicht explizit im Text erwähnt werden, \"\n",
    "        f\"sondern durch subtilere Hinweise klar werden. \"\n",
    "    )\n",
    "    satz2 = (\n",
    "        f\"Das Anliegen in der Anfrage sollte konkret sein, insbesondere auch im Bezug auf relevante Daten, Firmen, Personen \"\n",
    "        f\"und auch bezüglich der öffentlichen Verwaltung, an die die Anfrage adressiert ist. Auf eine Skala von 0 (überhaupt nicht offensichtlich) \"\n",
    "        f\"bis 100 (so offensichtlich wie es nur sein kann), sollte die Offensichtlichkeit der Zuordnung bei {obvious_whole} liegen. \"\n",
    "        f\"Auf einer Skala von 0 (sehr salopp und umgangssprachlich) bis 100 (sehr korrekt und förmlich) \"\n",
    "        f\"sollte die Förmlichkeit der Anfrage bei {formal_whole} liegen. Die Anfrage sollte insgesamt aus ca. 200 Wörtern bestehen, \"\n",
    "        f\"auf jeden Fall jedoch nicht weniger als 120 Wörter und nicht mehr als 300 Wörter. \"\n",
    "        f\"Gib dabei nur den Haupttext des Briefs aus, also keinen Absender, keinen Empfänger und keinen Betreff. \"\n",
    "        f\"Am Anfang des Briefs sollte eine Grußformel stehen. Am Ende des Briefs soll \"\n",
    "        f\"der fiktive Name des Absenders stehen, bei dem du gerne kreativ sein darfst, aber nicht seine Adresse. \"\n",
    "        f\"Falls in dem Brief konkrete Daten vorkommen (Namen, Adressen, ...), bitte verwende hier keine Placeholder, \"\n",
    "        f\"sondern fiktive Namen, Adressen, ... . Gib bitte ausschließlich den angeforderten Text aus und sprich mich \"\n",
    "        f\"in deiner Ausgabe nicht direkt an.\"\n",
    "    )\n",
    "\n",
    "    # Prompt mit Zusatz-Satz ausgeben\n",
    "    return satz1 + zusatz + satz2\n",
    "\n",
    "print(std_prompt(10.5, 20.834, 4))\n",
    "#print(kinds)"
   ]
  },
  {
   "cell_type": "code",
   "execution_count": 10,
   "id": "0e890f9f-657a-4160-a073-44577c760f56",
   "metadata": {},
   "outputs": [
    {
     "name": "stdout",
     "output_type": "stream",
     "text": [
      "1742.0971031188965\n"
     ]
    }
   ],
   "source": [
    "import numpy as np\n",
    "import time\n",
    "\n",
    "# Zeit vor Durchlauf speichern für Zeitnahme\n",
    "start = time.time()\n",
    "\n",
    "# Random Seed setzen zur Replizierbarkeit (sollte 40-{batch-nummer} sein)\n",
    "np.random.seed(40)\n",
    "\n",
    "# Definieren einer Funktion für den Satz im Prompt, der das Anliegen innerhalb der Abteilung konkretisiert\n",
    "def zusatz_template(kind):\n",
    "    ausgabe = f\"Konkret soll es sich bei dem Schreiben um eine(n) {kind} handeln. \"\n",
    "    return ausgabe\n",
    "\n",
    "# Leere Liste initialisieren, in die die einzelnen Einträge als Dictionaries geschrieben werden\n",
    "training_data_batch = []\n",
    "\n",
    "# For-Schleifen durch die Abteilungen mit 50 Anfragen pro Abteilung\n",
    "for abteilung in categories:\n",
    "    for i in range(50):\n",
    "        # Mit 80% Wahrscheinlichkeit gibt es eine konkrete Anfrage-Art, mit 20% nicht\n",
    "        specific_kind = np.random.choice(range(2), p=[0.2, 0.8])\n",
    "        # Wenn es eine konkrete Anfrage, geben soll, dann...\n",
    "        if bool(specific_kind):\n",
    "            # Wahrscheinlichkeiten für die einzelnen konkreten Arten von Anfragen für die aktuelle Abteilung aus der Excel-Tabelle auslesen\n",
    "            percent_probs = [zeile[1] for zeile in matrizen[abteilung]]\n",
    "            # Prozentzahlen in Kommazahlen konvertieren\n",
    "            probs = [x / 100 for x in percent_probs]\n",
    "            # Entsprechend den gegebenen Wahrscheinlichkeiten eine Art von Anfrage ziehen\n",
    "            chosen_kind_ind = np.random.choice(range(len(matrizen[abteilung])), p=probs)\n",
    "            chosen_kind = matrizen[abteilung][chosen_kind_ind][0]\n",
    "            # Die Art der Anfrage in den Zusatz-Satz für den Prompt von oben einfügen\n",
    "            zusatz = zusatz_template(chosen_kind)\n",
    "        # Wenn es keine konkrete Anfrage-Art geben soll, bleibt der Prompt-Zusatz leer\n",
    "        else:\n",
    "            zusatz = \"\"\n",
    "\n",
    "        # Parameter für Offensichtlichkeit der Zeil-Abteilung setzen\n",
    "        obvious = 100 * np.random.beta(2, 4)\n",
    "        # Parameter für Förmlichkeit der Anfrage setzen (nur mit sehr niedrigen Werten bekommt man wirklich saloppe Anfragen)\n",
    "        formal = 100 * np.random.beta(1.2, 12)\n",
    "        # Prompt ans Modell übergeben\n",
    "        aux = model.invoke(std_prompt(obvious, formal, abteilung, zusatz), temperature = 1)\n",
    "        # Modell-Antwort und wahre Kategorie in Dictionary schreiben und zur Liste hinzufügen\n",
    "        schreiben = {\n",
    "            \"text\": aux.content,\n",
    "            \"label\": abteilung\n",
    "        }\n",
    "        training_data_batch.append(schreiben)\n",
    "\n",
    "# Endzeit nehmen und Dauer des Durchlaufs ausgeben\n",
    "ende = time.time()  # Zeit nach Durchlauf\n",
    "print(ende - start)\n",
    "\n",
    "#brief1 = model.invoke(std_prompt(70, 20, 4), temperature = 1)\n",
    "#print(brief1.content)"
   ]
  },
  {
   "cell_type": "code",
   "execution_count": 11,
   "id": "214c29c8-f571-48fe-9137-6ff508ab5a07",
   "metadata": {},
   "outputs": [],
   "source": [
    "import json\n",
    "\n",
    "with open(\"test_batch.json\", \"w\", encoding=\"utf-8\") as datei:\n",
    "    json.dump(training_data_batch, datei, ensure_ascii=False, indent=4)"
   ]
  }
 ],
 "metadata": {
  "kernelspec": {
   "display_name": "Python 3 (ipykernel)",
   "language": "python",
   "name": "python3"
  },
  "language_info": {
   "codemirror_mode": {
    "name": "ipython",
    "version": 3
   },
   "file_extension": ".py",
   "mimetype": "text/x-python",
   "name": "python",
   "nbconvert_exporter": "python",
   "pygments_lexer": "ipython3",
   "version": "3.13.2"
  }
 },
 "nbformat": 4,
 "nbformat_minor": 5
}
