{
 "cells": [
  {
   "cell_type": "code",
   "execution_count": 105,
   "id": "3755d6b8",
   "metadata": {},
   "outputs": [],
   "source": [
    "from glob import glob\n",
    "import pandas as pd\n",
    "import json\n",
    "from sklearn.metrics import confusion_matrix"
   ]
  },
  {
   "cell_type": "markdown",
   "id": "4396f425",
   "metadata": {},
   "source": [
    "# Auswertung der Ergebnisse\n",
    "\n",
    "Auf dem Zukunftskongress 2025 haben wir interessierte Personen das Spiel Postkorb Panic spielen lassen. Die Spielenden waren Personen, die mit dem öffentlichen Sektor zu tun haben. Dazu zählen Personen aus dem öffentlichen Sektor und Personen, die Auftragnehmer für den öffentlichen Sektor sind.\n",
    "\n",
    "Dieses Notebook macht eine Auswertung der Ergebnisse."
   ]
  },
  {
   "cell_type": "code",
   "execution_count": 106,
   "id": "9e0edf63",
   "metadata": {},
   "outputs": [],
   "source": [
    "files = glob(\"../results/*.json\")"
   ]
  },
  {
   "cell_type": "code",
   "execution_count": 107,
   "id": "043b773c",
   "metadata": {},
   "outputs": [
    {
     "data": {
      "text/plain": [
       "['../results/Postkorb-Panic_Ergebnisse.json']"
      ]
     },
     "execution_count": 107,
     "metadata": {},
     "output_type": "execute_result"
    }
   ],
   "source": [
    "files"
   ]
  },
  {
   "cell_type": "code",
   "execution_count": 108,
   "id": "5096cd16",
   "metadata": {},
   "outputs": [],
   "source": [
    "feedback = []\n",
    "\n",
    "for file in files:\n",
    "    with open(file) as f:\n",
    "        feedback.extend(json.load(f))"
   ]
  },
  {
   "cell_type": "code",
   "execution_count": 109,
   "id": "a0312ade",
   "metadata": {},
   "outputs": [],
   "source": [
    "feedback_data = []\n",
    "\n",
    "for game_id, f in enumerate(feedback):\n",
    "    for question_id, result in enumerate(f[\"gameResults\"]):\n",
    "        d = {col: val for col, val in f.items() if col != \"gameResults\"}\n",
    "        d[\"game_id\"] = game_id\n",
    "        d[\"question_pos\"] = question_id\n",
    "        for col, value in result.items():\n",
    "            d[col] = value\n",
    "        feedback_data.append(d)"
   ]
  },
  {
   "cell_type": "code",
   "execution_count": 110,
   "id": "cf8b5823",
   "metadata": {},
   "outputs": [],
   "source": [
    "feedback_data = pd.DataFrame(feedback_data)"
   ]
  },
  {
   "cell_type": "markdown",
   "id": "dd64352a",
   "metadata": {},
   "source": [
    "# Wie viele Spiele wurden gespielt?"
   ]
  },
  {
   "cell_type": "code",
   "execution_count": 120,
   "id": "6690a8a9",
   "metadata": {},
   "outputs": [
    {
     "data": {
      "text/plain": [
       "80"
      ]
     },
     "execution_count": 120,
     "metadata": {},
     "output_type": "execute_result"
    }
   ],
   "source": [
    "feedback_data[\"game_id\"].nunique()"
   ]
  },
  {
   "cell_type": "markdown",
   "id": "1d89ae79",
   "metadata": {},
   "source": [
    "# Alle E-Mail-Adressen mit Namen auslesen und ausgeben"
   ]
  },
  {
   "cell_type": "code",
   "execution_count": 123,
   "id": "2a9e2cf9",
   "metadata": {},
   "outputs": [],
   "source": [
    "feedback_data[feedback_data[\"email\"] != \"\"][[\"name\", \"email\"]].drop_duplicates().to_csv(\n",
    "    \"../results/emails.csv\", index=False\n",
    ")"
   ]
  },
  {
   "cell_type": "markdown",
   "id": "12a4bf7f",
   "metadata": {},
   "source": [
    "# Auswertung\n",
    "\n",
    "## Geschwindigkeit insgesamt mit und ohne KI"
   ]
  },
  {
   "cell_type": "code",
   "execution_count": 112,
   "id": "ed9cc71d",
   "metadata": {},
   "outputs": [
    {
     "data": {
      "application/vnd.microsoft.datawrangler.viewer.v0+json": {
       "columns": [
        {
         "name": "aiMode",
         "rawType": "bool",
         "type": "boolean"
        },
        {
         "name": "mean",
         "rawType": "float64",
         "type": "float"
        },
        {
         "name": "median",
         "rawType": "float64",
         "type": "float"
        },
        {
         "name": "min",
         "rawType": "float64",
         "type": "float"
        },
        {
         "name": "max",
         "rawType": "float64",
         "type": "float"
        }
       ],
       "ref": "3ec52978-ade7-464e-87ff-608593beca47",
       "rows": [
        [
         "False",
         "120.82799999999999",
         "121.2",
         "43.2",
         "206.6"
        ],
        [
         "True",
         "92.97818181818182",
         "79.0",
         "16.8",
         "473.1"
        ]
       ],
       "shape": {
        "columns": 4,
        "rows": 2
       }
      },
      "text/html": [
       "<div>\n",
       "<style scoped>\n",
       "    .dataframe tbody tr th:only-of-type {\n",
       "        vertical-align: middle;\n",
       "    }\n",
       "\n",
       "    .dataframe tbody tr th {\n",
       "        vertical-align: top;\n",
       "    }\n",
       "\n",
       "    .dataframe thead th {\n",
       "        text-align: right;\n",
       "    }\n",
       "</style>\n",
       "<table border=\"1\" class=\"dataframe\">\n",
       "  <thead>\n",
       "    <tr style=\"text-align: right;\">\n",
       "      <th></th>\n",
       "      <th>mean</th>\n",
       "      <th>median</th>\n",
       "      <th>min</th>\n",
       "      <th>max</th>\n",
       "    </tr>\n",
       "    <tr>\n",
       "      <th>aiMode</th>\n",
       "      <th></th>\n",
       "      <th></th>\n",
       "      <th></th>\n",
       "      <th></th>\n",
       "    </tr>\n",
       "  </thead>\n",
       "  <tbody>\n",
       "    <tr>\n",
       "      <th>False</th>\n",
       "      <td>120.828000</td>\n",
       "      <td>121.2</td>\n",
       "      <td>43.2</td>\n",
       "      <td>206.6</td>\n",
       "    </tr>\n",
       "    <tr>\n",
       "      <th>True</th>\n",
       "      <td>92.978182</td>\n",
       "      <td>79.0</td>\n",
       "      <td>16.8</td>\n",
       "      <td>473.1</td>\n",
       "    </tr>\n",
       "  </tbody>\n",
       "</table>\n",
       "</div>"
      ],
      "text/plain": [
       "              mean  median   min    max\n",
       "aiMode                                 \n",
       "False   120.828000   121.2  43.2  206.6\n",
       "True     92.978182    79.0  16.8  473.1"
      ]
     },
     "execution_count": 112,
     "metadata": {},
     "output_type": "execute_result"
    }
   ],
   "source": [
    "feedback_data.drop_duplicates(\"game_id\").groupby(\"aiMode\")[\"totalTime\"].agg(\n",
    "    [\"mean\", \"median\", \"min\", \"max\"]\n",
    ")"
   ]
  },
  {
   "cell_type": "markdown",
   "id": "391a1060",
   "metadata": {},
   "source": [
    "## Geschwindigkeit pro Frage mit und ohne KI"
   ]
  },
  {
   "cell_type": "code",
   "execution_count": 113,
   "id": "31bc1f92",
   "metadata": {},
   "outputs": [
    {
     "data": {
      "application/vnd.microsoft.datawrangler.viewer.v0+json": {
       "columns": [
        {
         "name": "aiMode",
         "rawType": "bool",
         "type": "boolean"
        },
        {
         "name": "mean",
         "rawType": "float64",
         "type": "float"
        },
        {
         "name": "median",
         "rawType": "float64",
         "type": "float"
        },
        {
         "name": "min",
         "rawType": "float64",
         "type": "float"
        },
        {
         "name": "max",
         "rawType": "float64",
         "type": "float"
        }
       ],
       "ref": "b6c733d0-5bd2-45bf-8683-9729c63b1668",
       "rows": [
        [
         "False",
         "11.188915999999999",
         "9.6725",
         "0.265",
         "46.897"
        ],
        [
         "True",
         "8.378587272727273",
         "5.881",
         "0.063",
         "98.865"
        ]
       ],
       "shape": {
        "columns": 4,
        "rows": 2
       }
      },
      "text/html": [
       "<div>\n",
       "<style scoped>\n",
       "    .dataframe tbody tr th:only-of-type {\n",
       "        vertical-align: middle;\n",
       "    }\n",
       "\n",
       "    .dataframe tbody tr th {\n",
       "        vertical-align: top;\n",
       "    }\n",
       "\n",
       "    .dataframe thead th {\n",
       "        text-align: right;\n",
       "    }\n",
       "</style>\n",
       "<table border=\"1\" class=\"dataframe\">\n",
       "  <thead>\n",
       "    <tr style=\"text-align: right;\">\n",
       "      <th></th>\n",
       "      <th>mean</th>\n",
       "      <th>median</th>\n",
       "      <th>min</th>\n",
       "      <th>max</th>\n",
       "    </tr>\n",
       "    <tr>\n",
       "      <th>aiMode</th>\n",
       "      <th></th>\n",
       "      <th></th>\n",
       "      <th></th>\n",
       "      <th></th>\n",
       "    </tr>\n",
       "  </thead>\n",
       "  <tbody>\n",
       "    <tr>\n",
       "      <th>False</th>\n",
       "      <td>11.188916</td>\n",
       "      <td>9.6725</td>\n",
       "      <td>0.265</td>\n",
       "      <td>46.897</td>\n",
       "    </tr>\n",
       "    <tr>\n",
       "      <th>True</th>\n",
       "      <td>8.378587</td>\n",
       "      <td>5.8810</td>\n",
       "      <td>0.063</td>\n",
       "      <td>98.865</td>\n",
       "    </tr>\n",
       "  </tbody>\n",
       "</table>\n",
       "</div>"
      ],
      "text/plain": [
       "             mean  median    min     max\n",
       "aiMode                                  \n",
       "False   11.188916  9.6725  0.265  46.897\n",
       "True     8.378587  5.8810  0.063  98.865"
      ]
     },
     "execution_count": 113,
     "metadata": {},
     "output_type": "execute_result"
    }
   ],
   "source": [
    "feedback_data.groupby(\"aiMode\")[\"responseTime\"].agg([\"mean\", \"median\", \"min\", \"max\"])"
   ]
  },
  {
   "cell_type": "markdown",
   "id": "0aa66471",
   "metadata": {},
   "source": [
    "# Anzahl der korrekten Antworten mit und ohne KI"
   ]
  },
  {
   "cell_type": "code",
   "execution_count": 114,
   "id": "afd0146c",
   "metadata": {},
   "outputs": [
    {
     "data": {
      "application/vnd.microsoft.datawrangler.viewer.v0+json": {
       "columns": [
        {
         "name": "aiMode",
         "rawType": "bool",
         "type": "boolean"
        },
        {
         "name": "mean",
         "rawType": "float64",
         "type": "float"
        },
        {
         "name": "median",
         "rawType": "float64",
         "type": "float"
        },
        {
         "name": "min",
         "rawType": "int64",
         "type": "integer"
        },
        {
         "name": "max",
         "rawType": "int64",
         "type": "integer"
        }
       ],
       "ref": "239e1192-355f-4cc7-b1cc-a41c78850303",
       "rows": [
        [
         "False",
         "7.08",
         "7.0",
         "4",
         "9"
        ],
        [
         "True",
         "8.836363636363636",
         "9.0",
         "5",
         "10"
        ]
       ],
       "shape": {
        "columns": 4,
        "rows": 2
       }
      },
      "text/html": [
       "<div>\n",
       "<style scoped>\n",
       "    .dataframe tbody tr th:only-of-type {\n",
       "        vertical-align: middle;\n",
       "    }\n",
       "\n",
       "    .dataframe tbody tr th {\n",
       "        vertical-align: top;\n",
       "    }\n",
       "\n",
       "    .dataframe thead th {\n",
       "        text-align: right;\n",
       "    }\n",
       "</style>\n",
       "<table border=\"1\" class=\"dataframe\">\n",
       "  <thead>\n",
       "    <tr style=\"text-align: right;\">\n",
       "      <th></th>\n",
       "      <th>mean</th>\n",
       "      <th>median</th>\n",
       "      <th>min</th>\n",
       "      <th>max</th>\n",
       "    </tr>\n",
       "    <tr>\n",
       "      <th>aiMode</th>\n",
       "      <th></th>\n",
       "      <th></th>\n",
       "      <th></th>\n",
       "      <th></th>\n",
       "    </tr>\n",
       "  </thead>\n",
       "  <tbody>\n",
       "    <tr>\n",
       "      <th>False</th>\n",
       "      <td>7.080000</td>\n",
       "      <td>7.0</td>\n",
       "      <td>4</td>\n",
       "      <td>9</td>\n",
       "    </tr>\n",
       "    <tr>\n",
       "      <th>True</th>\n",
       "      <td>8.836364</td>\n",
       "      <td>9.0</td>\n",
       "      <td>5</td>\n",
       "      <td>10</td>\n",
       "    </tr>\n",
       "  </tbody>\n",
       "</table>\n",
       "</div>"
      ],
      "text/plain": [
       "            mean  median  min  max\n",
       "aiMode                            \n",
       "False   7.080000     7.0    4    9\n",
       "True    8.836364     9.0    5   10"
      ]
     },
     "execution_count": 114,
     "metadata": {},
     "output_type": "execute_result"
    }
   ],
   "source": [
    "feedback_data.drop_duplicates(\"game_id\").groupby(\"aiMode\")[\"correct\"].agg(\n",
    "    [\"mean\", \"median\", \"min\", \"max\"]\n",
    ")"
   ]
  },
  {
   "cell_type": "markdown",
   "id": "6983bab9",
   "metadata": {},
   "source": [
    "## Werden Teilnehmende mit der Zeit schneller? (KI vs. ohne KI)"
   ]
  },
  {
   "cell_type": "code",
   "execution_count": 121,
   "id": "2e53ef5d",
   "metadata": {},
   "outputs": [
    {
     "data": {
      "text/plain": [
       "<Axes: title={'center': 'Durchschn. Antwortzeit pro Frage an Position (mit KI)'}, xlabel='Frageposition', ylabel='Antwortzeit in Sekunden'>"
      ]
     },
     "execution_count": 121,
     "metadata": {},
     "output_type": "execute_result"
    },
    {
     "data": {
      "image/png": "[encoded data removed]",
      "text/plain": [
       "<Figure size 640x480 with 1 Axes>"
      ]
     },
     "metadata": {},
     "output_type": "display_data"
    }
   ],
   "source": [
    "feedback_data[feedback_data[\"aiMode\"]].groupby(\"question_pos\")[\n",
    "    \"responseTime\"\n",
    "].median().plot(\n",
    "    title=\"Durchschn. Antwortzeit pro Frage an Position (mit KI)\",\n",
    "    xlabel=\"Frageposition\",\n",
    "    ylabel=\"Antwortzeit in Sekunden\",\n",
    ")"
   ]
  },
  {
   "cell_type": "code",
   "execution_count": 122,
   "id": "2646d58a",
   "metadata": {},
   "outputs": [
    {
     "data": {
      "text/plain": [
       "<Axes: title={'center': 'Durchschn. Antwortzeit pro Frage an Position (ohne KI)'}, xlabel='Frageposition', ylabel='Antwortzeit in Sekunden'>"
      ]
     },
     "execution_count": 122,
     "metadata": {},
     "output_type": "execute_result"
    },
    {
     "data": {
      "image/png": "[encoded data removed]",
      "text/plain": [
       "<Figure size 640x480 with 1 Axes>"
      ]
     },
     "metadata": {},
     "output_type": "display_data"
    }
   ],
   "source": [
    "feedback_data[~feedback_data[\"aiMode\"]].groupby(\"question_pos\")[\n",
    "    \"responseTime\"\n",
    "].median().plot(\n",
    "    title=\"Durchschn. Antwortzeit pro Frage an Position (ohne KI)\",\n",
    "    xlabel=\"Frageposition\",\n",
    "    ylabel=\"Antwortzeit in Sekunden\",\n",
    ")"
   ]
  },
  {
   "cell_type": "markdown",
   "id": "d0da2332",
   "metadata": {},
   "source": [
    "# Welche Kategorie wird wie oft getippt?"
   ]
  },
  {
   "cell_type": "code",
   "execution_count": 117,
   "id": "a5bc386b",
   "metadata": {},
   "outputs": [],
   "source": [
    "possible_depts = [\n",
    "    \"Finanzabteilung\",\n",
    "    \"Rechtsabteilung\",\n",
    "    \"Personalabteilung\",\n",
    "    \"Leitungsebene\",\n",
    "    \"Kundenservice\",\n",
    "]"
   ]
  },
  {
   "cell_type": "code",
   "execution_count": 118,
   "id": "ce4f36e6",
   "metadata": {},
   "outputs": [
    {
     "data": {
      "application/vnd.microsoft.datawrangler.viewer.v0+json": {
       "columns": [
        {
         "name": "index",
         "rawType": "object",
         "type": "string"
        },
        {
         "name": "Finanzabteilung",
         "rawType": "int64",
         "type": "integer"
        },
        {
         "name": "Rechtsabteilung",
         "rawType": "int64",
         "type": "integer"
        },
        {
         "name": "Personalabteilung",
         "rawType": "int64",
         "type": "integer"
        },
        {
         "name": "Leitungsebene",
         "rawType": "int64",
         "type": "integer"
        },
        {
         "name": "Kundenservice",
         "rawType": "int64",
         "type": "integer"
        }
       ],
       "ref": "d312d8fd-d9c2-41c0-a482-aa16daa689f2",
       "rows": [
        [
         "Finanzabteilung",
         "128",
         "1",
         "7",
         "2",
         "7"
        ],
        [
         "Rechtsabteilung",
         "7",
         "127",
         "9",
         "6",
         "7"
        ],
        [
         "Personalabteilung",
         "4",
         "25",
         "121",
         "1",
         "9"
        ],
        [
         "Leitungsebene",
         "0",
         "7",
         "7",
         "159",
         "3"
        ],
        [
         "Kundenservice",
         "1",
         "24",
         "6",
         "4",
         "128"
        ]
       ],
       "shape": {
        "columns": 5,
        "rows": 5
       }
      },
      "text/html": [
       "<div>\n",
       "<style scoped>\n",
       "    .dataframe tbody tr th:only-of-type {\n",
       "        vertical-align: middle;\n",
       "    }\n",
       "\n",
       "    .dataframe tbody tr th {\n",
       "        vertical-align: top;\n",
       "    }\n",
       "\n",
       "    .dataframe thead th {\n",
       "        text-align: right;\n",
       "    }\n",
       "</style>\n",
       "<table border=\"1\" class=\"dataframe\">\n",
       "  <thead>\n",
       "    <tr style=\"text-align: right;\">\n",
       "      <th></th>\n",
       "      <th>Finanzabteilung</th>\n",
       "      <th>Rechtsabteilung</th>\n",
       "      <th>Personalabteilung</th>\n",
       "      <th>Leitungsebene</th>\n",
       "      <th>Kundenservice</th>\n",
       "    </tr>\n",
       "  </thead>\n",
       "  <tbody>\n",
       "    <tr>\n",
       "      <th>Finanzabteilung</th>\n",
       "      <td>128</td>\n",
       "      <td>1</td>\n",
       "      <td>7</td>\n",
       "      <td>2</td>\n",
       "      <td>7</td>\n",
       "    </tr>\n",
       "    <tr>\n",
       "      <th>Rechtsabteilung</th>\n",
       "      <td>7</td>\n",
       "      <td>127</td>\n",
       "      <td>9</td>\n",
       "      <td>6</td>\n",
       "      <td>7</td>\n",
       "    </tr>\n",
       "    <tr>\n",
       "      <th>Personalabteilung</th>\n",
       "      <td>4</td>\n",
       "      <td>25</td>\n",
       "      <td>121</td>\n",
       "      <td>1</td>\n",
       "      <td>9</td>\n",
       "    </tr>\n",
       "    <tr>\n",
       "      <th>Leitungsebene</th>\n",
       "      <td>0</td>\n",
       "      <td>7</td>\n",
       "      <td>7</td>\n",
       "      <td>159</td>\n",
       "      <td>3</td>\n",
       "    </tr>\n",
       "    <tr>\n",
       "      <th>Kundenservice</th>\n",
       "      <td>1</td>\n",
       "      <td>24</td>\n",
       "      <td>6</td>\n",
       "      <td>4</td>\n",
       "      <td>128</td>\n",
       "    </tr>\n",
       "  </tbody>\n",
       "</table>\n",
       "</div>"
      ],
      "text/plain": [
       "                   Finanzabteilung  Rechtsabteilung  Personalabteilung  \\\n",
       "Finanzabteilung                128                1                  7   \n",
       "Rechtsabteilung                  7              127                  9   \n",
       "Personalabteilung                4               25                121   \n",
       "Leitungsebene                    0                7                  7   \n",
       "Kundenservice                    1               24                  6   \n",
       "\n",
       "                   Leitungsebene  Kundenservice  \n",
       "Finanzabteilung                2              7  \n",
       "Rechtsabteilung                6              7  \n",
       "Personalabteilung              1              9  \n",
       "Leitungsebene                159              3  \n",
       "Kundenservice                  4            128  "
      ]
     },
     "execution_count": 118,
     "metadata": {},
     "output_type": "execute_result"
    }
   ],
   "source": [
    "# Assuming feedback_data is already defined\n",
    "incorrect_feedback = feedback_data[[\"correctDept\", \"playerChoice\"]]\n",
    "\n",
    "conf_matrix = confusion_matrix(\n",
    "    incorrect_feedback[\"correctDept\"], incorrect_feedback[\"playerChoice\"]\n",
    ")\n",
    "\n",
    "conf_matrix_df = pd.DataFrame(conf_matrix, index=possible_depts, columns=possible_depts)\n",
    "\n",
    "conf_matrix_df"
   ]
  }
 ],
 "metadata": {
  "kernelspec": {
   "display_name": ".venv",
   "language": "python",
   "name": "python3"
  },
  "language_info": {
   "codemirror_mode": {
    "name": "ipython",
    "version": 3
   },
   "file_extension": ".py",
   "mimetype": "text/x-python",
   "name": "python",
   "nbconvert_exporter": "python",
   "pygments_lexer": "ipython3",
   "version": "3.12.5"
  }
 },
 "nbformat": 4,
 "nbformat_minor": 5
}
