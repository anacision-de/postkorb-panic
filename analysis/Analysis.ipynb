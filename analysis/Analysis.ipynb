{
 "cells": [
  {
   "cell_type": "code",
   "execution_count": 60,
   "id": "3755d6b8",
   "metadata": {},
   "outputs": [],
   "source": [
    "from glob import glob\n",
    "import pandas as pd\n",
    "import json\n",
    "from sklearn.metrics import confusion_matrix"
   ]
  },
  {
   "cell_type": "markdown",
   "id": "4396f425",
   "metadata": {},
   "source": [
    "# Auswertung der generierten Daten"
   ]
  },
  {
   "cell_type": "code",
   "execution_count": 2,
   "id": "9e0edf63",
   "metadata": {},
   "outputs": [],
   "source": [
    "files = glob(\"../feedback/*.json\")"
   ]
  },
  {
   "cell_type": "code",
   "execution_count": 3,
   "id": "043b773c",
   "metadata": {},
   "outputs": [
    {
     "data": {
      "text/plain": [
       "['../feedback/Marcel.json']"
      ]
     },
     "execution_count": 3,
     "metadata": {},
     "output_type": "execute_result"
    }
   ],
   "source": [
    "files"
   ]
  },
  {
   "cell_type": "code",
   "execution_count": 14,
   "id": "5096cd16",
   "metadata": {},
   "outputs": [],
   "source": [
    "feedback = []\n",
    "\n",
    "for file in files:\n",
    "    with open(file) as f:\n",
    "        feedback.extend(json.load(f))"
   ]
  },
  {
   "cell_type": "code",
   "execution_count": 23,
   "id": "a0312ade",
   "metadata": {},
   "outputs": [],
   "source": [
    "feedback_data = []\n",
    "\n",
    "for game_id, f in enumerate(feedback):\n",
    "    for question_id, result in enumerate(f[\"gameResults\"]):\n",
    "        d = {col: val for col, val in f.items() if col != \"gameResults\"}\n",
    "        d[\"game_id\"] = game_id\n",
    "        d[\"question_pos\"] = question_id\n",
    "        for col, value in result.items():\n",
    "            d[col] = value\n",
    "        feedback_data.append(d)"
   ]
  },
  {
   "cell_type": "code",
   "execution_count": 27,
   "id": "cf8b5823",
   "metadata": {},
   "outputs": [],
   "source": [
    "feedback_data = pd.DataFrame(feedback_data)"
   ]
  },
  {
   "cell_type": "markdown",
   "id": "1d89ae79",
   "metadata": {},
   "source": [
    "# Alle E-Mail-Adressen mit Namen auslesen"
   ]
  },
  {
   "cell_type": "code",
   "execution_count": 32,
   "id": "2a9e2cf9",
   "metadata": {},
   "outputs": [
    {
     "data": {
      "application/vnd.microsoft.datawrangler.viewer.v0+json": {
       "columns": [
        {
         "name": "index",
         "rawType": "int64",
         "type": "integer"
        },
        {
         "name": "name",
         "rawType": "object",
         "type": "string"
        },
        {
         "name": "email",
         "rawType": "object",
         "type": "string"
        }
       ],
       "ref": "2b2eaeb8-29f7-4f96-a02d-8b605c06c532",
       "rows": [
        [
         "0",
         "Marcel",
         "marcel"
        ],
        [
         "10",
         "Marcel2",
         ""
        ],
        [
         "20",
         "Marcel3",
         ""
        ],
        [
         "30",
         "Marcel_just_clicking_first_answer",
         ""
        ],
        [
         "40",
         "Marcel_just_follow_AI",
         ""
        ],
        [
         "50",
         "Marcel_4",
         ""
        ]
       ],
       "shape": {
        "columns": 2,
        "rows": 6
       }
      },
      "text/html": [
       "<div>\n",
       "<style scoped>\n",
       "    .dataframe tbody tr th:only-of-type {\n",
       "        vertical-align: middle;\n",
       "    }\n",
       "\n",
       "    .dataframe tbody tr th {\n",
       "        vertical-align: top;\n",
       "    }\n",
       "\n",
       "    .dataframe thead th {\n",
       "        text-align: right;\n",
       "    }\n",
       "</style>\n",
       "<table border=\"1\" class=\"dataframe\">\n",
       "  <thead>\n",
       "    <tr style=\"text-align: right;\">\n",
       "      <th></th>\n",
       "      <th>name</th>\n",
       "      <th>email</th>\n",
       "    </tr>\n",
       "  </thead>\n",
       "  <tbody>\n",
       "    <tr>\n",
       "      <th>0</th>\n",
       "      <td>Marcel</td>\n",
       "      <td>marcel</td>\n",
       "    </tr>\n",
       "    <tr>\n",
       "      <th>10</th>\n",
       "      <td>Marcel2</td>\n",
       "      <td></td>\n",
       "    </tr>\n",
       "    <tr>\n",
       "      <th>20</th>\n",
       "      <td>Marcel3</td>\n",
       "      <td></td>\n",
       "    </tr>\n",
       "    <tr>\n",
       "      <th>30</th>\n",
       "      <td>Marcel_just_clicking_first_answer</td>\n",
       "      <td></td>\n",
       "    </tr>\n",
       "    <tr>\n",
       "      <th>40</th>\n",
       "      <td>Marcel_just_follow_AI</td>\n",
       "      <td></td>\n",
       "    </tr>\n",
       "    <tr>\n",
       "      <th>50</th>\n",
       "      <td>Marcel_4</td>\n",
       "      <td></td>\n",
       "    </tr>\n",
       "  </tbody>\n",
       "</table>\n",
       "</div>"
      ],
      "text/plain": [
       "                                 name   email\n",
       "0                              Marcel  marcel\n",
       "10                            Marcel2        \n",
       "20                            Marcel3        \n",
       "30  Marcel_just_clicking_first_answer        \n",
       "40              Marcel_just_follow_AI        \n",
       "50                           Marcel_4        "
      ]
     },
     "execution_count": 32,
     "metadata": {},
     "output_type": "execute_result"
    }
   ],
   "source": [
    "feedback_data[[\"name\", \"email\"]].drop_duplicates()"
   ]
  },
  {
   "cell_type": "markdown",
   "id": "12a4bf7f",
   "metadata": {},
   "source": [
    "# Auswertung\n",
    "\n",
    "## Geschwindigkeit insgesamt mit und ohne KI"
   ]
  },
  {
   "cell_type": "code",
   "execution_count": null,
   "id": "ed9cc71d",
   "metadata": {},
   "outputs": [
    {
     "data": {
      "application/vnd.microsoft.datawrangler.viewer.v0+json": {
       "columns": [
        {
         "name": "aiMode",
         "rawType": "bool",
         "type": "boolean"
        },
        {
         "name": "mean",
         "rawType": "float64",
         "type": "float"
        },
        {
         "name": "median",
         "rawType": "float64",
         "type": "float"
        },
        {
         "name": "min",
         "rawType": "float64",
         "type": "float"
        },
        {
         "name": "max",
         "rawType": "float64",
         "type": "float"
        }
       ],
       "ref": "729a1fd1-8432-4b61-aacf-c1ff8983cc3c",
       "rows": [
        [
         "False",
         "60.025",
         "71.1",
         "14.1",
         "83.8"
        ],
        [
         "True",
         "30.5",
         "30.5",
         "17.1",
         "43.9"
        ]
       ],
       "shape": {
        "columns": 4,
        "rows": 2
       }
      },
      "text/html": [
       "<div>\n",
       "<style scoped>\n",
       "    .dataframe tbody tr th:only-of-type {\n",
       "        vertical-align: middle;\n",
       "    }\n",
       "\n",
       "    .dataframe tbody tr th {\n",
       "        vertical-align: top;\n",
       "    }\n",
       "\n",
       "    .dataframe thead th {\n",
       "        text-align: right;\n",
       "    }\n",
       "</style>\n",
       "<table border=\"1\" class=\"dataframe\">\n",
       "  <thead>\n",
       "    <tr style=\"text-align: right;\">\n",
       "      <th></th>\n",
       "      <th>mean</th>\n",
       "      <th>median</th>\n",
       "      <th>min</th>\n",
       "      <th>max</th>\n",
       "    </tr>\n",
       "    <tr>\n",
       "      <th>aiMode</th>\n",
       "      <th></th>\n",
       "      <th></th>\n",
       "      <th></th>\n",
       "      <th></th>\n",
       "    </tr>\n",
       "  </thead>\n",
       "  <tbody>\n",
       "    <tr>\n",
       "      <th>False</th>\n",
       "      <td>60.025</td>\n",
       "      <td>71.1</td>\n",
       "      <td>14.1</td>\n",
       "      <td>83.8</td>\n",
       "    </tr>\n",
       "    <tr>\n",
       "      <th>True</th>\n",
       "      <td>30.500</td>\n",
       "      <td>30.5</td>\n",
       "      <td>17.1</td>\n",
       "      <td>43.9</td>\n",
       "    </tr>\n",
       "  </tbody>\n",
       "</table>\n",
       "</div>"
      ],
      "text/plain": [
       "          mean  median   min   max\n",
       "aiMode                            \n",
       "False   60.025    71.1  14.1  83.8\n",
       "True    30.500    30.5  17.1  43.9"
      ]
     },
     "execution_count": 36,
     "metadata": {},
     "output_type": "execute_result"
    }
   ],
   "source": [
    "feedback_data.drop_duplicates(\"game_id\").groupby(\"aiMode\")[\"totalTime\"].agg(\n",
    "    [\"mean\", \"median\", \"min\", \"max\"]\n",
    ")"
   ]
  },
  {
   "cell_type": "markdown",
   "id": "391a1060",
   "metadata": {},
   "source": [
    "## Geschwindigkeit pro Frage mit und ohne KI"
   ]
  },
  {
   "cell_type": "code",
   "execution_count": 38,
   "id": "31bc1f92",
   "metadata": {},
   "outputs": [
    {
     "data": {
      "application/vnd.microsoft.datawrangler.viewer.v0+json": {
       "columns": [
        {
         "name": "aiMode",
         "rawType": "bool",
         "type": "boolean"
        },
        {
         "name": "mean",
         "rawType": "float64",
         "type": "float"
        },
        {
         "name": "median",
         "rawType": "float64",
         "type": "float"
        },
        {
         "name": "min",
         "rawType": "float64",
         "type": "float"
        },
        {
         "name": "max",
         "rawType": "float64",
         "type": "float"
        }
       ],
       "ref": "f1428d12-6190-4632-b07f-09e8cdfb45bf",
       "rows": [
        [
         "False",
         "5.000875",
         "4.902",
         "0.06",
         "18.544"
        ],
        [
         "True",
         "2.05215",
         "1.3015",
         "0.578",
         "10.581"
        ]
       ],
       "shape": {
        "columns": 4,
        "rows": 2
       }
      },
      "text/html": [
       "<div>\n",
       "<style scoped>\n",
       "    .dataframe tbody tr th:only-of-type {\n",
       "        vertical-align: middle;\n",
       "    }\n",
       "\n",
       "    .dataframe tbody tr th {\n",
       "        vertical-align: top;\n",
       "    }\n",
       "\n",
       "    .dataframe thead th {\n",
       "        text-align: right;\n",
       "    }\n",
       "</style>\n",
       "<table border=\"1\" class=\"dataframe\">\n",
       "  <thead>\n",
       "    <tr style=\"text-align: right;\">\n",
       "      <th></th>\n",
       "      <th>mean</th>\n",
       "      <th>median</th>\n",
       "      <th>min</th>\n",
       "      <th>max</th>\n",
       "    </tr>\n",
       "    <tr>\n",
       "      <th>aiMode</th>\n",
       "      <th></th>\n",
       "      <th></th>\n",
       "      <th></th>\n",
       "      <th></th>\n",
       "    </tr>\n",
       "  </thead>\n",
       "  <tbody>\n",
       "    <tr>\n",
       "      <th>False</th>\n",
       "      <td>5.000875</td>\n",
       "      <td>4.9020</td>\n",
       "      <td>0.060</td>\n",
       "      <td>18.544</td>\n",
       "    </tr>\n",
       "    <tr>\n",
       "      <th>True</th>\n",
       "      <td>2.052150</td>\n",
       "      <td>1.3015</td>\n",
       "      <td>0.578</td>\n",
       "      <td>10.581</td>\n",
       "    </tr>\n",
       "  </tbody>\n",
       "</table>\n",
       "</div>"
      ],
      "text/plain": [
       "            mean  median    min     max\n",
       "aiMode                                 \n",
       "False   5.000875  4.9020  0.060  18.544\n",
       "True    2.052150  1.3015  0.578  10.581"
      ]
     },
     "execution_count": 38,
     "metadata": {},
     "output_type": "execute_result"
    }
   ],
   "source": [
    "feedback_data.groupby(\"aiMode\")[\"responseTime\"].agg([\"mean\", \"median\", \"min\", \"max\"])"
   ]
  },
  {
   "cell_type": "markdown",
   "id": "0aa66471",
   "metadata": {},
   "source": [
    "# Anzahl der korrekten Antworten mit und ohne KI"
   ]
  },
  {
   "cell_type": "code",
   "execution_count": null,
   "id": "afd0146c",
   "metadata": {},
   "outputs": [
    {
     "data": {
      "application/vnd.microsoft.datawrangler.viewer.v0+json": {
       "columns": [
        {
         "name": "aiMode",
         "rawType": "bool",
         "type": "boolean"
        },
        {
         "name": "mean",
         "rawType": "float64",
         "type": "float"
        },
        {
         "name": "median",
         "rawType": "float64",
         "type": "float"
        },
        {
         "name": "min",
         "rawType": "int64",
         "type": "integer"
        },
        {
         "name": "max",
         "rawType": "int64",
         "type": "integer"
        }
       ],
       "ref": "04b7cf21-34c3-4b5c-8003-025b2daec6a1",
       "rows": [
        [
         "False",
         "7.0",
         "8.0",
         "2",
         "10"
        ],
        [
         "True",
         "10.0",
         "10.0",
         "10",
         "10"
        ]
       ],
       "shape": {
        "columns": 4,
        "rows": 2
       }
      },
      "text/html": [
       "<div>\n",
       "<style scoped>\n",
       "    .dataframe tbody tr th:only-of-type {\n",
       "        vertical-align: middle;\n",
       "    }\n",
       "\n",
       "    .dataframe tbody tr th {\n",
       "        vertical-align: top;\n",
       "    }\n",
       "\n",
       "    .dataframe thead th {\n",
       "        text-align: right;\n",
       "    }\n",
       "</style>\n",
       "<table border=\"1\" class=\"dataframe\">\n",
       "  <thead>\n",
       "    <tr style=\"text-align: right;\">\n",
       "      <th></th>\n",
       "      <th>mean</th>\n",
       "      <th>median</th>\n",
       "      <th>min</th>\n",
       "      <th>max</th>\n",
       "    </tr>\n",
       "    <tr>\n",
       "      <th>aiMode</th>\n",
       "      <th></th>\n",
       "      <th></th>\n",
       "      <th></th>\n",
       "      <th></th>\n",
       "    </tr>\n",
       "  </thead>\n",
       "  <tbody>\n",
       "    <tr>\n",
       "      <th>False</th>\n",
       "      <td>7.0</td>\n",
       "      <td>8.0</td>\n",
       "      <td>2</td>\n",
       "      <td>10</td>\n",
       "    </tr>\n",
       "    <tr>\n",
       "      <th>True</th>\n",
       "      <td>10.0</td>\n",
       "      <td>10.0</td>\n",
       "      <td>10</td>\n",
       "      <td>10</td>\n",
       "    </tr>\n",
       "  </tbody>\n",
       "</table>\n",
       "</div>"
      ],
      "text/plain": [
       "        mean  median  min  max\n",
       "aiMode                        \n",
       "False    7.0     8.0    2   10\n",
       "True    10.0    10.0   10   10"
      ]
     },
     "execution_count": 41,
     "metadata": {},
     "output_type": "execute_result"
    }
   ],
   "source": [
    "feedback_data.drop_duplicates(\"game_id\").groupby(\"aiMode\")[\"correct\"].agg(\n",
    "    [\"mean\", \"median\", \"min\", \"max\"]\n",
    ")"
   ]
  },
  {
   "cell_type": "markdown",
   "id": "6983bab9",
   "metadata": {},
   "source": [
    "## Werden Teilnehmende mit der Zeit schneller? (KI vs. ohne KI)"
   ]
  },
  {
   "cell_type": "code",
   "execution_count": null,
   "id": "2e53ef5d",
   "metadata": {},
   "outputs": [
    {
     "data": {
      "text/plain": [
       "<Axes: title={'center': 'Durchschn. Antwortzeit pro Frage an Position (mit KI)'}, xlabel='Frageposition', ylabel='Antwortzeit in Sekunden'>"
      ]
     },
     "execution_count": 55,
     "metadata": {},
     "output_type": "execute_result"
    },
    {
     "data": {
      "image/png": "[encoded data removed]",
      "text/plain": [
       "<Figure size 640x480 with 1 Axes>"
      ]
     },
     "metadata": {},
     "output_type": "display_data"
    }
   ],
   "source": [
    "feedback_data[feedback_data[\"aiMode\"]].groupby(\"question_pos\")[\n",
    "    \"responseTime\"\n",
    "].mean().plot(\n",
    "    title=\"Durchschn. Antwortzeit pro Frage an Position (mit KI)\",\n",
    "    xlabel=\"Frageposition\",\n",
    "    ylabel=\"Antwortzeit in Sekunden\",\n",
    ")"
   ]
  },
  {
   "cell_type": "code",
   "execution_count": null,
   "id": "2646d58a",
   "metadata": {},
   "outputs": [
    {
     "data": {
      "text/plain": [
       "<Axes: title={'center': 'Durchschn. Antwortzeit pro Frage an Position (ohne KI)'}, xlabel='Frageposition', ylabel='Antwortzeit in Sekunden'>"
      ]
     },
     "execution_count": 56,
     "metadata": {},
     "output_type": "execute_result"
    },
    {
     "data": {
      "image/png": "[encoded data removed]",
      "text/plain": [
       "<Figure size 640x480 with 1 Axes>"
      ]
     },
     "metadata": {},
     "output_type": "display_data"
    }
   ],
   "source": [
    "feedback_data[~feedback_data[\"aiMode\"]].groupby(\"question_pos\")[\n",
    "    \"responseTime\"\n",
    "].mean().plot(\n",
    "    title=\"Durchschn. Antwortzeit pro Frage an Position (ohne KI)\",\n",
    "    xlabel=\"Frageposition\",\n",
    "    ylabel=\"Antwortzeit in Sekunden\",\n",
    ")"
   ]
  },
  {
   "cell_type": "markdown",
   "id": "d0da2332",
   "metadata": {},
   "source": [
    "# Welche Kategorie wird wie oft getippt?"
   ]
  },
  {
   "cell_type": "code",
   "execution_count": null,
   "id": "a5bc386b",
   "metadata": {},
   "outputs": [],
   "source": [
    "possible_depts = [\n",
    "    \"Finanzabteilung\",\n",
    "    \"Rechtsabteilung\",\n",
    "    \"Personalabteilung\",\n",
    "    \"Leitungsebene\",\n",
    "    \"Kundenservice\",\n",
    "]"
   ]
  },
  {
   "cell_type": "code",
   "execution_count": null,
   "id": "ce4f36e6",
   "metadata": {},
   "outputs": [
    {
     "data": {
      "application/vnd.microsoft.datawrangler.viewer.v0+json": {
       "columns": [
        {
         "name": "index",
         "rawType": "object",
         "type": "string"
        },
        {
         "name": "Finanzabteilung",
         "rawType": "int64",
         "type": "integer"
        },
        {
         "name": "Rechtsabteilung",
         "rawType": "int64",
         "type": "integer"
        },
        {
         "name": "Personalabteilung",
         "rawType": "int64",
         "type": "integer"
        },
        {
         "name": "Leitungsebene",
         "rawType": "int64",
         "type": "integer"
        },
        {
         "name": "Kundenservice",
         "rawType": "int64",
         "type": "integer"
        }
       ],
       "ref": "438ac057-515b-4bc3-a3e8-b5a257679b70",
       "rows": [
        [
         "Finanzabteilung",
         "16",
         "0",
         "0",
         "3",
         "1"
        ],
        [
         "Rechtsabteilung",
         "0",
         "3",
         "1",
         "1",
         "1"
        ],
        [
         "Personalabteilung",
         "0",
         "0",
         "6",
         "3",
         "0"
        ],
        [
         "Leitungsebene",
         "0",
         "0",
         "0",
         "10",
         "0"
        ],
        [
         "Kundenservice",
         "0",
         "0",
         "0",
         "2",
         "13"
        ]
       ],
       "shape": {
        "columns": 5,
        "rows": 5
       }
      },
      "text/html": [
       "<div>\n",
       "<style scoped>\n",
       "    .dataframe tbody tr th:only-of-type {\n",
       "        vertical-align: middle;\n",
       "    }\n",
       "\n",
       "    .dataframe tbody tr th {\n",
       "        vertical-align: top;\n",
       "    }\n",
       "\n",
       "    .dataframe thead th {\n",
       "        text-align: right;\n",
       "    }\n",
       "</style>\n",
       "<table border=\"1\" class=\"dataframe\">\n",
       "  <thead>\n",
       "    <tr style=\"text-align: right;\">\n",
       "      <th></th>\n",
       "      <th>Finanzabteilung</th>\n",
       "      <th>Rechtsabteilung</th>\n",
       "      <th>Personalabteilung</th>\n",
       "      <th>Leitungsebene</th>\n",
       "      <th>Kundenservice</th>\n",
       "    </tr>\n",
       "  </thead>\n",
       "  <tbody>\n",
       "    <tr>\n",
       "      <th>Finanzabteilung</th>\n",
       "      <td>16</td>\n",
       "      <td>0</td>\n",
       "      <td>0</td>\n",
       "      <td>3</td>\n",
       "      <td>1</td>\n",
       "    </tr>\n",
       "    <tr>\n",
       "      <th>Rechtsabteilung</th>\n",
       "      <td>0</td>\n",
       "      <td>3</td>\n",
       "      <td>1</td>\n",
       "      <td>1</td>\n",
       "      <td>1</td>\n",
       "    </tr>\n",
       "    <tr>\n",
       "      <th>Personalabteilung</th>\n",
       "      <td>0</td>\n",
       "      <td>0</td>\n",
       "      <td>6</td>\n",
       "      <td>3</td>\n",
       "      <td>0</td>\n",
       "    </tr>\n",
       "    <tr>\n",
       "      <th>Leitungsebene</th>\n",
       "      <td>0</td>\n",
       "      <td>0</td>\n",
       "      <td>0</td>\n",
       "      <td>10</td>\n",
       "      <td>0</td>\n",
       "    </tr>\n",
       "    <tr>\n",
       "      <th>Kundenservice</th>\n",
       "      <td>0</td>\n",
       "      <td>0</td>\n",
       "      <td>0</td>\n",
       "      <td>2</td>\n",
       "      <td>13</td>\n",
       "    </tr>\n",
       "  </tbody>\n",
       "</table>\n",
       "</div>"
      ],
      "text/plain": [
       "                   Finanzabteilung  Rechtsabteilung  Personalabteilung  \\\n",
       "Finanzabteilung                 16                0                  0   \n",
       "Rechtsabteilung                  0                3                  1   \n",
       "Personalabteilung                0                0                  6   \n",
       "Leitungsebene                    0                0                  0   \n",
       "Kundenservice                    0                0                  0   \n",
       "\n",
       "                   Leitungsebene  Kundenservice  \n",
       "Finanzabteilung                3              1  \n",
       "Rechtsabteilung                1              1  \n",
       "Personalabteilung              3              0  \n",
       "Leitungsebene                 10              0  \n",
       "Kundenservice                  2             13  "
      ]
     },
     "execution_count": 68,
     "metadata": {},
     "output_type": "execute_result"
    }
   ],
   "source": [
    "# Assuming feedback_data is already defined\n",
    "incorrect_feedback = feedback_data[[\"correctDept\", \"playerChoice\"]]\n",
    "\n",
    "conf_matrix = confusion_matrix(\n",
    "    incorrect_feedback[\"correctDept\"], incorrect_feedback[\"playerChoice\"]\n",
    ")\n",
    "\n",
    "conf_matrix_df = pd.DataFrame(conf_matrix, index=possible_depts, columns=possible_depts)\n",
    "\n",
    "conf_matrix_df"
   ]
  }
 ],
 "metadata": {
  "kernelspec": {
   "display_name": ".venv",
   "language": "python",
   "name": "python3"
  },
  "language_info": {
   "codemirror_mode": {
    "name": "ipython",
    "version": 3
   },
   "file_extension": ".py",
   "mimetype": "text/x-python",
   "name": "python",
   "nbconvert_exporter": "python",
   "pygments_lexer": "ipython3",
   "version": "3.12.5"
  }
 },
 "nbformat": 4,
 "nbformat_minor": 5
}
