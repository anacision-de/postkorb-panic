{
 "cells": [
  {
   "cell_type": "code",
   "execution_count": 69,
   "id": "3755d6b8",
   "metadata": {},
   "outputs": [],
   "source": [
    "from glob import glob\n",
    "import pandas as pd\n",
    "import json\n",
    "from sklearn.metrics import confusion_matrix"
   ]
  },
  {
   "cell_type": "markdown",
   "id": "4396f425",
   "metadata": {},
   "source": [
    "# Auswertung der generierten Daten"
   ]
  },
  {
   "cell_type": "code",
   "execution_count": 70,
   "id": "9e0edf63",
   "metadata": {},
   "outputs": [],
   "source": [
    "files = glob(\"../feedback/*.json\")"
   ]
  },
  {
   "cell_type": "code",
   "execution_count": 71,
   "id": "043b773c",
   "metadata": {},
   "outputs": [
    {
     "data": {
      "text/plain": [
       "['../feedback/Anett.json',\n",
       " '../feedback/Marcel.json',\n",
       " '../feedback/Petra.json',\n",
       " '../feedback/Nicole.json',\n",
       " '../feedback/Anastasia.json',\n",
       " '../feedback/Pascal.json',\n",
       " '../feedback/Eva.json']"
      ]
     },
     "execution_count": 71,
     "metadata": {},
     "output_type": "execute_result"
    }
   ],
   "source": [
    "files"
   ]
  },
  {
   "cell_type": "code",
   "execution_count": 72,
   "id": "5096cd16",
   "metadata": {},
   "outputs": [],
   "source": [
    "feedback = []\n",
    "\n",
    "for file in files:\n",
    "    with open(file) as f:\n",
    "        feedback.extend(json.load(f))"
   ]
  },
  {
   "cell_type": "code",
   "execution_count": 73,
   "id": "a0312ade",
   "metadata": {},
   "outputs": [],
   "source": [
    "feedback_data = []\n",
    "\n",
    "for game_id, f in enumerate(feedback):\n",
    "    for question_id, result in enumerate(f[\"gameResults\"]):\n",
    "        d = {col: val for col, val in f.items() if col != \"gameResults\"}\n",
    "        d[\"game_id\"] = game_id\n",
    "        d[\"question_pos\"] = question_id\n",
    "        for col, value in result.items():\n",
    "            d[col] = value\n",
    "        feedback_data.append(d)"
   ]
  },
  {
   "cell_type": "code",
   "execution_count": 74,
   "id": "cf8b5823",
   "metadata": {},
   "outputs": [],
   "source": [
    "feedback_data = pd.DataFrame(feedback_data)"
   ]
  },
  {
   "cell_type": "markdown",
   "id": "1d89ae79",
   "metadata": {},
   "source": [
    "# Alle E-Mail-Adressen mit Namen auslesen"
   ]
  },
  {
   "cell_type": "code",
   "execution_count": 93,
   "id": "2a9e2cf9",
   "metadata": {},
   "outputs": [
    {
     "data": {
      "application/vnd.microsoft.datawrangler.viewer.v0+json": {
       "columns": [
        {
         "name": "index",
         "rawType": "int64",
         "type": "integer"
        },
        {
         "name": "name",
         "rawType": "object",
         "type": "string"
        },
        {
         "name": "email",
         "rawType": "object",
         "type": "string"
        }
       ],
       "ref": "24903d3f-ca47-4b13-9496-82bc2570ca05",
       "rows": [
        [
         "50",
         "Hase",
         "anett.pohle-monetha@anacision.de"
        ],
        [
         "100",
         "Marcel",
         "marcel"
        ],
        [
         "200",
         "Nicole",
         "hello@gmail.com"
        ],
        [
         "210",
         "Peter",
         "peterlustig@yahoo.de"
        ],
        [
         "220",
         "Gustav",
         "gustav_gans@aol.com"
        ]
       ],
       "shape": {
        "columns": 2,
        "rows": 5
       }
      },
      "text/html": [
       "<div>\n",
       "<style scoped>\n",
       "    .dataframe tbody tr th:only-of-type {\n",
       "        vertical-align: middle;\n",
       "    }\n",
       "\n",
       "    .dataframe tbody tr th {\n",
       "        vertical-align: top;\n",
       "    }\n",
       "\n",
       "    .dataframe thead th {\n",
       "        text-align: right;\n",
       "    }\n",
       "</style>\n",
       "<table border=\"1\" class=\"dataframe\">\n",
       "  <thead>\n",
       "    <tr style=\"text-align: right;\">\n",
       "      <th></th>\n",
       "      <th>name</th>\n",
       "      <th>email</th>\n",
       "    </tr>\n",
       "  </thead>\n",
       "  <tbody>\n",
       "    <tr>\n",
       "      <th>50</th>\n",
       "      <td>Hase</td>\n",
       "      <td>anett.pohle-monetha@anacision.de</td>\n",
       "    </tr>\n",
       "    <tr>\n",
       "      <th>100</th>\n",
       "      <td>Marcel</td>\n",
       "      <td>marcel</td>\n",
       "    </tr>\n",
       "    <tr>\n",
       "      <th>200</th>\n",
       "      <td>Nicole</td>\n",
       "      <td>hello@gmail.com</td>\n",
       "    </tr>\n",
       "    <tr>\n",
       "      <th>210</th>\n",
       "      <td>Peter</td>\n",
       "      <td>peterlustig@yahoo.de</td>\n",
       "    </tr>\n",
       "    <tr>\n",
       "      <th>220</th>\n",
       "      <td>Gustav</td>\n",
       "      <td>gustav_gans@aol.com</td>\n",
       "    </tr>\n",
       "  </tbody>\n",
       "</table>\n",
       "</div>"
      ],
      "text/plain": [
       "       name                             email\n",
       "50     Hase  anett.pohle-monetha@anacision.de\n",
       "100  Marcel                            marcel\n",
       "200  Nicole                   hello@gmail.com\n",
       "210   Peter              peterlustig@yahoo.de\n",
       "220  Gustav               gustav_gans@aol.com"
      ]
     },
     "execution_count": 93,
     "metadata": {},
     "output_type": "execute_result"
    }
   ],
   "source": [
    "feedback_data[feedback_data[\"email\"] != \"\"][[\"name\", \"email\"]].drop_duplicates()"
   ]
  },
  {
   "cell_type": "markdown",
   "id": "12a4bf7f",
   "metadata": {},
   "source": [
    "# Auswertung\n",
    "\n",
    "## Geschwindigkeit insgesamt mit und ohne KI"
   ]
  },
  {
   "cell_type": "code",
   "execution_count": 76,
   "id": "ed9cc71d",
   "metadata": {},
   "outputs": [
    {
     "data": {
      "application/vnd.microsoft.datawrangler.viewer.v0+json": {
       "columns": [
        {
         "name": "aiMode",
         "rawType": "bool",
         "type": "boolean"
        },
        {
         "name": "mean",
         "rawType": "float64",
         "type": "float"
        },
        {
         "name": "median",
         "rawType": "float64",
         "type": "float"
        },
        {
         "name": "min",
         "rawType": "float64",
         "type": "float"
        },
        {
         "name": "max",
         "rawType": "float64",
         "type": "float"
        }
       ],
       "ref": "72cf1951-3c0b-43a8-877b-8977d0ab5161",
       "rows": [
        [
         "False",
         "109.66279069767442",
         "90.8",
         "14.1",
         "294.9"
        ],
        [
         "True",
         "57.48529411764706",
         "49.55",
         "17.1",
         "164.6"
        ]
       ],
       "shape": {
        "columns": 4,
        "rows": 2
       }
      },
      "text/html": [
       "<div>\n",
       "<style scoped>\n",
       "    .dataframe tbody tr th:only-of-type {\n",
       "        vertical-align: middle;\n",
       "    }\n",
       "\n",
       "    .dataframe tbody tr th {\n",
       "        vertical-align: top;\n",
       "    }\n",
       "\n",
       "    .dataframe thead th {\n",
       "        text-align: right;\n",
       "    }\n",
       "</style>\n",
       "<table border=\"1\" class=\"dataframe\">\n",
       "  <thead>\n",
       "    <tr style=\"text-align: right;\">\n",
       "      <th></th>\n",
       "      <th>mean</th>\n",
       "      <th>median</th>\n",
       "      <th>min</th>\n",
       "      <th>max</th>\n",
       "    </tr>\n",
       "    <tr>\n",
       "      <th>aiMode</th>\n",
       "      <th></th>\n",
       "      <th></th>\n",
       "      <th></th>\n",
       "      <th></th>\n",
       "    </tr>\n",
       "  </thead>\n",
       "  <tbody>\n",
       "    <tr>\n",
       "      <th>False</th>\n",
       "      <td>109.662791</td>\n",
       "      <td>90.80</td>\n",
       "      <td>14.1</td>\n",
       "      <td>294.9</td>\n",
       "    </tr>\n",
       "    <tr>\n",
       "      <th>True</th>\n",
       "      <td>57.485294</td>\n",
       "      <td>49.55</td>\n",
       "      <td>17.1</td>\n",
       "      <td>164.6</td>\n",
       "    </tr>\n",
       "  </tbody>\n",
       "</table>\n",
       "</div>"
      ],
      "text/plain": [
       "              mean  median   min    max\n",
       "aiMode                                 \n",
       "False   109.662791   90.80  14.1  294.9\n",
       "True     57.485294   49.55  17.1  164.6"
      ]
     },
     "execution_count": 76,
     "metadata": {},
     "output_type": "execute_result"
    }
   ],
   "source": [
    "feedback_data.drop_duplicates(\"game_id\").groupby(\"aiMode\")[\"totalTime\"].agg(\n",
    "    [\"mean\", \"median\", \"min\", \"max\"]\n",
    ")"
   ]
  },
  {
   "cell_type": "markdown",
   "id": "391a1060",
   "metadata": {},
   "source": [
    "## Geschwindigkeit pro Frage mit und ohne KI"
   ]
  },
  {
   "cell_type": "code",
   "execution_count": 77,
   "id": "31bc1f92",
   "metadata": {},
   "outputs": [
    {
     "data": {
      "application/vnd.microsoft.datawrangler.viewer.v0+json": {
       "columns": [
        {
         "name": "aiMode",
         "rawType": "bool",
         "type": "boolean"
        },
        {
         "name": "mean",
         "rawType": "float64",
         "type": "float"
        },
        {
         "name": "median",
         "rawType": "float64",
         "type": "float"
        },
        {
         "name": "min",
         "rawType": "float64",
         "type": "float"
        },
        {
         "name": "max",
         "rawType": "float64",
         "type": "float"
        }
       ],
       "ref": "4353d189-c0f1-4e89-97cf-2cf47ef15e32",
       "rows": [
        [
         "False",
         "9.977151162790697",
         "7.3235",
         "0.06",
         "68.663"
        ],
        [
         "True",
         "4.810820588235295",
         "3.146",
         "0.578",
         "46.331"
        ]
       ],
       "shape": {
        "columns": 4,
        "rows": 2
       }
      },
      "text/html": [
       "<div>\n",
       "<style scoped>\n",
       "    .dataframe tbody tr th:only-of-type {\n",
       "        vertical-align: middle;\n",
       "    }\n",
       "\n",
       "    .dataframe tbody tr th {\n",
       "        vertical-align: top;\n",
       "    }\n",
       "\n",
       "    .dataframe thead th {\n",
       "        text-align: right;\n",
       "    }\n",
       "</style>\n",
       "<table border=\"1\" class=\"dataframe\">\n",
       "  <thead>\n",
       "    <tr style=\"text-align: right;\">\n",
       "      <th></th>\n",
       "      <th>mean</th>\n",
       "      <th>median</th>\n",
       "      <th>min</th>\n",
       "      <th>max</th>\n",
       "    </tr>\n",
       "    <tr>\n",
       "      <th>aiMode</th>\n",
       "      <th></th>\n",
       "      <th></th>\n",
       "      <th></th>\n",
       "      <th></th>\n",
       "    </tr>\n",
       "  </thead>\n",
       "  <tbody>\n",
       "    <tr>\n",
       "      <th>False</th>\n",
       "      <td>9.977151</td>\n",
       "      <td>7.3235</td>\n",
       "      <td>0.060</td>\n",
       "      <td>68.663</td>\n",
       "    </tr>\n",
       "    <tr>\n",
       "      <th>True</th>\n",
       "      <td>4.810821</td>\n",
       "      <td>3.1460</td>\n",
       "      <td>0.578</td>\n",
       "      <td>46.331</td>\n",
       "    </tr>\n",
       "  </tbody>\n",
       "</table>\n",
       "</div>"
      ],
      "text/plain": [
       "            mean  median    min     max\n",
       "aiMode                                 \n",
       "False   9.977151  7.3235  0.060  68.663\n",
       "True    4.810821  3.1460  0.578  46.331"
      ]
     },
     "execution_count": 77,
     "metadata": {},
     "output_type": "execute_result"
    }
   ],
   "source": [
    "feedback_data.groupby(\"aiMode\")[\"responseTime\"].agg([\"mean\", \"median\", \"min\", \"max\"])"
   ]
  },
  {
   "cell_type": "markdown",
   "id": "0aa66471",
   "metadata": {},
   "source": [
    "# Anzahl der korrekten Antworten mit und ohne KI"
   ]
  },
  {
   "cell_type": "code",
   "execution_count": 78,
   "id": "afd0146c",
   "metadata": {},
   "outputs": [
    {
     "data": {
      "application/vnd.microsoft.datawrangler.viewer.v0+json": {
       "columns": [
        {
         "name": "aiMode",
         "rawType": "bool",
         "type": "boolean"
        },
        {
         "name": "mean",
         "rawType": "float64",
         "type": "float"
        },
        {
         "name": "median",
         "rawType": "float64",
         "type": "float"
        },
        {
         "name": "min",
         "rawType": "int64",
         "type": "integer"
        },
        {
         "name": "max",
         "rawType": "int64",
         "type": "integer"
        }
       ],
       "ref": "5e9a6bea-7596-4152-8d2e-f18034d3d496",
       "rows": [
        [
         "False",
         "8.465116279069768",
         "9.0",
         "2",
         "10"
        ],
        [
         "True",
         "9.852941176470589",
         "10.0",
         "8",
         "10"
        ]
       ],
       "shape": {
        "columns": 4,
        "rows": 2
       }
      },
      "text/html": [
       "<div>\n",
       "<style scoped>\n",
       "    .dataframe tbody tr th:only-of-type {\n",
       "        vertical-align: middle;\n",
       "    }\n",
       "\n",
       "    .dataframe tbody tr th {\n",
       "        vertical-align: top;\n",
       "    }\n",
       "\n",
       "    .dataframe thead th {\n",
       "        text-align: right;\n",
       "    }\n",
       "</style>\n",
       "<table border=\"1\" class=\"dataframe\">\n",
       "  <thead>\n",
       "    <tr style=\"text-align: right;\">\n",
       "      <th></th>\n",
       "      <th>mean</th>\n",
       "      <th>median</th>\n",
       "      <th>min</th>\n",
       "      <th>max</th>\n",
       "    </tr>\n",
       "    <tr>\n",
       "      <th>aiMode</th>\n",
       "      <th></th>\n",
       "      <th></th>\n",
       "      <th></th>\n",
       "      <th></th>\n",
       "    </tr>\n",
       "  </thead>\n",
       "  <tbody>\n",
       "    <tr>\n",
       "      <th>False</th>\n",
       "      <td>8.465116</td>\n",
       "      <td>9.0</td>\n",
       "      <td>2</td>\n",
       "      <td>10</td>\n",
       "    </tr>\n",
       "    <tr>\n",
       "      <th>True</th>\n",
       "      <td>9.852941</td>\n",
       "      <td>10.0</td>\n",
       "      <td>8</td>\n",
       "      <td>10</td>\n",
       "    </tr>\n",
       "  </tbody>\n",
       "</table>\n",
       "</div>"
      ],
      "text/plain": [
       "            mean  median  min  max\n",
       "aiMode                            \n",
       "False   8.465116     9.0    2   10\n",
       "True    9.852941    10.0    8   10"
      ]
     },
     "execution_count": 78,
     "metadata": {},
     "output_type": "execute_result"
    }
   ],
   "source": [
    "feedback_data.drop_duplicates(\"game_id\").groupby(\"aiMode\")[\"correct\"].agg(\n",
    "    [\"mean\", \"median\", \"min\", \"max\"]\n",
    ")"
   ]
  },
  {
   "cell_type": "markdown",
   "id": "6983bab9",
   "metadata": {},
   "source": [
    "## Werden Teilnehmende mit der Zeit schneller? (KI vs. ohne KI)"
   ]
  },
  {
   "cell_type": "code",
   "execution_count": 79,
   "id": "2e53ef5d",
   "metadata": {},
   "outputs": [
    {
     "data": {
      "text/plain": [
       "<Axes: title={'center': 'Durchschn. Antwortzeit pro Frage an Position (mit KI)'}, xlabel='Frageposition', ylabel='Antwortzeit in Sekunden'>"
      ]
     },
     "execution_count": 79,
     "metadata": {},
     "output_type": "execute_result"
    },
    {
     "data": {
      "image/png": "[encoded data removed]",
      "text/plain": [
       "<Figure size 640x480 with 1 Axes>"
      ]
     },
     "metadata": {},
     "output_type": "display_data"
    }
   ],
   "source": [
    "feedback_data[feedback_data[\"aiMode\"]].groupby(\"question_pos\")[\n",
    "    \"responseTime\"\n",
    "].mean().plot(\n",
    "    title=\"Durchschn. Antwortzeit pro Frage an Position (mit KI)\",\n",
    "    xlabel=\"Frageposition\",\n",
    "    ylabel=\"Antwortzeit in Sekunden\",\n",
    ")"
   ]
  },
  {
   "cell_type": "code",
   "execution_count": 80,
   "id": "2646d58a",
   "metadata": {},
   "outputs": [
    {
     "data": {
      "text/plain": [
       "<Axes: title={'center': 'Durchschn. Antwortzeit pro Frage an Position (ohne KI)'}, xlabel='Frageposition', ylabel='Antwortzeit in Sekunden'>"
      ]
     },
     "execution_count": 80,
     "metadata": {},
     "output_type": "execute_result"
    },
    {
     "data": {
      "image/png": "[encoded data removed]",
      "text/plain": [
       "<Figure size 640x480 with 1 Axes>"
      ]
     },
     "metadata": {},
     "output_type": "display_data"
    }
   ],
   "source": [
    "feedback_data[~feedback_data[\"aiMode\"]].groupby(\"question_pos\")[\n",
    "    \"responseTime\"\n",
    "].mean().plot(\n",
    "    title=\"Durchschn. Antwortzeit pro Frage an Position (ohne KI)\",\n",
    "    xlabel=\"Frageposition\",\n",
    "    ylabel=\"Antwortzeit in Sekunden\",\n",
    ")"
   ]
  },
  {
   "cell_type": "markdown",
   "id": "d0da2332",
   "metadata": {},
   "source": [
    "# Welche Kategorie wird wie oft getippt?"
   ]
  },
  {
   "cell_type": "code",
   "execution_count": 81,
   "id": "a5bc386b",
   "metadata": {},
   "outputs": [],
   "source": [
    "possible_depts = [\n",
    "    \"Finanzabteilung\",\n",
    "    \"Rechtsabteilung\",\n",
    "    \"Personalabteilung\",\n",
    "    \"Leitungsebene\",\n",
    "    \"Kundenservice\",\n",
    "]"
   ]
  },
  {
   "cell_type": "code",
   "execution_count": 82,
   "id": "ce4f36e6",
   "metadata": {},
   "outputs": [
    {
     "data": {
      "application/vnd.microsoft.datawrangler.viewer.v0+json": {
       "columns": [
        {
         "name": "index",
         "rawType": "object",
         "type": "string"
        },
        {
         "name": "Finanzabteilung",
         "rawType": "int64",
         "type": "integer"
        },
        {
         "name": "Rechtsabteilung",
         "rawType": "int64",
         "type": "integer"
        },
        {
         "name": "Personalabteilung",
         "rawType": "int64",
         "type": "integer"
        },
        {
         "name": "Leitungsebene",
         "rawType": "int64",
         "type": "integer"
        },
        {
         "name": "Kundenservice",
         "rawType": "int64",
         "type": "integer"
        }
       ],
       "ref": "2b5ddad3-df27-4927-be0a-32abd777b0bf",
       "rows": [
        [
         "Finanzabteilung",
         "124",
         "0",
         "6",
         "4",
         "7"
        ],
        [
         "Rechtsabteilung",
         "0",
         "111",
         "4",
         "4",
         "3"
        ],
        [
         "Personalabteilung",
         "2",
         "7",
         "148",
         "8",
         "2"
        ],
        [
         "Leitungsebene",
         "0",
         "4",
         "2",
         "176",
         "1"
        ],
        [
         "Kundenservice",
         "2",
         "10",
         "2",
         "3",
         "140"
        ]
       ],
       "shape": {
        "columns": 5,
        "rows": 5
       }
      },
      "text/html": [
       "<div>\n",
       "<style scoped>\n",
       "    .dataframe tbody tr th:only-of-type {\n",
       "        vertical-align: middle;\n",
       "    }\n",
       "\n",
       "    .dataframe tbody tr th {\n",
       "        vertical-align: top;\n",
       "    }\n",
       "\n",
       "    .dataframe thead th {\n",
       "        text-align: right;\n",
       "    }\n",
       "</style>\n",
       "<table border=\"1\" class=\"dataframe\">\n",
       "  <thead>\n",
       "    <tr style=\"text-align: right;\">\n",
       "      <th></th>\n",
       "      <th>Finanzabteilung</th>\n",
       "      <th>Rechtsabteilung</th>\n",
       "      <th>Personalabteilung</th>\n",
       "      <th>Leitungsebene</th>\n",
       "      <th>Kundenservice</th>\n",
       "    </tr>\n",
       "  </thead>\n",
       "  <tbody>\n",
       "    <tr>\n",
       "      <th>Finanzabteilung</th>\n",
       "      <td>124</td>\n",
       "      <td>0</td>\n",
       "      <td>6</td>\n",
       "      <td>4</td>\n",
       "      <td>7</td>\n",
       "    </tr>\n",
       "    <tr>\n",
       "      <th>Rechtsabteilung</th>\n",
       "      <td>0</td>\n",
       "      <td>111</td>\n",
       "      <td>4</td>\n",
       "      <td>4</td>\n",
       "      <td>3</td>\n",
       "    </tr>\n",
       "    <tr>\n",
       "      <th>Personalabteilung</th>\n",
       "      <td>2</td>\n",
       "      <td>7</td>\n",
       "      <td>148</td>\n",
       "      <td>8</td>\n",
       "      <td>2</td>\n",
       "    </tr>\n",
       "    <tr>\n",
       "      <th>Leitungsebene</th>\n",
       "      <td>0</td>\n",
       "      <td>4</td>\n",
       "      <td>2</td>\n",
       "      <td>176</td>\n",
       "      <td>1</td>\n",
       "    </tr>\n",
       "    <tr>\n",
       "      <th>Kundenservice</th>\n",
       "      <td>2</td>\n",
       "      <td>10</td>\n",
       "      <td>2</td>\n",
       "      <td>3</td>\n",
       "      <td>140</td>\n",
       "    </tr>\n",
       "  </tbody>\n",
       "</table>\n",
       "</div>"
      ],
      "text/plain": [
       "                   Finanzabteilung  Rechtsabteilung  Personalabteilung  \\\n",
       "Finanzabteilung                124                0                  6   \n",
       "Rechtsabteilung                  0              111                  4   \n",
       "Personalabteilung                2                7                148   \n",
       "Leitungsebene                    0                4                  2   \n",
       "Kundenservice                    2               10                  2   \n",
       "\n",
       "                   Leitungsebene  Kundenservice  \n",
       "Finanzabteilung                4              7  \n",
       "Rechtsabteilung                4              3  \n",
       "Personalabteilung              8              2  \n",
       "Leitungsebene                176              1  \n",
       "Kundenservice                  3            140  "
      ]
     },
     "execution_count": 82,
     "metadata": {},
     "output_type": "execute_result"
    }
   ],
   "source": [
    "# Assuming feedback_data is already defined\n",
    "incorrect_feedback = feedback_data[[\"correctDept\", \"playerChoice\"]]\n",
    "\n",
    "conf_matrix = confusion_matrix(\n",
    "    incorrect_feedback[\"correctDept\"], incorrect_feedback[\"playerChoice\"]\n",
    ")\n",
    "\n",
    "conf_matrix_df = pd.DataFrame(conf_matrix, index=possible_depts, columns=possible_depts)\n",
    "\n",
    "conf_matrix_df"
   ]
  }
 ],
 "metadata": {
  "kernelspec": {
   "display_name": ".venv",
   "language": "python",
   "name": "python3"
  },
  "language_info": {
   "codemirror_mode": {
    "name": "ipython",
    "version": 3
   },
   "file_extension": ".py",
   "mimetype": "text/x-python",
   "name": "python",
   "nbconvert_exporter": "python",
   "pygments_lexer": "ipython3",
   "version": "3.12.5"
  }
 },
 "nbformat": 4,
 "nbformat_minor": 5
}
